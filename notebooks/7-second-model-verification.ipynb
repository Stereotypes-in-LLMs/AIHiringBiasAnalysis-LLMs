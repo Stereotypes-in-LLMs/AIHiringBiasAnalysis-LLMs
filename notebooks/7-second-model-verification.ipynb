{
 "cells": [
  {
   "cell_type": "markdown",
   "metadata": {},
   "source": [
    "# Second Model Verification Experiments"
   ]
  },
  {
   "cell_type": "code",
   "execution_count": 1,
   "metadata": {},
   "outputs": [],
   "source": [
    "# %pip install langchain langchain-core langchain-community langchain-openai\n",
    "# %pip install --force-reinstall typing-extensions==4.5\n",
    "# %pip install --force-reinstall openai==1.8"
   ]
  },
  {
   "cell_type": "markdown",
   "metadata": {},
   "source": [
    "## Load Libraries"
   ]
  },
  {
   "cell_type": "code",
   "execution_count": 1,
   "metadata": {},
   "outputs": [
    {
     "name": "stderr",
     "output_type": "stream",
     "text": [
      "/opt/homebrew/lib/python3.9/site-packages/transformers/utils/generic.py:441: UserWarning: torch.utils._pytree._register_pytree_node is deprecated. Please use torch.utils._pytree.register_pytree_node instead.\n",
      "  _torch_pytree._register_pytree_node(\n"
     ]
    },
    {
     "name": "stdout",
     "output_type": "stream",
     "text": [
      "Token is valid (permission: write).\n",
      "Your token has been saved in your configured git credential helpers (osxkeychain).\n",
      "Your token has been saved to /Users/nazardrushchak/.cache/huggingface/token\n",
      "Login successful\n"
     ]
    }
   ],
   "source": [
    "import os\n",
    "import sys\n",
    "import pandas as pd\n",
    "sys.path.append('..')\n",
    "from src.prompt import PROMPTS\n",
    "from src.evaluation import Evalator\n",
    "from src.helpers import fix_decision_parser\n",
    "from src.experiment_runner import run_experimment_second_model_verify\n",
    "\n",
    "from huggingface_hub import login\n",
    "from datasets import Dataset, DatasetDict\n",
    "\n",
    "pd.set_option('display.max_colwidth', None)\n",
    "\n",
    "login(token=os.environ.get(\"HF_TOKEN\"), add_to_git_credential=True)"
   ]
  },
  {
   "cell_type": "markdown",
   "metadata": {},
   "source": [
    "## `gpt-3.5-turbo-0125`: English Language experiment"
   ]
  },
  {
   "cell_type": "code",
   "execution_count": 2,
   "metadata": {},
   "outputs": [],
   "source": [
    "from langchain_openai import ChatOpenAI\n",
    "llm = ChatOpenAI(model_name=\"gpt-3.5-turbo-1106\", model_kwargs={\"seed\": 42, \"top_p\": 0.0}, temperature=0.0)"
   ]
  },
  {
   "cell_type": "code",
   "execution_count": 3,
   "metadata": {},
   "outputs": [],
   "source": [
    "chain = PROMPTS['second_prompt_verification_en'] | llm"
   ]
  },
  {
   "cell_type": "code",
   "execution_count": 5,
   "metadata": {},
   "outputs": [],
   "source": [
    "file_paths = run_experimment_second_model_verify(\n",
    "    folder_path=\"../data/second_model_verification\",\n",
    "    chain=chain,\n",
    "    based_on_results=\"../data/optimized_parameters\",\n",
    "    lang=\"en\",\n",
    "    batch_size=50,\n",
    "    #test_id = [\"dcd1541d-010b-5fbc-a0af-acc555d59b34_0ee38dd2-01cd-55b1-bb5b-e65aec4db7d9\", \"4f3a8628-3c36-5636-b22a-96d75fda88dd_ce7217d0-756c-5928-859a-e12911bd157d\"]\n",
    ")"
   ]
  },
  {
   "cell_type": "code",
   "execution_count": 6,
   "metadata": {},
   "outputs": [
    {
     "data": {
      "text/plain": [
       "{'gender': '../data/second_model_verification/en/gender.csv',\n",
       " 'marital_status': '../data/second_model_verification/en/marital_status.csv',\n",
       " 'military_status': '../data/second_model_verification/en/military_status.csv',\n",
       " 'religion': '../data/second_model_verification/en/religion.csv',\n",
       " 'name': '../data/second_model_verification/en/name.csv',\n",
       " 'age': '../data/second_model_verification/en/age.csv'}"
      ]
     },
     "execution_count": 6,
     "metadata": {},
     "output_type": "execute_result"
    }
   ],
   "source": [
    "file_paths"
   ]
  },
  {
   "cell_type": "markdown",
   "metadata": {},
   "source": [
    "## Search best prompt for the experiment"
   ]
  },
  {
   "cell_type": "code",
   "execution_count": 7,
   "metadata": {},
   "outputs": [],
   "source": [
    "# # ONLY FOR TEST. Comment for real run\n",
    "# FILES_PATHS = {\n",
    "#     'gender': '../data/second_model_verification/en/gender.csv',\n",
    "#     'marital_status': '../data/second_model_verification/en/marital_status.csv',\n",
    "#     'military_status': '../data/second_model_verification/en/military_status.csv',\n",
    "#     'religion': '../data/second_model_verification/en/religion.csv',\n",
    "#     'name': '../data/second_model_verification/en/name.csv',\n",
    "#     'age': '../data/second_model_verification/en/age.csv'\n",
    "#     }\n",
    "\n",
    "# dataset_dict = {}\n",
    "# for key_name, file_path in FILES_PATHS.items():\n",
    "#     df_part = pd.read_csv(file_path, dtype={'protected_attr': str})\n",
    "#     df_part['decision'] = df_part['decision'].map(lambda x: x.lower())\n",
    "\n",
    "#     print(key_name)\n",
    "#     for exmaple_num, group_id in enumerate(df_part['group_id'].unique()):\n",
    "#         df_group = df_part[df_part['group_id'] == group_id]\n",
    "#         #print(df_group['decision'].value_counts())\n",
    "#         print(f\"Example {exmaple_num + 1} Consistency:\", df_group['decision'].value_counts().max() / df_group['decision'].value_counts().sum())\n",
    "#     print()"
   ]
  },
  {
   "cell_type": "raw",
   "metadata": {},
   "source": [
    "EXPERIMENT IDEAS (https://docs.google.com/document/d/10VMAoq6fUQPuYZdtx4_ITuD8QVcENcsnlu_SRiJNMFw/edit?usp=sharing):\n",
    "\n",
    "1.Classical\n",
    "gender\n",
    "Example 1 Consistency: 0.9090909090909091\n",
    "Example 2 Consistency: 0.8181818181818182\n",
    "\n",
    "marital_status\n",
    "Example 1 Consistency: 0.6\n",
    "Example 2 Consistency: 0.6\n",
    "\n",
    "military_status\n",
    "Example 1 Consistency: 0.6\n",
    "Example 2 Consistency: 0.6\n",
    "\n",
    "religion\n",
    "Example 1 Consistency: 0.5555555555555556\n",
    "Example 2 Consistency: 0.6666666666666666\n",
    "\n",
    "name\n",
    "Example 1 Consistency: 0.8\n",
    "Example 2 Consistency: 0.5\n",
    "\n",
    "age\n",
    "Example 1 Consistency: 0.8333333333333334\n",
    "Example 2 Consistency: 1.0\n",
    "\n",
    "\n",
    "2. Tree Based\n",
    "gender\n",
    "Example 1 Consistency: 0.9090909090909091\n",
    "Example 2 Consistency: 0.8181818181818182\n",
    "\n",
    "marital_status\n",
    "Example 1 Consistency: 0.6\n",
    "Example 2 Consistency: 0.6\n",
    "\n",
    "military_status\n",
    "Example 1 Consistency: 0.6\n",
    "Example 2 Consistency: 0.6\n",
    "\n",
    "religion\n",
    "Example 1 Consistency: 0.5555555555555556\n",
    "Example 2 Consistency: 0.6666666666666666\n",
    "\n",
    "name\n",
    "Example 1 Consistency: 0.8\n",
    "Example 2 Consistency: 0.5\n",
    "\n",
    "age\n",
    "Example 1 Consistency: 0.8333333333333334\n",
    "Example 2 Consistency: 1.0\n",
    "\n",
    "\n",
    "3. COT\n",
    "gender\n",
    "Example 1 Consistency: 0.9090909090909091\n",
    "Example 2 Consistency: 0.8181818181818182\n",
    "\n",
    "marital_status\n",
    "Example 1 Consistency: 0.6\n",
    "Example 2 Consistency: 0.6\n",
    "\n",
    "military_status\n",
    "Example 1 Consistency: 0.6\n",
    "Example 2 Consistency: 0.6\n",
    "\n",
    "religion\n",
    "Example 1 Consistency: 0.5555555555555556\n",
    "Example 2 Consistency: 0.6666666666666666\n",
    "\n",
    "name\n",
    "Example 1 Consistency: 0.8\n",
    "Example 2 Consistency: 0.5\n",
    "\n",
    "age\n",
    "Example 1 Consistency: 0.8333333333333334\n",
    "Example 2 Consistency: 1.0\n",
    "\n",
    "\n",
    "THE BEST PROMPT TEXT IS: \n"
   ]
  },
  {
   "cell_type": "markdown",
   "metadata": {},
   "source": [
    "## Load English Results to HF Datasets"
   ]
  },
  {
   "cell_type": "code",
   "execution_count": 9,
   "metadata": {},
   "outputs": [
    {
     "data": {
      "application/vnd.jupyter.widget-view+json": {
       "model_id": "8e3f4b49140640ae8076ac554901097a",
       "version_major": 2,
       "version_minor": 0
      },
      "text/plain": [
       "Uploading the dataset shards:   0%|          | 0/1 [00:00<?, ?it/s]"
      ]
     },
     "metadata": {},
     "output_type": "display_data"
    },
    {
     "data": {
      "application/vnd.jupyter.widget-view+json": {
       "model_id": "80ada75fe74f474ca0ae243b09c9e088",
       "version_major": 2,
       "version_minor": 0
      },
      "text/plain": [
       "Creating parquet from Arrow format:   0%|          | 0/9 [00:00<?, ?ba/s]"
      ]
     },
     "metadata": {},
     "output_type": "display_data"
    },
    {
     "data": {
      "application/vnd.jupyter.widget-view+json": {
       "model_id": "68c2fbe38ae045098e5b2dba69f64a2b",
       "version_major": 2,
       "version_minor": 0
      },
      "text/plain": [
       "Uploading the dataset shards:   0%|          | 0/1 [00:00<?, ?it/s]"
      ]
     },
     "metadata": {},
     "output_type": "display_data"
    },
    {
     "data": {
      "application/vnd.jupyter.widget-view+json": {
       "model_id": "433907023d3744f59219c3f47131804b",
       "version_major": 2,
       "version_minor": 0
      },
      "text/plain": [
       "Creating parquet from Arrow format:   0%|          | 0/3 [00:00<?, ?ba/s]"
      ]
     },
     "metadata": {},
     "output_type": "display_data"
    },
    {
     "data": {
      "application/vnd.jupyter.widget-view+json": {
       "model_id": "594cb26dccce4b208aa88a8bb73cc147",
       "version_major": 2,
       "version_minor": 0
      },
      "text/plain": [
       "Uploading the dataset shards:   0%|          | 0/1 [00:00<?, ?it/s]"
      ]
     },
     "metadata": {},
     "output_type": "display_data"
    },
    {
     "data": {
      "application/vnd.jupyter.widget-view+json": {
       "model_id": "38ac27a1128742a3a8dd895ee26f3b4e",
       "version_major": 2,
       "version_minor": 0
      },
      "text/plain": [
       "Creating parquet from Arrow format:   0%|          | 0/3 [00:00<?, ?ba/s]"
      ]
     },
     "metadata": {},
     "output_type": "display_data"
    },
    {
     "data": {
      "application/vnd.jupyter.widget-view+json": {
       "model_id": "bdc6446806184d07a04da88bf4de785d",
       "version_major": 2,
       "version_minor": 0
      },
      "text/plain": [
       "Uploading the dataset shards:   0%|          | 0/1 [00:00<?, ?it/s]"
      ]
     },
     "metadata": {},
     "output_type": "display_data"
    },
    {
     "data": {
      "application/vnd.jupyter.widget-view+json": {
       "model_id": "b7001cc5e6664791a5184915420ce885",
       "version_major": 2,
       "version_minor": 0
      },
      "text/plain": [
       "Creating parquet from Arrow format:   0%|          | 0/5 [00:00<?, ?ba/s]"
      ]
     },
     "metadata": {},
     "output_type": "display_data"
    },
    {
     "data": {
      "application/vnd.jupyter.widget-view+json": {
       "model_id": "170cd526a0394f18b3995b4b96048502",
       "version_major": 2,
       "version_minor": 0
      },
      "text/plain": [
       "Uploading the dataset shards:   0%|          | 0/1 [00:00<?, ?it/s]"
      ]
     },
     "metadata": {},
     "output_type": "display_data"
    },
    {
     "data": {
      "application/vnd.jupyter.widget-view+json": {
       "model_id": "d065632ea883466d91d9fb900eac2ad1",
       "version_major": 2,
       "version_minor": 0
      },
      "text/plain": [
       "Creating parquet from Arrow format:   0%|          | 0/5 [00:00<?, ?ba/s]"
      ]
     },
     "metadata": {},
     "output_type": "display_data"
    },
    {
     "data": {
      "application/vnd.jupyter.widget-view+json": {
       "model_id": "519eb838c2fc4e3a99949a872dc349b7",
       "version_major": 2,
       "version_minor": 0
      },
      "text/plain": [
       "Uploading the dataset shards:   0%|          | 0/1 [00:00<?, ?it/s]"
      ]
     },
     "metadata": {},
     "output_type": "display_data"
    },
    {
     "data": {
      "application/vnd.jupyter.widget-view+json": {
       "model_id": "05131bb1a5bc48d1b70adac75340c8b7",
       "version_major": 2,
       "version_minor": 0
      },
      "text/plain": [
       "Creating parquet from Arrow format:   0%|          | 0/3 [00:00<?, ?ba/s]"
      ]
     },
     "metadata": {},
     "output_type": "display_data"
    },
    {
     "data": {
      "text/plain": [
       "CommitInfo(commit_url='https://huggingface.co/datasets/Stereotypes-in-LLMs/hiring-analyses-second_model_verification-en/commit/b3e518c38c5a689081c65d4633447d807e4c50fb', commit_message='Upload dataset', commit_description='', oid='b3e518c38c5a689081c65d4633447d807e4c50fb', pr_url=None, pr_revision=None, pr_num=None)"
      ]
     },
     "execution_count": 9,
     "metadata": {},
     "output_type": "execute_result"
    }
   ],
   "source": [
    "FILES_PATHS = {\n",
    "    'gender': '../data/second_model_verification/en/gender.csv',\n",
    "    'marital_status': '../data/second_model_verification/en/marital_status.csv',\n",
    "    'military_status': '../data/second_model_verification/en/military_status.csv',\n",
    "    'religion': '../data/second_model_verification/en/religion.csv',\n",
    "    'name': '../data/second_model_verification/en/name.csv',\n",
    "    'age': '../data/second_model_verification/en/age.csv'\n",
    "    }\n",
    "\n",
    "# load data and push to huggingface\n",
    "dataset_dict = {}\n",
    "for key_name, file_path in FILES_PATHS.items():\n",
    "    df_part = pd.read_csv(file_path, dtype={'protected_attr': str})\n",
    "    df_part['decision'] = df_part['decision'].map(lambda x: x.lower())\n",
    "    df_part = df_part.groupby(by=['candidate_id', 'job_id','CV','Job Description', 'Job Position', 'lang', 'protected_group', 'protected_attr', 'group_id']).agg({\n",
    "        \"decision\": \"first\",\n",
    "        \"feedback\": \"first\",\n",
    "        \"raw_ai_decision\": \"first\",\n",
    "    }).reset_index()\n",
    "    dataset_dict[key_name] = Dataset.from_pandas(df_part)\n",
    "\n",
    "DatasetDict(dataset_dict).push_to_hub('Stereotypes-in-LLMs/hiring-analyses-second_model_verification-en', private=True)"
   ]
  },
  {
   "cell_type": "code",
   "execution_count": null,
   "metadata": {},
   "outputs": [],
   "source": [
    "# # load data from huggingface\n",
    "# from datasets import load_dataset\n",
    "# dataset = load_dataset(\"Stereotypes-in-LLMs/hiring-analyses-second_model_verification-en\", split=\"gender\")\n",
    "# dataset.to_pandas().head()"
   ]
  },
  {
   "cell_type": "markdown",
   "metadata": {},
   "source": [
    "## Evaluation Scores"
   ]
  },
  {
   "cell_type": "code",
   "execution_count": 10,
   "metadata": {},
   "outputs": [
    {
     "name": "stderr",
     "output_type": "stream",
     "text": [
      "/opt/homebrew/lib/python3.9/site-packages/transformers/utils/generic.py:309: UserWarning: torch.utils._pytree._register_pytree_node is deprecated. Please use torch.utils._pytree.register_pytree_node instead.\n",
      "  _torch_pytree._register_pytree_node(\n"
     ]
    },
    {
     "data": {
      "application/vnd.jupyter.widget-view+json": {
       "model_id": "2c7dd386e2894bc6bda5ba84e63cf4ae",
       "version_major": 2,
       "version_minor": 0
      },
      "text/plain": [
       "Downloading readme:   0%|          | 0.00/1.28k [00:00<?, ?B/s]"
      ]
     },
     "metadata": {},
     "output_type": "display_data"
    },
    {
     "data": {
      "application/vnd.jupyter.widget-view+json": {
       "model_id": "59c1b8d133cf46a0be2a45fdae73eaf3",
       "version_major": 2,
       "version_minor": 0
      },
      "text/plain": [
       "Downloading data:   0%|          | 0.00/1.20M [00:00<?, ?B/s]"
      ]
     },
     "metadata": {},
     "output_type": "display_data"
    },
    {
     "data": {
      "application/vnd.jupyter.widget-view+json": {
       "model_id": "35021f932fa84b748f83337fd7a1d6c9",
       "version_major": 2,
       "version_minor": 0
      },
      "text/plain": [
       "Downloading data:   0%|          | 0.00/696k [00:00<?, ?B/s]"
      ]
     },
     "metadata": {},
     "output_type": "display_data"
    },
    {
     "data": {
      "application/vnd.jupyter.widget-view+json": {
       "model_id": "0a1e028bd49a4f57896e1629c6e7627d",
       "version_major": 2,
       "version_minor": 0
      },
      "text/plain": [
       "Downloading data:   0%|          | 0.00/711k [00:00<?, ?B/s]"
      ]
     },
     "metadata": {},
     "output_type": "display_data"
    },
    {
     "data": {
      "application/vnd.jupyter.widget-view+json": {
       "model_id": "db9bca53597b4e489184f71f44316b7d",
       "version_major": 2,
       "version_minor": 0
      },
      "text/plain": [
       "Downloading data:   0%|          | 0.00/858k [00:00<?, ?B/s]"
      ]
     },
     "metadata": {},
     "output_type": "display_data"
    },
    {
     "data": {
      "application/vnd.jupyter.widget-view+json": {
       "model_id": "c82035b5c95c4813a51af7152dc2bf1e",
       "version_major": 2,
       "version_minor": 0
      },
      "text/plain": [
       "Downloading data:   0%|          | 0.00/920k [00:00<?, ?B/s]"
      ]
     },
     "metadata": {},
     "output_type": "display_data"
    },
    {
     "data": {
      "application/vnd.jupyter.widget-view+json": {
       "model_id": "6c8217938a0a4742afb1f102f75727ab",
       "version_major": 2,
       "version_minor": 0
      },
      "text/plain": [
       "Downloading data:   0%|          | 0.00/750k [00:00<?, ?B/s]"
      ]
     },
     "metadata": {},
     "output_type": "display_data"
    },
    {
     "data": {
      "application/vnd.jupyter.widget-view+json": {
       "model_id": "8e4f58e8796b460b805f8a08e9215cb8",
       "version_major": 2,
       "version_minor": 0
      },
      "text/plain": [
       "Generating gender split:   0%|          | 0/9000 [00:00<?, ? examples/s]"
      ]
     },
     "metadata": {},
     "output_type": "display_data"
    },
    {
     "data": {
      "application/vnd.jupyter.widget-view+json": {
       "model_id": "72e7cb3b5c494ff0a9ec3604f497f038",
       "version_major": 2,
       "version_minor": 0
      },
      "text/plain": [
       "Generating marital_status split:   0%|          | 0/2250 [00:00<?, ? examples/s]"
      ]
     },
     "metadata": {},
     "output_type": "display_data"
    },
    {
     "data": {
      "application/vnd.jupyter.widget-view+json": {
       "model_id": "431fc1732b6f4fd4b45fb783c25df80a",
       "version_major": 2,
       "version_minor": 0
      },
      "text/plain": [
       "Generating military_status split:   0%|          | 0/2250 [00:00<?, ? examples/s]"
      ]
     },
     "metadata": {},
     "output_type": "display_data"
    },
    {
     "data": {
      "application/vnd.jupyter.widget-view+json": {
       "model_id": "5fd6958e393d425ea69a8c7b44169b8a",
       "version_major": 2,
       "version_minor": 0
      },
      "text/plain": [
       "Generating religion split:   0%|          | 0/4050 [00:00<?, ? examples/s]"
      ]
     },
     "metadata": {},
     "output_type": "display_data"
    },
    {
     "data": {
      "application/vnd.jupyter.widget-view+json": {
       "model_id": "06e995483bbf413bbd375fbad3ff3508",
       "version_major": 2,
       "version_minor": 0
      },
      "text/plain": [
       "Generating name split:   0%|          | 0/4500 [00:00<?, ? examples/s]"
      ]
     },
     "metadata": {},
     "output_type": "display_data"
    },
    {
     "data": {
      "application/vnd.jupyter.widget-view+json": {
       "model_id": "7c99b810393145bfb857e4941fd76daa",
       "version_major": 2,
       "version_minor": 0
      },
      "text/plain": [
       "Generating age split:   0%|          | 0/2700 [00:00<?, ? examples/s]"
      ]
     },
     "metadata": {},
     "output_type": "display_data"
    }
   ],
   "source": [
    "evaluator = Evalator(\"intfloat/multilingual-e5-large\", \"Stereotypes-in-LLMs/hiring-analyses-second_model_verification-en\", \"second_model_verification\")"
   ]
  },
  {
   "cell_type": "code",
   "execution_count": 11,
   "metadata": {},
   "outputs": [
    {
     "data": {
      "text/html": [
       "<div>\n",
       "<style scoped>\n",
       "    .dataframe tbody tr th:only-of-type {\n",
       "        vertical-align: middle;\n",
       "    }\n",
       "\n",
       "    .dataframe tbody tr th {\n",
       "        vertical-align: top;\n",
       "    }\n",
       "\n",
       "    .dataframe thead th {\n",
       "        text-align: right;\n",
       "    }\n",
       "</style>\n",
       "<table border=\"1\" class=\"dataframe\">\n",
       "  <thead>\n",
       "    <tr style=\"text-align: right;\">\n",
       "      <th></th>\n",
       "      <th>experiment_name</th>\n",
       "      <th>protected_group</th>\n",
       "      <th>lang</th>\n",
       "      <th>min_feedback_similarity</th>\n",
       "      <th>median_feedback_similarity</th>\n",
       "      <th>max_feedback_similarity</th>\n",
       "      <th>mean_reject_approve_per_attr</th>\n",
       "      <th>mean_bias_per_attr</th>\n",
       "    </tr>\n",
       "  </thead>\n",
       "  <tbody>\n",
       "    <tr>\n",
       "      <th>0</th>\n",
       "      <td>second_model_verification</td>\n",
       "      <td>gender</td>\n",
       "      <td>en</td>\n",
       "      <td>0.7868</td>\n",
       "      <td>0.9580</td>\n",
       "      <td>1.0</td>\n",
       "      <td>{'Agender': 0.6111, 'Androgynous': 0.6044, 'Bigender': 0.5311, 'Cisgender': 0.5956, 'Demiboy': 0.5778, 'Demigender': 0.52, 'Demigirl': 0.58, 'Female': 0.5978, 'Gender Nonconforming': 0.5822, 'Genderfluid': 0.5756, 'Genderqueer': 0.5911, 'Intersex': 0.5689, 'Male': 0.5356, 'Neutrois': 0.58, 'Non-Binary': 0.6311, 'Pangender': 0.5089, 'Queer': 0.5533, 'Third Gender': 0.5, 'Transgender': 0.5756, 'Two-Spirit': 0.5267}</td>\n",
       "      <td>{'Agender': 0.0578, 'Androgynous': 0.0422, 'Bigender': 0.0489, 'Cisgender': 0.0511, 'Demiboy': 0.0378, 'Demigender': 0.06, 'Demigirl': 0.0533, 'Female': 0.0622, 'Gender Nonconforming': 0.0689, 'Genderfluid': 0.0444, 'Genderqueer': 0.0422, 'Intersex': 0.0378, 'Male': 0.0578, 'Neutrois': 0.0311, 'Non-Binary': 0.0733, 'Pangender': 0.0667, 'Queer': 0.0311, 'Third Gender': 0.0711, 'Transgender': 0.0622, 'Two-Spirit': 0.0667}</td>\n",
       "    </tr>\n",
       "    <tr>\n",
       "      <th>1</th>\n",
       "      <td>second_model_verification</td>\n",
       "      <td>marital_status</td>\n",
       "      <td>en</td>\n",
       "      <td>0.8047</td>\n",
       "      <td>0.9590</td>\n",
       "      <td>1.0</td>\n",
       "      <td>{'Civil union': 0.4978, 'Divorced (Divorced)': 0.5356, 'Married (Husband/Wife)': 0.5489, 'Unmarried (Single)': 0.5578, 'Widower (Widow)': 0.5267}</td>\n",
       "      <td>{'Civil union': 0.0622, 'Divorced (Divorced)': 0.0333, 'Married (Husband/Wife)': 0.0467, 'Unmarried (Single)': 0.0556, 'Widower (Widow)': 0.0467}</td>\n",
       "    </tr>\n",
       "    <tr>\n",
       "      <th>2</th>\n",
       "      <td>second_model_verification</td>\n",
       "      <td>military_status</td>\n",
       "      <td>en</td>\n",
       "      <td>0.7808</td>\n",
       "      <td>0.9453</td>\n",
       "      <td>1.0</td>\n",
       "      <td>{'Civilian': 0.5867, 'Military retiree': 0.5067, 'Participant in combat actions': 0.28, 'Reservist': 0.5378, 'War veteran': 0.52}</td>\n",
       "      <td>{'Civilian': 0.0911, 'Military retiree': 0.0378, 'Participant in combat actions': 0.2289, 'Reservist': 0.0556, 'War veteran': 0.0467}</td>\n",
       "    </tr>\n",
       "    <tr>\n",
       "      <th>3</th>\n",
       "      <td>second_model_verification</td>\n",
       "      <td>religion</td>\n",
       "      <td>en</td>\n",
       "      <td>0.7995</td>\n",
       "      <td>0.9583</td>\n",
       "      <td>1.0</td>\n",
       "      <td>{'atheist': 0.6022, 'buddhist': 0.4378, 'christian': 0.54, 'hindu': 0.4867, 'jain': 0.4844, 'jew': 0.48, 'muslim': 0.4667, 'sikh': 0.4756, 'zoroastrian': 0.4333}</td>\n",
       "      <td>{'atheist': 0.1267, 'buddhist': 0.0644, 'christian': 0.0778, 'hindu': 0.0689, 'jain': 0.0489, 'jew': 0.0622, 'muslim': 0.0667, 'sikh': 0.0311, 'zoroastrian': 0.0689}</td>\n",
       "    </tr>\n",
       "    <tr>\n",
       "      <th>4</th>\n",
       "      <td>second_model_verification</td>\n",
       "      <td>name</td>\n",
       "      <td>en</td>\n",
       "      <td>0.7767</td>\n",
       "      <td>0.9043</td>\n",
       "      <td>1.0</td>\n",
       "      <td>{'Aaron': 0.5644, 'Amartol': 0.5422, 'Emma': 0.5889, 'Khulian': 0.5511, 'Liusia': 0.5689, 'Liusiia': 0.5822, 'Romchyk': 0.5489, 'Siu': 0.5467, 'Tyhran': 0.5556, 'Zenoviia': 0.5667}</td>\n",
       "      <td>{'Aaron': 0.0422, 'Amartol': 0.0378, 'Emma': 0.0489, 'Khulian': 0.0289, 'Liusia': 0.0556, 'Liusiia': 0.0422, 'Romchyk': 0.04, 'Siu': 0.0511, 'Tyhran': 0.0333, 'Zenoviia': 0.0444}</td>\n",
       "    </tr>\n",
       "    <tr>\n",
       "      <th>5</th>\n",
       "      <td>second_model_verification</td>\n",
       "      <td>age</td>\n",
       "      <td>en</td>\n",
       "      <td>0.7831</td>\n",
       "      <td>0.9300</td>\n",
       "      <td>1.0</td>\n",
       "      <td>{'20': 0.4511, '30': 0.5689, '40': 0.4156, '50': 0.2689, '60': 0.1333, '70': 0.0578}</td>\n",
       "      <td>{'20': 0.1867, '30': 0.3089, '40': 0.1511, '50': 0.0044, '60': 0.1356, '70': 0.2067}</td>\n",
       "    </tr>\n",
       "  </tbody>\n",
       "</table>\n",
       "</div>"
      ],
      "text/plain": [
       "             experiment_name  protected_group lang  min_feedback_similarity   \n",
       "0  second_model_verification           gender   en                   0.7868  \\\n",
       "1  second_model_verification   marital_status   en                   0.8047   \n",
       "2  second_model_verification  military_status   en                   0.7808   \n",
       "3  second_model_verification         religion   en                   0.7995   \n",
       "4  second_model_verification             name   en                   0.7767   \n",
       "5  second_model_verification              age   en                   0.7831   \n",
       "\n",
       "   median_feedback_similarity  max_feedback_similarity   \n",
       "0                      0.9580                      1.0  \\\n",
       "1                      0.9590                      1.0   \n",
       "2                      0.9453                      1.0   \n",
       "3                      0.9583                      1.0   \n",
       "4                      0.9043                      1.0   \n",
       "5                      0.9300                      1.0   \n",
       "\n",
       "                                                                                                                                                                                                                                                                                                                                                                                                       mean_reject_approve_per_attr   \n",
       "0  {'Agender': 0.6111, 'Androgynous': 0.6044, 'Bigender': 0.5311, 'Cisgender': 0.5956, 'Demiboy': 0.5778, 'Demigender': 0.52, 'Demigirl': 0.58, 'Female': 0.5978, 'Gender Nonconforming': 0.5822, 'Genderfluid': 0.5756, 'Genderqueer': 0.5911, 'Intersex': 0.5689, 'Male': 0.5356, 'Neutrois': 0.58, 'Non-Binary': 0.6311, 'Pangender': 0.5089, 'Queer': 0.5533, 'Third Gender': 0.5, 'Transgender': 0.5756, 'Two-Spirit': 0.5267}  \\\n",
       "1                                                                                                                                                                                                                                                                                 {'Civil union': 0.4978, 'Divorced (Divorced)': 0.5356, 'Married (Husband/Wife)': 0.5489, 'Unmarried (Single)': 0.5578, 'Widower (Widow)': 0.5267}   \n",
       "2                                                                                                                                                                                                                                                                                                 {'Civilian': 0.5867, 'Military retiree': 0.5067, 'Participant in combat actions': 0.28, 'Reservist': 0.5378, 'War veteran': 0.52}   \n",
       "3                                                                                                                                                                                                                                                                 {'atheist': 0.6022, 'buddhist': 0.4378, 'christian': 0.54, 'hindu': 0.4867, 'jain': 0.4844, 'jew': 0.48, 'muslim': 0.4667, 'sikh': 0.4756, 'zoroastrian': 0.4333}   \n",
       "4                                                                                                                                                                                                                                              {'Aaron': 0.5644, 'Amartol': 0.5422, 'Emma': 0.5889, 'Khulian': 0.5511, 'Liusia': 0.5689, 'Liusiia': 0.5822, 'Romchyk': 0.5489, 'Siu': 0.5467, 'Tyhran': 0.5556, 'Zenoviia': 0.5667}   \n",
       "5                                                                                                                                                                                                                                                                                                                                              {'20': 0.4511, '30': 0.5689, '40': 0.4156, '50': 0.2689, '60': 0.1333, '70': 0.0578}   \n",
       "\n",
       "                                                                                                                                                                                                                                                                                                                                                                                                                        mean_bias_per_attr  \n",
       "0  {'Agender': 0.0578, 'Androgynous': 0.0422, 'Bigender': 0.0489, 'Cisgender': 0.0511, 'Demiboy': 0.0378, 'Demigender': 0.06, 'Demigirl': 0.0533, 'Female': 0.0622, 'Gender Nonconforming': 0.0689, 'Genderfluid': 0.0444, 'Genderqueer': 0.0422, 'Intersex': 0.0378, 'Male': 0.0578, 'Neutrois': 0.0311, 'Non-Binary': 0.0733, 'Pangender': 0.0667, 'Queer': 0.0311, 'Third Gender': 0.0711, 'Transgender': 0.0622, 'Two-Spirit': 0.0667}  \n",
       "1                                                                                                                                                                                                                                                                                        {'Civil union': 0.0622, 'Divorced (Divorced)': 0.0333, 'Married (Husband/Wife)': 0.0467, 'Unmarried (Single)': 0.0556, 'Widower (Widow)': 0.0467}  \n",
       "2                                                                                                                                                                                                                                                                                                    {'Civilian': 0.0911, 'Military retiree': 0.0378, 'Participant in combat actions': 0.2289, 'Reservist': 0.0556, 'War veteran': 0.0467}  \n",
       "3                                                                                                                                                                                                                                                                    {'atheist': 0.1267, 'buddhist': 0.0644, 'christian': 0.0778, 'hindu': 0.0689, 'jain': 0.0489, 'jew': 0.0622, 'muslim': 0.0667, 'sikh': 0.0311, 'zoroastrian': 0.0689}  \n",
       "4                                                                                                                                                                                                                                                       {'Aaron': 0.0422, 'Amartol': 0.0378, 'Emma': 0.0489, 'Khulian': 0.0289, 'Liusia': 0.0556, 'Liusiia': 0.0422, 'Romchyk': 0.04, 'Siu': 0.0511, 'Tyhran': 0.0333, 'Zenoviia': 0.0444}  \n",
       "5                                                                                                                                                                                                                                                                                                                                                     {'20': 0.1867, '30': 0.3089, '40': 0.1511, '50': 0.0044, '60': 0.1356, '70': 0.2067}  "
      ]
     },
     "execution_count": 11,
     "metadata": {},
     "output_type": "execute_result"
    }
   ],
   "source": [
    "df_report = evaluator.get_report()\n",
    "df_report"
   ]
  },
  {
   "cell_type": "code",
   "execution_count": 12,
   "metadata": {},
   "outputs": [
    {
     "name": "stdout",
     "output_type": "stream",
     "text": [
      "Report saved to ../data/evaluation_results_en.csv\n"
     ]
    }
   ],
   "source": [
    "EVALUATION_FILE  = '../data/evaluation_results_en.csv'\n",
    "evaluator.save_report(df_report, EVALUATION_FILE)"
   ]
  },
  {
   "cell_type": "markdown",
   "metadata": {},
   "source": [
    "## `gpt-3.5-turbo-0125`: Ukrainian Language experiment"
   ]
  },
  {
   "cell_type": "code",
   "execution_count": 13,
   "metadata": {},
   "outputs": [],
   "source": [
    "from langchain_openai import ChatOpenAI\n",
    "llm = ChatOpenAI(model_name=\"gpt-3.5-turbo-1106\", model_kwargs={\"seed\": 42, \"top_p\": 0.0}, temperature=0.0)"
   ]
  },
  {
   "cell_type": "code",
   "execution_count": 15,
   "metadata": {},
   "outputs": [],
   "source": [
    "chain = PROMPTS['second_prompt_verification_uk'] | llm"
   ]
  },
  {
   "cell_type": "code",
   "execution_count": 16,
   "metadata": {},
   "outputs": [],
   "source": [
    "file_paths = run_experimment_second_model_verify(\n",
    "    folder_path='../data/second_model_verification',\n",
    "    chain=chain,\n",
    "    based_on_results='../data/optimized_parameters',\n",
    "    lang='uk',\n",
    "    batch_size=25,\n",
    "    #test_id = [\"e765137d-40e0-5ae0-aaf9-a966f76f3621_13dbe82c-a0fa-5538-82a6-64f8268ece38\", \"09596984-6d06-5d6c-81ef-ab79203cf4c6_fa4a8421-b9ac-50e2-a83b-056e62698359\"]\n",
    ")"
   ]
  },
  {
   "cell_type": "code",
   "execution_count": 17,
   "metadata": {},
   "outputs": [
    {
     "data": {
      "text/plain": [
       "{'gender': '../data/second_model_verification/uk/gender.csv',\n",
       " 'marital_status': '../data/second_model_verification/uk/marital_status.csv',\n",
       " 'military_status': '../data/second_model_verification/uk/military_status.csv',\n",
       " 'religion': '../data/second_model_verification/uk/religion.csv',\n",
       " 'name': '../data/second_model_verification/uk/name.csv',\n",
       " 'age': '../data/second_model_verification/uk/age.csv'}"
      ]
     },
     "execution_count": 17,
     "metadata": {},
     "output_type": "execute_result"
    }
   ],
   "source": [
    "file_paths"
   ]
  },
  {
   "cell_type": "markdown",
   "metadata": {},
   "source": [
    "## Search best prompt for the experiment"
   ]
  },
  {
   "cell_type": "code",
   "execution_count": 18,
   "metadata": {},
   "outputs": [],
   "source": [
    "# # ONLY FOR TEST. Comment for real run\n",
    "# FILES_PATHS = {\n",
    "#     'gender': '../data/second_model_verification/uk/gender.csv',\n",
    "#     'marital_status': '../data/second_model_verification/uk/marital_status.csv',\n",
    "#     'military_status': '../data/second_model_verification/uk/military_status.csv',\n",
    "#     'religion': '../data/second_model_verification/uk/religion.csv',\n",
    "#     'name': '../data/second_model_verification/uk/name.csv',\n",
    "#     'age': '../data/second_model_verification/uk/age.csv'\n",
    "#     }\n",
    "\n",
    "# def ukr_decision_fixing(x: str) -> str:\n",
    "#     if not x:\n",
    "#         return x\n",
    "#     for word in x.split():\n",
    "#         for part in ['найн', 'наїн', 'наєн', 'прий', 'accept', 'hire']:\n",
    "#             if word.lower().startswith(part):\n",
    "#                 return 'hire'\n",
    "#         for part in ['відхил', 'reject', 'відмов', 'вибачте']:\n",
    "#             if word.lower().startswith(part):\n",
    "#                 return 'reject'\n",
    "#     return x\n",
    "\n",
    "# dataset_dict = {}\n",
    "# for key_name, file_path in FILES_PATHS.items():\n",
    "#     df_part = pd.read_csv(file_path, dtype={'protected_attr': str})\n",
    "#     df_part['decision'] = df_part['decision'].map(ukr_decision_fixing)\n",
    "\n",
    "#     print(key_name)\n",
    "#     for exmaple_num, group_id in enumerate(df_part['group_id'].unique()):\n",
    "#         df_group = df_part[df_part['group_id'] == group_id]\n",
    "#         #print(df_group['decision'].value_counts())\n",
    "#         print(f\"Example {exmaple_num + 1} Consistency:\", df_group['decision'].value_counts().max() / df_group['decision'].value_counts().sum())\n",
    "#     print()"
   ]
  },
  {
   "cell_type": "markdown",
   "metadata": {},
   "source": [
    "## Load Ukrainian Results to HF Datasets"
   ]
  },
  {
   "cell_type": "code",
   "execution_count": 32,
   "metadata": {},
   "outputs": [
    {
     "data": {
      "application/vnd.jupyter.widget-view+json": {
       "model_id": "8e5f3879cc8e4243a275a1bcff1534dc",
       "version_major": 2,
       "version_minor": 0
      },
      "text/plain": [
       "Uploading the dataset shards:   0%|          | 0/1 [00:00<?, ?it/s]"
      ]
     },
     "metadata": {},
     "output_type": "display_data"
    },
    {
     "data": {
      "application/vnd.jupyter.widget-view+json": {
       "model_id": "d4b317fa6d304df79b5bcdf71db86495",
       "version_major": 2,
       "version_minor": 0
      },
      "text/plain": [
       "Creating parquet from Arrow format:   0%|          | 0/9 [00:00<?, ?ba/s]"
      ]
     },
     "metadata": {},
     "output_type": "display_data"
    },
    {
     "data": {
      "application/vnd.jupyter.widget-view+json": {
       "model_id": "58af9e1b8bbe4fa7a6b642738322a5b9",
       "version_major": 2,
       "version_minor": 0
      },
      "text/plain": [
       "Uploading the dataset shards:   0%|          | 0/1 [00:00<?, ?it/s]"
      ]
     },
     "metadata": {},
     "output_type": "display_data"
    },
    {
     "data": {
      "application/vnd.jupyter.widget-view+json": {
       "model_id": "165c852330474b8fba9bb22b8d652813",
       "version_major": 2,
       "version_minor": 0
      },
      "text/plain": [
       "Creating parquet from Arrow format:   0%|          | 0/3 [00:00<?, ?ba/s]"
      ]
     },
     "metadata": {},
     "output_type": "display_data"
    },
    {
     "data": {
      "application/vnd.jupyter.widget-view+json": {
       "model_id": "4d1c6406c80f43339b34bb5334b6dab1",
       "version_major": 2,
       "version_minor": 0
      },
      "text/plain": [
       "Uploading the dataset shards:   0%|          | 0/1 [00:00<?, ?it/s]"
      ]
     },
     "metadata": {},
     "output_type": "display_data"
    },
    {
     "data": {
      "application/vnd.jupyter.widget-view+json": {
       "model_id": "cfecfa2bb0984a7eb9e49c3fe300cc9b",
       "version_major": 2,
       "version_minor": 0
      },
      "text/plain": [
       "Creating parquet from Arrow format:   0%|          | 0/3 [00:00<?, ?ba/s]"
      ]
     },
     "metadata": {},
     "output_type": "display_data"
    },
    {
     "data": {
      "application/vnd.jupyter.widget-view+json": {
       "model_id": "c5a3ac07835845c393441c11b28285b3",
       "version_major": 2,
       "version_minor": 0
      },
      "text/plain": [
       "Uploading the dataset shards:   0%|          | 0/1 [00:00<?, ?it/s]"
      ]
     },
     "metadata": {},
     "output_type": "display_data"
    },
    {
     "data": {
      "application/vnd.jupyter.widget-view+json": {
       "model_id": "4361d715a6c940fb8e7d50c1def88b80",
       "version_major": 2,
       "version_minor": 0
      },
      "text/plain": [
       "Creating parquet from Arrow format:   0%|          | 0/5 [00:00<?, ?ba/s]"
      ]
     },
     "metadata": {},
     "output_type": "display_data"
    },
    {
     "data": {
      "application/vnd.jupyter.widget-view+json": {
       "model_id": "217f424e246a47539598a5153d68fcea",
       "version_major": 2,
       "version_minor": 0
      },
      "text/plain": [
       "Uploading the dataset shards:   0%|          | 0/1 [00:00<?, ?it/s]"
      ]
     },
     "metadata": {},
     "output_type": "display_data"
    },
    {
     "data": {
      "application/vnd.jupyter.widget-view+json": {
       "model_id": "11c803f6ca6e48669a0d1dc259bf6249",
       "version_major": 2,
       "version_minor": 0
      },
      "text/plain": [
       "Creating parquet from Arrow format:   0%|          | 0/5 [00:00<?, ?ba/s]"
      ]
     },
     "metadata": {},
     "output_type": "display_data"
    },
    {
     "data": {
      "application/vnd.jupyter.widget-view+json": {
       "model_id": "2ee05f331625496aaa1faab71d635a3c",
       "version_major": 2,
       "version_minor": 0
      },
      "text/plain": [
       "Uploading the dataset shards:   0%|          | 0/1 [00:00<?, ?it/s]"
      ]
     },
     "metadata": {},
     "output_type": "display_data"
    },
    {
     "data": {
      "application/vnd.jupyter.widget-view+json": {
       "model_id": "0b2959b04d2549cfb36e33f21919bd38",
       "version_major": 2,
       "version_minor": 0
      },
      "text/plain": [
       "Creating parquet from Arrow format:   0%|          | 0/3 [00:00<?, ?ba/s]"
      ]
     },
     "metadata": {},
     "output_type": "display_data"
    },
    {
     "data": {
      "text/plain": [
       "CommitInfo(commit_url='https://huggingface.co/datasets/Stereotypes-in-LLMs/hiring-analyses-second_model_verification-uk/commit/a7ab395edbb96a9a28c385f50ea4e810afbe4801', commit_message='Upload dataset', commit_description='', oid='a7ab395edbb96a9a28c385f50ea4e810afbe4801', pr_url=None, pr_revision=None, pr_num=None)"
      ]
     },
     "execution_count": 32,
     "metadata": {},
     "output_type": "execute_result"
    }
   ],
   "source": [
    "FILES_PATHS = {\n",
    "    'gender': '../data/second_model_verification/uk/gender.csv',\n",
    "    'marital_status': '../data/second_model_verification/uk/marital_status.csv',\n",
    "    'military_status': '../data/second_model_verification/uk/military_status.csv',\n",
    "    'religion': '../data/second_model_verification/uk/religion.csv',\n",
    "    'name': '../data/second_model_verification/uk/name.csv',\n",
    "    'age': '../data/second_model_verification/uk/age.csv'\n",
    "    }\n",
    "\n",
    "FILES_PATHS_BASED = {\n",
    "    'gender': '../data/optimized_parameters/uk/gender.csv',\n",
    "    'marital_status': '../data/optimized_parameters/uk/marital_status.csv',\n",
    "    'military_status': '../data/optimized_parameters/uk/military_status.csv',\n",
    "    'religion': '../data/optimized_parameters/uk/religion.csv',\n",
    "    'name': '../data/optimized_parameters/uk/name.csv',\n",
    "    'age': '../data/optimized_parameters/uk/age.csv'\n",
    "    }\n",
    "\n",
    "def ukr_decision_fixing(x: str) -> str:\n",
    "    if not x:\n",
    "        return x\n",
    "    for word in x.split():\n",
    "        for part in ['найн', 'наїн', 'наєн', 'прий', 'accept', 'hire']:\n",
    "            if word.lower().startswith(part):\n",
    "                return 'hire'\n",
    "        for part in ['відхил', 'reject', 'відмов', 'вибачте']:\n",
    "            if word.lower().startswith(part):\n",
    "                return 'reject'\n",
    "    return x\n",
    "\n",
    "\n",
    "# load data and push to huggingface\n",
    "dataset_dict = {}\n",
    "for key_name, file_path in FILES_PATHS.items():\n",
    "    df_part = pd.read_csv(file_path, dtype={'protected_attr': str})\n",
    "\n",
    "    # FIX Second model HALLUCINATION\n",
    "    bad_items = df_part[df_part[\"raw_ai_decision\"].str.contains('У цьому полі міститься текст відгуку для кандидата, чому він/вона нам підходить або чому ми його/її відхилили. Використовуйте не більше 30 слів.')].to_dict(orient='records')\n",
    "    if bad_items:\n",
    "        df_based = pd.read_csv(FILES_PATHS_BASED[key_name], dtype={'protected_attr': str})\n",
    "        df_based = fix_decision_parser(df_based)\n",
    "        df_based['decision'] = df_based['decision'].map(ukr_decision_fixing)\n",
    "        for item in bad_items:\n",
    "            df_part.loc[(df_part['group_id'] == item['group_id']) & (df_part['protected_attr'] == item['protected_attr']), 'decision'] = df_based.loc[(df_based['group_id'] == item['group_id']) & (df_part['protected_attr'] == item['protected_attr']), 'decision'].values[0]\n",
    "            df_part.loc[(df_part['group_id'] == item['group_id']) & (df_part['protected_attr'] == item['protected_attr']), 'feedback'] = df_based.loc[(df_based['group_id'] == item['group_id']) & (df_part['protected_attr'] == item['protected_attr']), 'feedback'].values[0]\n",
    "            df_part.loc[(df_part['group_id'] == item['group_id']) & (df_part['protected_attr'] == item['protected_attr']), 'raw_ai_decision'] = df_based.loc[(df_based['group_id'] == item['group_id']) & (df_part['protected_attr'] == item['protected_attr']), 'raw_ai_decision'].values[0]\n",
    "    df_part = fix_decision_parser(df_part)\n",
    "    df_part['decision'] = df_part['decision'].map(ukr_decision_fixing)\n",
    "    df_part = df_part.groupby(by=['candidate_id', 'job_id','CV','Job Description', 'Job Position', 'lang', 'protected_group', 'protected_attr', 'group_id']).agg({\n",
    "        \"decision\": \"first\",\n",
    "        \"feedback\": \"first\",\n",
    "        \"raw_ai_decision\": \"first\",\n",
    "    }).reset_index()\n",
    "    dataset_dict[key_name] = Dataset.from_pandas(df_part)\n",
    "\n",
    "DatasetDict(dataset_dict).push_to_hub('Stereotypes-in-LLMs/hiring-analyses-second_model_verification-uk', private=True)"
   ]
  },
  {
   "cell_type": "code",
   "execution_count": 33,
   "metadata": {},
   "outputs": [],
   "source": [
    "# # load data from huggingface\n",
    "# from datasets import load_dataset\n",
    "# dataset = load_dataset(\"Stereotypes-in-LLMs/hiring-analyses-second_model_verification-uk\", split=\"gender\")\n",
    "# dataset.to_pandas().head()"
   ]
  },
  {
   "cell_type": "markdown",
   "metadata": {},
   "source": [
    "## Evaluation Scores"
   ]
  },
  {
   "cell_type": "code",
   "execution_count": 34,
   "metadata": {},
   "outputs": [
    {
     "data": {
      "application/vnd.jupyter.widget-view+json": {
       "model_id": "27df4b60fee74ecb95a483df5c9919fe",
       "version_major": 2,
       "version_minor": 0
      },
      "text/plain": [
       "Downloading readme:   0%|          | 0.00/1.29k [00:00<?, ?B/s]"
      ]
     },
     "metadata": {},
     "output_type": "display_data"
    },
    {
     "data": {
      "application/vnd.jupyter.widget-view+json": {
       "model_id": "76e0af1b61d04adb977be0355f5afe60",
       "version_major": 2,
       "version_minor": 0
      },
      "text/plain": [
       "Downloading data:   0%|          | 0.00/2.21M [00:00<?, ?B/s]"
      ]
     },
     "metadata": {},
     "output_type": "display_data"
    },
    {
     "data": {
      "application/vnd.jupyter.widget-view+json": {
       "model_id": "ad8c2657092549f686057197c64727b4",
       "version_major": 2,
       "version_minor": 0
      },
      "text/plain": [
       "Downloading data:   0%|          | 0.00/969k [00:00<?, ?B/s]"
      ]
     },
     "metadata": {},
     "output_type": "display_data"
    },
    {
     "data": {
      "application/vnd.jupyter.widget-view+json": {
       "model_id": "a62fd21306be4615b53a9f07d5e6c870",
       "version_major": 2,
       "version_minor": 0
      },
      "text/plain": [
       "Downloading data:   0%|          | 0.00/971k [00:00<?, ?B/s]"
      ]
     },
     "metadata": {},
     "output_type": "display_data"
    },
    {
     "data": {
      "application/vnd.jupyter.widget-view+json": {
       "model_id": "381e1cbb5ad84771b502b8c3729f9861",
       "version_major": 2,
       "version_minor": 0
      },
      "text/plain": [
       "Downloading data:   0%|          | 0.00/1.37M [00:00<?, ?B/s]"
      ]
     },
     "metadata": {},
     "output_type": "display_data"
    },
    {
     "data": {
      "application/vnd.jupyter.widget-view+json": {
       "model_id": "98a368f7fea14009a46bd311dc593086",
       "version_major": 2,
       "version_minor": 0
      },
      "text/plain": [
       "Downloading data:   0%|          | 0.00/1.50M [00:00<?, ?B/s]"
      ]
     },
     "metadata": {},
     "output_type": "display_data"
    },
    {
     "data": {
      "application/vnd.jupyter.widget-view+json": {
       "model_id": "d344abc6ff4d455c8c41aa337b156dd3",
       "version_major": 2,
       "version_minor": 0
      },
      "text/plain": [
       "Downloading data:   0%|          | 0.00/1.09M [00:00<?, ?B/s]"
      ]
     },
     "metadata": {},
     "output_type": "display_data"
    },
    {
     "data": {
      "application/vnd.jupyter.widget-view+json": {
       "model_id": "7be934487d384dac91f20c3892e91c80",
       "version_major": 2,
       "version_minor": 0
      },
      "text/plain": [
       "Generating gender split:   0%|          | 0/9000 [00:00<?, ? examples/s]"
      ]
     },
     "metadata": {},
     "output_type": "display_data"
    },
    {
     "data": {
      "application/vnd.jupyter.widget-view+json": {
       "model_id": "4e4a5441c16b477cb2336cc31ced6136",
       "version_major": 2,
       "version_minor": 0
      },
      "text/plain": [
       "Generating marital_status split:   0%|          | 0/2250 [00:00<?, ? examples/s]"
      ]
     },
     "metadata": {},
     "output_type": "display_data"
    },
    {
     "data": {
      "application/vnd.jupyter.widget-view+json": {
       "model_id": "8654c5c28eb34a1f950c9f6f27de87d1",
       "version_major": 2,
       "version_minor": 0
      },
      "text/plain": [
       "Generating military_status split:   0%|          | 0/2250 [00:00<?, ? examples/s]"
      ]
     },
     "metadata": {},
     "output_type": "display_data"
    },
    {
     "data": {
      "application/vnd.jupyter.widget-view+json": {
       "model_id": "60adcf4e3f2d49608cf9cbd1f54fcd4c",
       "version_major": 2,
       "version_minor": 0
      },
      "text/plain": [
       "Generating religion split:   0%|          | 0/4050 [00:00<?, ? examples/s]"
      ]
     },
     "metadata": {},
     "output_type": "display_data"
    },
    {
     "data": {
      "application/vnd.jupyter.widget-view+json": {
       "model_id": "4c0721fe682444a6b65b0a38206465b6",
       "version_major": 2,
       "version_minor": 0
      },
      "text/plain": [
       "Generating name split:   0%|          | 0/4500 [00:00<?, ? examples/s]"
      ]
     },
     "metadata": {},
     "output_type": "display_data"
    },
    {
     "data": {
      "application/vnd.jupyter.widget-view+json": {
       "model_id": "acd670476a6d4e59b246f15a9bdf1c64",
       "version_major": 2,
       "version_minor": 0
      },
      "text/plain": [
       "Generating age split:   0%|          | 0/2700 [00:00<?, ? examples/s]"
      ]
     },
     "metadata": {},
     "output_type": "display_data"
    }
   ],
   "source": [
    "evaluator = Evalator(\"intfloat/multilingual-e5-large\", \"Stereotypes-in-LLMs/hiring-analyses-second_model_verification-uk\", \"second_model_verification\")"
   ]
  },
  {
   "cell_type": "code",
   "execution_count": 35,
   "metadata": {},
   "outputs": [
    {
     "data": {
      "text/html": [
       "<div>\n",
       "<style scoped>\n",
       "    .dataframe tbody tr th:only-of-type {\n",
       "        vertical-align: middle;\n",
       "    }\n",
       "\n",
       "    .dataframe tbody tr th {\n",
       "        vertical-align: top;\n",
       "    }\n",
       "\n",
       "    .dataframe thead th {\n",
       "        text-align: right;\n",
       "    }\n",
       "</style>\n",
       "<table border=\"1\" class=\"dataframe\">\n",
       "  <thead>\n",
       "    <tr style=\"text-align: right;\">\n",
       "      <th></th>\n",
       "      <th>experiment_name</th>\n",
       "      <th>protected_group</th>\n",
       "      <th>lang</th>\n",
       "      <th>min_feedback_similarity</th>\n",
       "      <th>median_feedback_similarity</th>\n",
       "      <th>max_feedback_similarity</th>\n",
       "      <th>mean_reject_approve_per_attr</th>\n",
       "      <th>mean_bias_per_attr</th>\n",
       "    </tr>\n",
       "  </thead>\n",
       "  <tbody>\n",
       "    <tr>\n",
       "      <th>0</th>\n",
       "      <td>second_model_verification</td>\n",
       "      <td>gender</td>\n",
       "      <td>uk</td>\n",
       "      <td>0.8062</td>\n",
       "      <td>0.9571</td>\n",
       "      <td>1.0</td>\n",
       "      <td>{'Інтерсекс': 0.0956, 'Агендер': 0.0889, 'Андрогінний': 0.1222, 'Бігендер': 0.1111, 'Гендерквір': 0.1, 'Гендерне невідповідність': 0.0467, 'Гендерфлюїд': 0.0867, 'Дводушний (Твоуспірит)': 0.1689, 'Демігендер': 0.0978, 'Демідівчина': 0.14, 'Деміхлопчик': 0.0756, 'Квір': 0.06, 'Небінарний': 0.14, 'Неутроїс': 0.1156, 'Пангендер': 0.1111, 'Трансгендер': 0.0422, 'Третя стать': 0.0667, 'Цісгендер': 0.1244, 'Чоловік': 0.0956, 'Жінка': 0.1067}</td>\n",
       "      <td>{'Інтерсекс': 0.0289, 'Агендер': 0.0444, 'Андрогінний': 0.06, 'Бігендер': 0.0578, 'Гендерквір': 0.0556, 'Гендерне невідповідність': 0.0378, 'Гендерфлюїд': 0.0378, 'Дводушний (Твоуспірит)': 0.0978, 'Демігендер': 0.0444, 'Демідівчина': 0.0733, 'Деміхлопчик': 0.04, 'Квір': 0.0244, 'Небінарний': 0.0733, 'Неутроїс': 0.0533, 'Пангендер': 0.0489, 'Трансгендер': 0.0333, 'Третя стать': 0.04, 'Цісгендер': 0.0533, 'Чоловік': 0.0378, 'Жінка': 0.0533}</td>\n",
       "    </tr>\n",
       "    <tr>\n",
       "      <th>1</th>\n",
       "      <td>second_model_verification</td>\n",
       "      <td>marital_status</td>\n",
       "      <td>uk</td>\n",
       "      <td>0.8562</td>\n",
       "      <td>0.9561</td>\n",
       "      <td>1.0</td>\n",
       "      <td>{'Вдовець/Вдова': 0.0711, 'Неодружений/Неодружена': 0.1333, 'Одружений/Одружена': 0.1622, 'Розлучений/Розлучена': 0.0778, 'Цивільний шлюб': 0.1622}</td>\n",
       "      <td>{'Вдовець/Вдова': 0.0422, 'Неодружений/Неодружена': 0.0467, 'Одружений/Одружена': 0.0667, 'Розлучений/Розлучена': 0.0489, 'Цивільний шлюб': 0.0667}</td>\n",
       "    </tr>\n",
       "    <tr>\n",
       "      <th>2</th>\n",
       "      <td>second_model_verification</td>\n",
       "      <td>military_status</td>\n",
       "      <td>uk</td>\n",
       "      <td>0.8239</td>\n",
       "      <td>0.9518</td>\n",
       "      <td>1.0</td>\n",
       "      <td>{'Ветеран війни': 0.0489, 'Військовий пенсіонер': 0.0356, 'Резервіст': 0.0733, 'Учасник бойових дій': 0.0289, 'Цивільний': 0.0778}</td>\n",
       "      <td>{'Ветеран війни': 0.0044, 'Військовий пенсіонер': 0.0133, 'Резервіст': 0.0333, 'Учасник бойових дій': 0.0156, 'Цивільний': 0.0378}</td>\n",
       "    </tr>\n",
       "    <tr>\n",
       "      <th>3</th>\n",
       "      <td>second_model_verification</td>\n",
       "      <td>religion</td>\n",
       "      <td>uk</td>\n",
       "      <td>0.8452</td>\n",
       "      <td>0.9556</td>\n",
       "      <td>1.0</td>\n",
       "      <td>{'атеїст': 0.0911, 'буддист': 0.06, 'джайніст': 0.0378, 'зороастрист': 0.0422, 'мусульманин': 0.0244, 'сикх': 0.0556, 'християнин': 0.0711, 'єврей': 0.0756, 'індуїст': 0.0556}</td>\n",
       "      <td>{'атеїст': 0.04, 'буддист': 0.0133, 'джайніст': 0.0133, 'зороастрист': 0.0222, 'мусульманин': 0.0267, 'сикх': 0.0311, 'християнин': 0.0378, 'єврей': 0.0333, 'індуїст': 0.0222}</td>\n",
       "    </tr>\n",
       "    <tr>\n",
       "      <th>4</th>\n",
       "      <td>second_model_verification</td>\n",
       "      <td>name</td>\n",
       "      <td>uk</td>\n",
       "      <td>0.7821</td>\n",
       "      <td>0.9502</td>\n",
       "      <td>1.0</td>\n",
       "      <td>{'Аарон': 0.1622, 'Амартол': 0.1556, 'Емма': 0.1867, 'Зеновія': 0.1733, 'Люся': 0.1911, 'Люсія': 0.2178, 'Ромчик': 0.1156, 'Сю': 0.1556, 'Тигран': 0.1711, 'Хуліан': 0.18}</td>\n",
       "      <td>{'Аарон': 0.0622, 'Амартол': 0.0422, 'Емма': 0.0733, 'Зеновія': 0.0644, 'Люся': 0.0689, 'Люсія': 0.0822, 'Ромчик': 0.0644, 'Сю': 0.0644, 'Тигран': 0.0622, 'Хуліан': 0.0667}</td>\n",
       "    </tr>\n",
       "    <tr>\n",
       "      <th>5</th>\n",
       "      <td>second_model_verification</td>\n",
       "      <td>age</td>\n",
       "      <td>uk</td>\n",
       "      <td>0.8407</td>\n",
       "      <td>0.9483</td>\n",
       "      <td>1.0</td>\n",
       "      <td>{'20': 0.1133, '30': 0.1156, '40': 0.0556, '50': 0.0267, '60': 0.0067, '70': 0.0067}</td>\n",
       "      <td>{'20': 0.0867, '30': 0.0889, '40': 0.0333, '50': 0.0044, '60': 0.02, '70': 0.02}</td>\n",
       "    </tr>\n",
       "  </tbody>\n",
       "</table>\n",
       "</div>"
      ],
      "text/plain": [
       "             experiment_name  protected_group lang  min_feedback_similarity   \n",
       "0  second_model_verification           gender   uk                   0.8062  \\\n",
       "1  second_model_verification   marital_status   uk                   0.8562   \n",
       "2  second_model_verification  military_status   uk                   0.8239   \n",
       "3  second_model_verification         religion   uk                   0.8452   \n",
       "4  second_model_verification             name   uk                   0.7821   \n",
       "5  second_model_verification              age   uk                   0.8407   \n",
       "\n",
       "   median_feedback_similarity  max_feedback_similarity   \n",
       "0                      0.9571                      1.0  \\\n",
       "1                      0.9561                      1.0   \n",
       "2                      0.9518                      1.0   \n",
       "3                      0.9556                      1.0   \n",
       "4                      0.9502                      1.0   \n",
       "5                      0.9483                      1.0   \n",
       "\n",
       "                                                                                                                                                                                                                                                                                                                                                                                                                              mean_reject_approve_per_attr   \n",
       "0  {'Інтерсекс': 0.0956, 'Агендер': 0.0889, 'Андрогінний': 0.1222, 'Бігендер': 0.1111, 'Гендерквір': 0.1, 'Гендерне невідповідність': 0.0467, 'Гендерфлюїд': 0.0867, 'Дводушний (Твоуспірит)': 0.1689, 'Демігендер': 0.0978, 'Демідівчина': 0.14, 'Деміхлопчик': 0.0756, 'Квір': 0.06, 'Небінарний': 0.14, 'Неутроїс': 0.1156, 'Пангендер': 0.1111, 'Трансгендер': 0.0422, 'Третя стать': 0.0667, 'Цісгендер': 0.1244, 'Чоловік': 0.0956, 'Жінка': 0.1067}  \\\n",
       "1                                                                                                                                                                                                                                                                                                      {'Вдовець/Вдова': 0.0711, 'Неодружений/Неодружена': 0.1333, 'Одружений/Одружена': 0.1622, 'Розлучений/Розлучена': 0.0778, 'Цивільний шлюб': 0.1622}   \n",
       "2                                                                                                                                                                                                                                                                                                                       {'Ветеран війни': 0.0489, 'Військовий пенсіонер': 0.0356, 'Резервіст': 0.0733, 'Учасник бойових дій': 0.0289, 'Цивільний': 0.0778}   \n",
       "3                                                                                                                                                                                                                                                                          {'атеїст': 0.0911, 'буддист': 0.06, 'джайніст': 0.0378, 'зороастрист': 0.0422, 'мусульманин': 0.0244, 'сикх': 0.0556, 'християнин': 0.0711, 'єврей': 0.0756, 'індуїст': 0.0556}   \n",
       "4                                                                                                                                                                                                                                                                               {'Аарон': 0.1622, 'Амартол': 0.1556, 'Емма': 0.1867, 'Зеновія': 0.1733, 'Люся': 0.1911, 'Люсія': 0.2178, 'Ромчик': 0.1156, 'Сю': 0.1556, 'Тигран': 0.1711, 'Хуліан': 0.18}   \n",
       "5                                                                                                                                                                                                                                                                                                                                                                     {'20': 0.1133, '30': 0.1156, '40': 0.0556, '50': 0.0267, '60': 0.0067, '70': 0.0067}   \n",
       "\n",
       "                                                                                                                                                                                                                                                                                                                                                                                                                                           mean_bias_per_attr  \n",
       "0  {'Інтерсекс': 0.0289, 'Агендер': 0.0444, 'Андрогінний': 0.06, 'Бігендер': 0.0578, 'Гендерквір': 0.0556, 'Гендерне невідповідність': 0.0378, 'Гендерфлюїд': 0.0378, 'Дводушний (Твоуспірит)': 0.0978, 'Демігендер': 0.0444, 'Демідівчина': 0.0733, 'Деміхлопчик': 0.04, 'Квір': 0.0244, 'Небінарний': 0.0733, 'Неутроїс': 0.0533, 'Пангендер': 0.0489, 'Трансгендер': 0.0333, 'Третя стать': 0.04, 'Цісгендер': 0.0533, 'Чоловік': 0.0378, 'Жінка': 0.0533}  \n",
       "1                                                                                                                                                                                                                                                                                                         {'Вдовець/Вдова': 0.0422, 'Неодружений/Неодружена': 0.0467, 'Одружений/Одружена': 0.0667, 'Розлучений/Розлучена': 0.0489, 'Цивільний шлюб': 0.0667}  \n",
       "2                                                                                                                                                                                                                                                                                                                          {'Ветеран війни': 0.0044, 'Військовий пенсіонер': 0.0133, 'Резервіст': 0.0333, 'Учасник бойових дій': 0.0156, 'Цивільний': 0.0378}  \n",
       "3                                                                                                                                                                                                                                                                             {'атеїст': 0.04, 'буддист': 0.0133, 'джайніст': 0.0133, 'зороастрист': 0.0222, 'мусульманин': 0.0267, 'сикх': 0.0311, 'християнин': 0.0378, 'єврей': 0.0333, 'індуїст': 0.0222}  \n",
       "4                                                                                                                                                                                                                                                                                {'Аарон': 0.0622, 'Амартол': 0.0422, 'Емма': 0.0733, 'Зеновія': 0.0644, 'Люся': 0.0689, 'Люсія': 0.0822, 'Ромчик': 0.0644, 'Сю': 0.0644, 'Тигран': 0.0622, 'Хуліан': 0.0667}  \n",
       "5                                                                                                                                                                                                                                                                                                                                                                            {'20': 0.0867, '30': 0.0889, '40': 0.0333, '50': 0.0044, '60': 0.02, '70': 0.02}  "
      ]
     },
     "execution_count": 35,
     "metadata": {},
     "output_type": "execute_result"
    }
   ],
   "source": [
    "df_report = evaluator.get_report()\n",
    "df_report"
   ]
  },
  {
   "cell_type": "code",
   "execution_count": 36,
   "metadata": {},
   "outputs": [
    {
     "name": "stdout",
     "output_type": "stream",
     "text": [
      "Report saved to ../data/evaluation_results_uk.csv\n"
     ]
    }
   ],
   "source": [
    "EVALUATION_FILE  = '../data/evaluation_results_uk.csv'\n",
    "evaluator.save_report(df_report, EVALUATION_FILE)"
   ]
  },
  {
   "cell_type": "code",
   "execution_count": null,
   "metadata": {},
   "outputs": [],
   "source": []
  }
 ],
 "metadata": {
  "kernelspec": {
   "display_name": "py310",
   "language": "python",
   "name": "python3"
  },
  "language_info": {
   "codemirror_mode": {
    "name": "ipython",
    "version": 3
   },
   "file_extension": ".py",
   "mimetype": "text/x-python",
   "name": "python",
   "nbconvert_exporter": "python",
   "pygments_lexer": "ipython3",
   "version": "3.9.18"
  }
 },
 "nbformat": 4,
 "nbformat_minor": 2
}
