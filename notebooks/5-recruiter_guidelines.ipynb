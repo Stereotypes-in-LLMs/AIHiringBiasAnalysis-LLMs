{
 "cells": [
  {
   "cell_type": "markdown",
   "metadata": {},
   "source": [
    "# Recruiter Guidelines Experiments"
   ]
  },
  {
   "cell_type": "code",
   "execution_count": 9,
   "metadata": {},
   "outputs": [
    {
     "name": "stdout",
     "output_type": "stream",
     "text": [
      "\u001b[33mDEPRECATION: Configuring installation scheme with distutils config files is deprecated and will no longer work in the near future. If you are using a Homebrew or Linuxbrew Python, please see discussion at https://github.com/Homebrew/homebrew-core/issues/76621\u001b[0m\u001b[33m\n",
      "\u001b[0mRequirement already satisfied: langchain in /opt/homebrew/lib/python3.9/site-packages (0.1.0)\n",
      "Requirement already satisfied: langchain-core in /opt/homebrew/lib/python3.9/site-packages (0.1.23)\n",
      "Requirement already satisfied: langchain-community in /opt/homebrew/lib/python3.9/site-packages (0.0.9)\n",
      "Requirement already satisfied: langchain-openai in /opt/homebrew/lib/python3.9/site-packages (0.0.6)\n",
      "Requirement already satisfied: PyYAML>=5.3 in /opt/homebrew/lib/python3.9/site-packages (from langchain) (6.0)\n",
      "Requirement already satisfied: SQLAlchemy<3,>=1.4 in /opt/homebrew/lib/python3.9/site-packages (from langchain) (2.0.15)\n",
      "Requirement already satisfied: aiohttp<4.0.0,>=3.8.3 in /opt/homebrew/lib/python3.9/site-packages (from langchain) (3.8.4)\n",
      "Requirement already satisfied: async-timeout<5.0.0,>=4.0.0 in /opt/homebrew/lib/python3.9/site-packages (from langchain) (4.0.2)\n",
      "Requirement already satisfied: dataclasses-json<0.7,>=0.5.7 in /opt/homebrew/lib/python3.9/site-packages (from langchain) (0.5.7)\n",
      "Requirement already satisfied: jsonpatch<2.0,>=1.33 in /opt/homebrew/lib/python3.9/site-packages (from langchain) (1.33)\n",
      "Requirement already satisfied: langsmith<0.1.0,>=0.0.77 in /opt/homebrew/lib/python3.9/site-packages (from langchain) (0.0.87)\n",
      "Requirement already satisfied: numpy<2,>=1 in /opt/homebrew/lib/python3.9/site-packages (from langchain) (1.23.5)\n",
      "Requirement already satisfied: pydantic<3,>=1 in /opt/homebrew/lib/python3.9/site-packages (from langchain) (1.10.7)\n",
      "Requirement already satisfied: requests<3,>=2 in /opt/homebrew/lib/python3.9/site-packages (from langchain) (2.28.2)\n",
      "Requirement already satisfied: tenacity<9.0.0,>=8.1.0 in /opt/homebrew/lib/python3.9/site-packages (from langchain) (8.2.2)\n",
      "Requirement already satisfied: anyio<5,>=3 in /opt/homebrew/lib/python3.9/site-packages (from langchain-core) (3.6.2)\n",
      "Requirement already satisfied: packaging<24.0,>=23.2 in /opt/homebrew/lib/python3.9/site-packages (from langchain-core) (23.2)\n",
      "Requirement already satisfied: openai<2.0.0,>=1.10.0 in /opt/homebrew/lib/python3.9/site-packages (from langchain-openai) (1.13.3)\n",
      "Requirement already satisfied: tiktoken<1,>=0.5.2 in /opt/homebrew/lib/python3.9/site-packages (from langchain-openai) (0.6.0)\n",
      "Requirement already satisfied: attrs>=17.3.0 in /opt/homebrew/lib/python3.9/site-packages (from aiohttp<4.0.0,>=3.8.3->langchain) (22.2.0)\n",
      "Requirement already satisfied: charset-normalizer<4.0,>=2.0 in /opt/homebrew/lib/python3.9/site-packages (from aiohttp<4.0.0,>=3.8.3->langchain) (3.1.0)\n",
      "Requirement already satisfied: multidict<7.0,>=4.5 in /opt/homebrew/lib/python3.9/site-packages (from aiohttp<4.0.0,>=3.8.3->langchain) (6.0.4)\n",
      "Requirement already satisfied: yarl<2.0,>=1.0 in /opt/homebrew/lib/python3.9/site-packages (from aiohttp<4.0.0,>=3.8.3->langchain) (1.9.2)\n",
      "Requirement already satisfied: frozenlist>=1.1.1 in /opt/homebrew/lib/python3.9/site-packages (from aiohttp<4.0.0,>=3.8.3->langchain) (1.3.3)\n",
      "Requirement already satisfied: aiosignal>=1.1.2 in /opt/homebrew/lib/python3.9/site-packages (from aiohttp<4.0.0,>=3.8.3->langchain) (1.3.1)\n",
      "Requirement already satisfied: idna>=2.8 in /opt/homebrew/lib/python3.9/site-packages (from anyio<5,>=3->langchain-core) (3.4)\n",
      "Requirement already satisfied: sniffio>=1.1 in /opt/homebrew/lib/python3.9/site-packages (from anyio<5,>=3->langchain-core) (1.3.0)\n",
      "Requirement already satisfied: marshmallow<4.0.0,>=3.3.0 in /opt/homebrew/lib/python3.9/site-packages (from dataclasses-json<0.7,>=0.5.7->langchain) (3.19.0)\n",
      "Requirement already satisfied: marshmallow-enum<2.0.0,>=1.5.1 in /opt/homebrew/lib/python3.9/site-packages (from dataclasses-json<0.7,>=0.5.7->langchain) (1.5.1)\n",
      "Requirement already satisfied: typing-inspect>=0.4.0 in /opt/homebrew/lib/python3.9/site-packages (from dataclasses-json<0.7,>=0.5.7->langchain) (0.8.0)\n",
      "Requirement already satisfied: jsonpointer>=1.9 in /opt/homebrew/lib/python3.9/site-packages (from jsonpatch<2.0,>=1.33->langchain) (2.3)\n",
      "Requirement already satisfied: distro<2,>=1.7.0 in /opt/homebrew/lib/python3.9/site-packages (from openai<2.0.0,>=1.10.0->langchain-openai) (1.9.0)\n",
      "Requirement already satisfied: httpx<1,>=0.23.0 in /opt/homebrew/lib/python3.9/site-packages (from openai<2.0.0,>=1.10.0->langchain-openai) (0.27.0)\n",
      "Requirement already satisfied: tqdm>4 in /opt/homebrew/lib/python3.9/site-packages (from openai<2.0.0,>=1.10.0->langchain-openai) (4.65.0)\n",
      "Collecting typing-extensions<5,>=4.7 (from openai<2.0.0,>=1.10.0->langchain-openai)\n",
      "  Using cached typing_extensions-4.10.0-py3-none-any.whl.metadata (3.0 kB)\n",
      "Requirement already satisfied: urllib3<1.27,>=1.21.1 in /opt/homebrew/lib/python3.9/site-packages (from requests<3,>=2->langchain) (1.26.15)\n",
      "Requirement already satisfied: certifi>=2017.4.17 in /opt/homebrew/lib/python3.9/site-packages (from requests<3,>=2->langchain) (2022.12.7)\n",
      "Requirement already satisfied: regex>=2022.1.18 in /opt/homebrew/lib/python3.9/site-packages (from tiktoken<1,>=0.5.2->langchain-openai) (2023.5.5)\n",
      "Requirement already satisfied: httpcore==1.* in /opt/homebrew/lib/python3.9/site-packages (from httpx<1,>=0.23.0->openai<2.0.0,>=1.10.0->langchain-openai) (1.0.4)\n",
      "Requirement already satisfied: h11<0.15,>=0.13 in /opt/homebrew/lib/python3.9/site-packages (from httpcore==1.*->httpx<1,>=0.23.0->openai<2.0.0,>=1.10.0->langchain-openai) (0.14.0)\n",
      "Requirement already satisfied: mypy-extensions>=0.3.0 in /opt/homebrew/lib/python3.9/site-packages (from typing-inspect>=0.4.0->dataclasses-json<0.7,>=0.5.7->langchain) (1.0.0)\n",
      "Using cached typing_extensions-4.10.0-py3-none-any.whl (33 kB)\n",
      "Installing collected packages: typing-extensions\n",
      "  Attempting uninstall: typing-extensions\n",
      "    Found existing installation: typing_extensions 4.5.0\n",
      "    Uninstalling typing_extensions-4.5.0:\n",
      "      Successfully uninstalled typing_extensions-4.5.0\n",
      "\u001b[33m  DEPRECATION: Configuring installation scheme with distutils config files is deprecated and will no longer work in the near future. If you are using a Homebrew or Linuxbrew Python, please see discussion at https://github.com/Homebrew/homebrew-core/issues/76621\u001b[0m\u001b[33m\n",
      "\u001b[0m\u001b[33mDEPRECATION: Configuring installation scheme with distutils config files is deprecated and will no longer work in the near future. If you are using a Homebrew or Linuxbrew Python, please see discussion at https://github.com/Homebrew/homebrew-core/issues/76621\u001b[0m\u001b[33m\n",
      "\u001b[0mSuccessfully installed typing-extensions-4.10.0\n",
      "\n",
      "\u001b[1m[\u001b[0m\u001b[34;49mnotice\u001b[0m\u001b[1;39;49m]\u001b[0m\u001b[39;49m A new release of pip is available: \u001b[0m\u001b[31;49m23.3.1\u001b[0m\u001b[39;49m -> \u001b[0m\u001b[32;49m24.0\u001b[0m\n",
      "\u001b[1m[\u001b[0m\u001b[34;49mnotice\u001b[0m\u001b[1;39;49m]\u001b[0m\u001b[39;49m To update, run: \u001b[0m\u001b[32;49mpython3.9 -m pip install --upgrade pip\u001b[0m\n",
      "Note: you may need to restart the kernel to use updated packages.\n",
      "\u001b[33mDEPRECATION: Configuring installation scheme with distutils config files is deprecated and will no longer work in the near future. If you are using a Homebrew or Linuxbrew Python, please see discussion at https://github.com/Homebrew/homebrew-core/issues/76621\u001b[0m\u001b[33m\n",
      "\u001b[0mCollecting typing-extensions==4.5\n",
      "  Using cached typing_extensions-4.5.0-py3-none-any.whl.metadata (8.5 kB)\n",
      "Using cached typing_extensions-4.5.0-py3-none-any.whl (27 kB)\n",
      "Installing collected packages: typing-extensions\n",
      "  Attempting uninstall: typing-extensions\n",
      "    Found existing installation: typing_extensions 4.10.0\n",
      "    Uninstalling typing_extensions-4.10.0:\n",
      "      Successfully uninstalled typing_extensions-4.10.0\n",
      "\u001b[33m  DEPRECATION: Configuring installation scheme with distutils config files is deprecated and will no longer work in the near future. If you are using a Homebrew or Linuxbrew Python, please see discussion at https://github.com/Homebrew/homebrew-core/issues/76621\u001b[0m\u001b[33m\n",
      "\u001b[0m\u001b[33mDEPRECATION: Configuring installation scheme with distutils config files is deprecated and will no longer work in the near future. If you are using a Homebrew or Linuxbrew Python, please see discussion at https://github.com/Homebrew/homebrew-core/issues/76621\u001b[0m\u001b[33m\n",
      "\u001b[0m\u001b[31mERROR: pip's dependency resolver does not currently take into account all the packages that are installed. This behaviour is the source of the following dependency conflicts.\n",
      "openai 1.13.3 requires typing-extensions<5,>=4.7, but you have typing-extensions 4.5.0 which is incompatible.\u001b[0m\u001b[31m\n",
      "\u001b[0mSuccessfully installed typing-extensions-4.5.0\n",
      "\n",
      "\u001b[1m[\u001b[0m\u001b[34;49mnotice\u001b[0m\u001b[1;39;49m]\u001b[0m\u001b[39;49m A new release of pip is available: \u001b[0m\u001b[31;49m23.3.1\u001b[0m\u001b[39;49m -> \u001b[0m\u001b[32;49m24.0\u001b[0m\n",
      "\u001b[1m[\u001b[0m\u001b[34;49mnotice\u001b[0m\u001b[1;39;49m]\u001b[0m\u001b[39;49m To update, run: \u001b[0m\u001b[32;49mpython3.9 -m pip install --upgrade pip\u001b[0m\n",
      "Note: you may need to restart the kernel to use updated packages.\n",
      "\u001b[33mDEPRECATION: Configuring installation scheme with distutils config files is deprecated and will no longer work in the near future. If you are using a Homebrew or Linuxbrew Python, please see discussion at https://github.com/Homebrew/homebrew-core/issues/76621\u001b[0m\u001b[33m\n",
      "\u001b[0mCollecting openai==1.8\n",
      "  Downloading openai-1.8.0-py3-none-any.whl.metadata (18 kB)\n",
      "Collecting anyio<5,>=3.5.0 (from openai==1.8)\n",
      "  Downloading anyio-4.3.0-py3-none-any.whl.metadata (4.6 kB)\n",
      "Collecting distro<2,>=1.7.0 (from openai==1.8)\n",
      "  Using cached distro-1.9.0-py3-none-any.whl.metadata (6.8 kB)\n",
      "Collecting httpx<1,>=0.23.0 (from openai==1.8)\n",
      "  Using cached httpx-0.27.0-py3-none-any.whl.metadata (7.2 kB)\n",
      "Collecting pydantic<3,>=1.9.0 (from openai==1.8)\n",
      "  Downloading pydantic-2.6.3-py3-none-any.whl.metadata (84 kB)\n",
      "\u001b[2K     \u001b[90m━━━━━━━━━━━━━━━━━━━━━━━━━━━━━━━━━━━━━━━━\u001b[0m \u001b[32m84.4/84.4 kB\u001b[0m \u001b[31m1.9 MB/s\u001b[0m eta \u001b[36m0:00:00\u001b[0ma \u001b[36m0:00:01\u001b[0m\n",
      "\u001b[?25hCollecting sniffio (from openai==1.8)\n",
      "  Downloading sniffio-1.3.1-py3-none-any.whl.metadata (3.9 kB)\n",
      "Collecting tqdm>4 (from openai==1.8)\n",
      "  Downloading tqdm-4.66.2-py3-none-any.whl.metadata (57 kB)\n",
      "\u001b[2K     \u001b[90m━━━━━━━━━━━━━━━━━━━━━━━━━━━━━━━━━━━━━━━━\u001b[0m \u001b[32m57.6/57.6 kB\u001b[0m \u001b[31m3.7 MB/s\u001b[0m eta \u001b[36m0:00:00\u001b[0m\n",
      "\u001b[?25hCollecting typing-extensions<5,>=4.7 (from openai==1.8)\n",
      "  Using cached typing_extensions-4.10.0-py3-none-any.whl.metadata (3.0 kB)\n",
      "Collecting idna>=2.8 (from anyio<5,>=3.5.0->openai==1.8)\n",
      "  Downloading idna-3.6-py3-none-any.whl.metadata (9.9 kB)\n",
      "Collecting exceptiongroup>=1.0.2 (from anyio<5,>=3.5.0->openai==1.8)\n",
      "  Downloading exceptiongroup-1.2.0-py3-none-any.whl.metadata (6.6 kB)\n",
      "Collecting certifi (from httpx<1,>=0.23.0->openai==1.8)\n",
      "  Downloading certifi-2024.2.2-py3-none-any.whl.metadata (2.2 kB)\n",
      "Collecting httpcore==1.* (from httpx<1,>=0.23.0->openai==1.8)\n",
      "  Using cached httpcore-1.0.4-py3-none-any.whl.metadata (20 kB)\n",
      "Collecting h11<0.15,>=0.13 (from httpcore==1.*->httpx<1,>=0.23.0->openai==1.8)\n",
      "  Using cached h11-0.14.0-py3-none-any.whl.metadata (8.2 kB)\n",
      "Collecting annotated-types>=0.4.0 (from pydantic<3,>=1.9.0->openai==1.8)\n",
      "  Downloading annotated_types-0.6.0-py3-none-any.whl.metadata (12 kB)\n",
      "Collecting pydantic-core==2.16.3 (from pydantic<3,>=1.9.0->openai==1.8)\n",
      "  Downloading pydantic_core-2.16.3-cp39-cp39-macosx_11_0_arm64.whl.metadata (6.5 kB)\n",
      "Downloading openai-1.8.0-py3-none-any.whl (222 kB)\n",
      "\u001b[2K   \u001b[90m━━━━━━━━━━━━━━━━━━━━━━━━━━━━━━━━━━━━━━━━\u001b[0m \u001b[32m222.3/222.3 kB\u001b[0m \u001b[31m4.8 MB/s\u001b[0m eta \u001b[36m0:00:00\u001b[0ma \u001b[36m0:00:01\u001b[0m\n",
      "\u001b[?25hDownloading anyio-4.3.0-py3-none-any.whl (85 kB)\n",
      "\u001b[2K   \u001b[90m━━━━━━━━━━━━━━━━━━━━━━━━━━━━━━━━━━━━━━━━\u001b[0m \u001b[32m85.6/85.6 kB\u001b[0m \u001b[31m3.9 MB/s\u001b[0m eta \u001b[36m0:00:00\u001b[0m\n",
      "\u001b[?25hUsing cached distro-1.9.0-py3-none-any.whl (20 kB)\n",
      "Using cached httpx-0.27.0-py3-none-any.whl (75 kB)\n",
      "Using cached httpcore-1.0.4-py3-none-any.whl (77 kB)\n",
      "Downloading pydantic-2.6.3-py3-none-any.whl (395 kB)\n",
      "\u001b[2K   \u001b[90m━━━━━━━━━━━━━━━━━━━━━━━━━━━━━━━━━━━━━━━━\u001b[0m \u001b[32m395.2/395.2 kB\u001b[0m \u001b[31m8.0 MB/s\u001b[0m eta \u001b[36m0:00:00\u001b[0m:00:01\u001b[0m\n",
      "\u001b[?25hDownloading pydantic_core-2.16.3-cp39-cp39-macosx_11_0_arm64.whl (1.8 MB)\n",
      "\u001b[2K   \u001b[90m━━━━━━━━━━━━━━━━━━━━━━━━━━━━━━━━━━━━━━━━\u001b[0m \u001b[32m1.8/1.8 MB\u001b[0m \u001b[31m13.5 MB/s\u001b[0m eta \u001b[36m0:00:00\u001b[0ma \u001b[36m0:00:01\u001b[0m\n",
      "\u001b[?25hDownloading sniffio-1.3.1-py3-none-any.whl (10 kB)\n",
      "Downloading tqdm-4.66.2-py3-none-any.whl (78 kB)\n",
      "\u001b[2K   \u001b[90m━━━━━━━━━━━━━━━━━━━━━━━━━━━━━━━━━━━━━━━━\u001b[0m \u001b[32m78.3/78.3 kB\u001b[0m \u001b[31m5.1 MB/s\u001b[0m eta \u001b[36m0:00:00\u001b[0m\n",
      "\u001b[?25hUsing cached typing_extensions-4.10.0-py3-none-any.whl (33 kB)\n",
      "Downloading annotated_types-0.6.0-py3-none-any.whl (12 kB)\n",
      "Downloading exceptiongroup-1.2.0-py3-none-any.whl (16 kB)\n",
      "Downloading idna-3.6-py3-none-any.whl (61 kB)\n",
      "\u001b[2K   \u001b[90m━━━━━━━━━━━━━━━━━━━━━━━━━━━━━━━━━━━━━━━━\u001b[0m \u001b[32m61.6/61.6 kB\u001b[0m \u001b[31m4.5 MB/s\u001b[0m eta \u001b[36m0:00:00\u001b[0m\n",
      "\u001b[?25hDownloading certifi-2024.2.2-py3-none-any.whl (163 kB)\n",
      "\u001b[2K   \u001b[90m━━━━━━━━━━━━━━━━━━━━━━━━━━━━━━━━━━━━━━━━\u001b[0m \u001b[32m163.8/163.8 kB\u001b[0m \u001b[31m6.3 MB/s\u001b[0m eta \u001b[36m0:00:00\u001b[0m\n",
      "\u001b[?25hUsing cached h11-0.14.0-py3-none-any.whl (58 kB)\n",
      "Installing collected packages: typing-extensions, tqdm, sniffio, idna, h11, exceptiongroup, distro, certifi, annotated-types, pydantic-core, httpcore, anyio, pydantic, httpx, openai\n",
      "  Attempting uninstall: typing-extensions\n",
      "    Found existing installation: typing_extensions 4.5.0\n",
      "    Uninstalling typing_extensions-4.5.0:\n",
      "      Successfully uninstalled typing_extensions-4.5.0\n",
      "\u001b[33m  DEPRECATION: Configuring installation scheme with distutils config files is deprecated and will no longer work in the near future. If you are using a Homebrew or Linuxbrew Python, please see discussion at https://github.com/Homebrew/homebrew-core/issues/76621\u001b[0m\u001b[33m\n",
      "\u001b[0m  Attempting uninstall: tqdm\n",
      "    Found existing installation: tqdm 4.65.0\n",
      "    Uninstalling tqdm-4.65.0:\n",
      "      Successfully uninstalled tqdm-4.65.0\n",
      "\u001b[33m  DEPRECATION: Configuring installation scheme with distutils config files is deprecated and will no longer work in the near future. If you are using a Homebrew or Linuxbrew Python, please see discussion at https://github.com/Homebrew/homebrew-core/issues/76621\u001b[0m\u001b[33m\n",
      "\u001b[0m  Attempting uninstall: sniffio\n",
      "    Found existing installation: sniffio 1.3.0\n",
      "    Uninstalling sniffio-1.3.0:\n",
      "      Successfully uninstalled sniffio-1.3.0\n",
      "\u001b[33m  DEPRECATION: Configuring installation scheme with distutils config files is deprecated and will no longer work in the near future. If you are using a Homebrew or Linuxbrew Python, please see discussion at https://github.com/Homebrew/homebrew-core/issues/76621\u001b[0m\u001b[33m\n",
      "\u001b[0m  Attempting uninstall: idna\n",
      "    Found existing installation: idna 3.4\n",
      "    Uninstalling idna-3.4:\n",
      "      Successfully uninstalled idna-3.4\n",
      "\u001b[33m  DEPRECATION: Configuring installation scheme with distutils config files is deprecated and will no longer work in the near future. If you are using a Homebrew or Linuxbrew Python, please see discussion at https://github.com/Homebrew/homebrew-core/issues/76621\u001b[0m\u001b[33m\n",
      "\u001b[0m  Attempting uninstall: h11\n",
      "    Found existing installation: h11 0.14.0\n",
      "    Uninstalling h11-0.14.0:\n",
      "      Successfully uninstalled h11-0.14.0\n",
      "\u001b[33m  DEPRECATION: Configuring installation scheme with distutils config files is deprecated and will no longer work in the near future. If you are using a Homebrew or Linuxbrew Python, please see discussion at https://github.com/Homebrew/homebrew-core/issues/76621\u001b[0m\u001b[33m\n",
      "\u001b[0m\u001b[33m  DEPRECATION: Configuring installation scheme with distutils config files is deprecated and will no longer work in the near future. If you are using a Homebrew or Linuxbrew Python, please see discussion at https://github.com/Homebrew/homebrew-core/issues/76621\u001b[0m\u001b[33m\n",
      "\u001b[0m  Attempting uninstall: distro\n",
      "    Found existing installation: distro 1.9.0\n",
      "    Uninstalling distro-1.9.0:\n",
      "      Successfully uninstalled distro-1.9.0\n",
      "\u001b[33m  DEPRECATION: Configuring installation scheme with distutils config files is deprecated and will no longer work in the near future. If you are using a Homebrew or Linuxbrew Python, please see discussion at https://github.com/Homebrew/homebrew-core/issues/76621\u001b[0m\u001b[33m\n",
      "\u001b[0m  Attempting uninstall: certifi\n",
      "    Found existing installation: certifi 2022.12.7\n",
      "    Uninstalling certifi-2022.12.7:\n",
      "      Successfully uninstalled certifi-2022.12.7\n",
      "\u001b[33m  DEPRECATION: Configuring installation scheme with distutils config files is deprecated and will no longer work in the near future. If you are using a Homebrew or Linuxbrew Python, please see discussion at https://github.com/Homebrew/homebrew-core/issues/76621\u001b[0m\u001b[33m\n",
      "\u001b[0m\u001b[33m  DEPRECATION: Configuring installation scheme with distutils config files is deprecated and will no longer work in the near future. If you are using a Homebrew or Linuxbrew Python, please see discussion at https://github.com/Homebrew/homebrew-core/issues/76621\u001b[0m\u001b[33m\n",
      "\u001b[0m\u001b[33m  DEPRECATION: Configuring installation scheme with distutils config files is deprecated and will no longer work in the near future. If you are using a Homebrew or Linuxbrew Python, please see discussion at https://github.com/Homebrew/homebrew-core/issues/76621\u001b[0m\u001b[33m\n",
      "\u001b[0m  Attempting uninstall: httpcore\n",
      "    Found existing installation: httpcore 1.0.4\n",
      "    Uninstalling httpcore-1.0.4:\n",
      "      Successfully uninstalled httpcore-1.0.4\n",
      "\u001b[33m  DEPRECATION: Configuring installation scheme with distutils config files is deprecated and will no longer work in the near future. If you are using a Homebrew or Linuxbrew Python, please see discussion at https://github.com/Homebrew/homebrew-core/issues/76621\u001b[0m\u001b[33m\n",
      "\u001b[0m  Attempting uninstall: anyio\n",
      "    Found existing installation: anyio 3.6.2\n",
      "    Uninstalling anyio-3.6.2:\n",
      "      Successfully uninstalled anyio-3.6.2\n",
      "\u001b[33m  DEPRECATION: Configuring installation scheme with distutils config files is deprecated and will no longer work in the near future. If you are using a Homebrew or Linuxbrew Python, please see discussion at https://github.com/Homebrew/homebrew-core/issues/76621\u001b[0m\u001b[33m\n",
      "\u001b[0m  Attempting uninstall: pydantic\n",
      "    Found existing installation: pydantic 1.10.7\n",
      "    Uninstalling pydantic-1.10.7:\n",
      "      Successfully uninstalled pydantic-1.10.7\n",
      "\u001b[33m  DEPRECATION: Configuring installation scheme with distutils config files is deprecated and will no longer work in the near future. If you are using a Homebrew or Linuxbrew Python, please see discussion at https://github.com/Homebrew/homebrew-core/issues/76621\u001b[0m\u001b[33m\n",
      "\u001b[0m  Attempting uninstall: httpx\n",
      "    Found existing installation: httpx 0.27.0\n",
      "    Uninstalling httpx-0.27.0:\n",
      "      Successfully uninstalled httpx-0.27.0\n",
      "\u001b[33m  DEPRECATION: Configuring installation scheme with distutils config files is deprecated and will no longer work in the near future. If you are using a Homebrew or Linuxbrew Python, please see discussion at https://github.com/Homebrew/homebrew-core/issues/76621\u001b[0m\u001b[33m\n",
      "\u001b[0m  Attempting uninstall: openai\n",
      "    Found existing installation: openai 1.13.3\n",
      "    Uninstalling openai-1.13.3:\n",
      "      Successfully uninstalled openai-1.13.3\n",
      "\u001b[33m  DEPRECATION: Configuring installation scheme with distutils config files is deprecated and will no longer work in the near future. If you are using a Homebrew or Linuxbrew Python, please see discussion at https://github.com/Homebrew/homebrew-core/issues/76621\u001b[0m\u001b[33m\n",
      "\u001b[0m\u001b[33mDEPRECATION: Configuring installation scheme with distutils config files is deprecated and will no longer work in the near future. If you are using a Homebrew or Linuxbrew Python, please see discussion at https://github.com/Homebrew/homebrew-core/issues/76621\u001b[0m\u001b[33m\n",
      "\u001b[0m\u001b[31mERROR: pip's dependency resolver does not currently take into account all the packages that are installed. This behaviour is the source of the following dependency conflicts.\n",
      "langchain-openai 0.0.6 requires openai<2.0.0,>=1.10.0, but you have openai 1.8.0 which is incompatible.\u001b[0m\u001b[31m\n",
      "\u001b[0mSuccessfully installed annotated-types-0.6.0 anyio-4.3.0 certifi-2024.2.2 distro-1.9.0 exceptiongroup-1.2.0 h11-0.14.0 httpcore-1.0.4 httpx-0.27.0 idna-3.6 openai-1.8.0 pydantic-2.6.3 pydantic-core-2.16.3 sniffio-1.3.1 tqdm-4.66.2 typing-extensions-4.10.0\n",
      "\n",
      "\u001b[1m[\u001b[0m\u001b[34;49mnotice\u001b[0m\u001b[1;39;49m]\u001b[0m\u001b[39;49m A new release of pip is available: \u001b[0m\u001b[31;49m23.3.1\u001b[0m\u001b[39;49m -> \u001b[0m\u001b[32;49m24.0\u001b[0m\n",
      "\u001b[1m[\u001b[0m\u001b[34;49mnotice\u001b[0m\u001b[1;39;49m]\u001b[0m\u001b[39;49m To update, run: \u001b[0m\u001b[32;49mpython3.9 -m pip install --upgrade pip\u001b[0m\n",
      "Note: you may need to restart the kernel to use updated packages.\n"
     ]
    }
   ],
   "source": [
    "# %pip install langchain langchain-core langchain-community langchain-openai\n",
    "# %pip install --force-reinstall typing-extensions==4.5\n",
    "# %pip install --force-reinstall openai==1.8"
   ]
  },
  {
   "cell_type": "markdown",
   "metadata": {},
   "source": [
    "## Load Libraries"
   ]
  },
  {
   "cell_type": "code",
   "execution_count": 1,
   "metadata": {},
   "outputs": [
    {
     "name": "stderr",
     "output_type": "stream",
     "text": [
      "/opt/homebrew/lib/python3.9/site-packages/transformers/utils/generic.py:441: UserWarning: torch.utils._pytree._register_pytree_node is deprecated. Please use torch.utils._pytree.register_pytree_node instead.\n",
      "  _torch_pytree._register_pytree_node(\n"
     ]
    },
    {
     "name": "stdout",
     "output_type": "stream",
     "text": [
      "Token is valid (permission: write).\n",
      "Your token has been saved in your configured git credential helpers (osxkeychain).\n",
      "Your token has been saved to /Users/nazardrushchak/.cache/huggingface/token\n",
      "Login successful\n"
     ]
    }
   ],
   "source": [
    "import os\n",
    "import sys\n",
    "import pandas as pd\n",
    "sys.path.append('..')\n",
    "from src.prompt import PROMPTS\n",
    "from src.evaluation import Evalator\n",
    "from src.helpers import fix_decision_parser\n",
    "from src.experiment_runner import run_experiment\n",
    "\n",
    "from huggingface_hub import login\n",
    "from datasets import Dataset, DatasetDict\n",
    "\n",
    "pd.set_option('display.max_colwidth', None)\n",
    "\n",
    "login(token=os.environ.get(\"HF_TOKEN\"), add_to_git_credential=True)"
   ]
  },
  {
   "cell_type": "markdown",
   "metadata": {},
   "source": [
    "## Load Data"
   ]
  },
  {
   "cell_type": "code",
   "execution_count": 2,
   "metadata": {},
   "outputs": [],
   "source": [
    "df_uk = pd.read_csv('../data/uk_data_samples.csv')\n",
    "df_en = pd.read_csv('../data/en_data_samples.csv')"
   ]
  },
  {
   "cell_type": "markdown",
   "metadata": {},
   "source": [
    "## `gpt-3.5-turbo-0125`: English Language experiment"
   ]
  },
  {
   "cell_type": "code",
   "execution_count": 3,
   "metadata": {},
   "outputs": [],
   "source": [
    "from langchain_openai import ChatOpenAI\n",
    "llm = ChatOpenAI(model_name=\"gpt-3.5-turbo-0125\", model_kwargs={\"seed\": 42, \"top_p\": 0.0}, temperature=0.0)"
   ]
  },
  {
   "cell_type": "code",
   "execution_count": 4,
   "metadata": {},
   "outputs": [],
   "source": [
    "chain = PROMPTS['recruiter_guidelines_en'] | llm"
   ]
  },
  {
   "cell_type": "code",
   "execution_count": 5,
   "metadata": {},
   "outputs": [],
   "source": [
    "file_paths = run_experiment(\n",
    "    folder_path='../data/recruiter_guidelines',\n",
    "    chain=chain,\n",
    "    data=df_en,\n",
    "    lang='en',\n",
    "    batch_size=5,\n",
    ")"
   ]
  },
  {
   "cell_type": "code",
   "execution_count": 6,
   "metadata": {},
   "outputs": [
    {
     "data": {
      "text/plain": [
       "{'gender': '../data/recruiter_guidelines/en/gender.csv',\n",
       " 'marital_status': '../data/recruiter_guidelines/en/marital_status.csv',\n",
       " 'military_status': '../data/recruiter_guidelines/en/military_status.csv',\n",
       " 'religion': '../data/recruiter_guidelines/en/religion.csv',\n",
       " 'name': '../data/recruiter_guidelines/en/name.csv',\n",
       " 'age': '../data/recruiter_guidelines/en/age.csv'}"
      ]
     },
     "execution_count": 6,
     "metadata": {},
     "output_type": "execute_result"
    }
   ],
   "source": [
    "file_paths"
   ]
  },
  {
   "cell_type": "markdown",
   "metadata": {},
   "source": [
    "## Load English Results to HF Datasets"
   ]
  },
  {
   "cell_type": "code",
   "execution_count": 8,
   "metadata": {},
   "outputs": [
    {
     "data": {
      "application/vnd.jupyter.widget-view+json": {
       "model_id": "db868f55e0ca475fa733682e809c3bf3",
       "version_major": 2,
       "version_minor": 0
      },
      "text/plain": [
       "Uploading the dataset shards:   0%|          | 0/1 [00:00<?, ?it/s]"
      ]
     },
     "metadata": {},
     "output_type": "display_data"
    },
    {
     "data": {
      "application/vnd.jupyter.widget-view+json": {
       "model_id": "6c178f1d81d24fe889168d79f63d7dc6",
       "version_major": 2,
       "version_minor": 0
      },
      "text/plain": [
       "Creating parquet from Arrow format:   0%|          | 0/10 [00:00<?, ?ba/s]"
      ]
     },
     "metadata": {},
     "output_type": "display_data"
    },
    {
     "data": {
      "application/vnd.jupyter.widget-view+json": {
       "model_id": "17719d37fc754146ba1496279229365d",
       "version_major": 2,
       "version_minor": 0
      },
      "text/plain": [
       "Uploading the dataset shards:   0%|          | 0/1 [00:00<?, ?it/s]"
      ]
     },
     "metadata": {},
     "output_type": "display_data"
    },
    {
     "data": {
      "application/vnd.jupyter.widget-view+json": {
       "model_id": "3a5cb938df5c4e3cb839c563977956e7",
       "version_major": 2,
       "version_minor": 0
      },
      "text/plain": [
       "Creating parquet from Arrow format:   0%|          | 0/3 [00:00<?, ?ba/s]"
      ]
     },
     "metadata": {},
     "output_type": "display_data"
    },
    {
     "data": {
      "application/vnd.jupyter.widget-view+json": {
       "model_id": "1b21114518464a5392e65c94890a6baf",
       "version_major": 2,
       "version_minor": 0
      },
      "text/plain": [
       "Uploading the dataset shards:   0%|          | 0/1 [00:00<?, ?it/s]"
      ]
     },
     "metadata": {},
     "output_type": "display_data"
    },
    {
     "data": {
      "application/vnd.jupyter.widget-view+json": {
       "model_id": "51318db8401b43ee8a7056f144acb03a",
       "version_major": 2,
       "version_minor": 0
      },
      "text/plain": [
       "Creating parquet from Arrow format:   0%|          | 0/3 [00:00<?, ?ba/s]"
      ]
     },
     "metadata": {},
     "output_type": "display_data"
    },
    {
     "data": {
      "application/vnd.jupyter.widget-view+json": {
       "model_id": "e39076c87aba405c8fbdfe9a6be525d2",
       "version_major": 2,
       "version_minor": 0
      },
      "text/plain": [
       "Uploading the dataset shards:   0%|          | 0/1 [00:00<?, ?it/s]"
      ]
     },
     "metadata": {},
     "output_type": "display_data"
    },
    {
     "data": {
      "application/vnd.jupyter.widget-view+json": {
       "model_id": "73685f3f8a934abaa6f4075bf6c3e5ee",
       "version_major": 2,
       "version_minor": 0
      },
      "text/plain": [
       "Creating parquet from Arrow format:   0%|          | 0/5 [00:00<?, ?ba/s]"
      ]
     },
     "metadata": {},
     "output_type": "display_data"
    },
    {
     "data": {
      "application/vnd.jupyter.widget-view+json": {
       "model_id": "d4e10f0501b04758a4f4e456a5b270da",
       "version_major": 2,
       "version_minor": 0
      },
      "text/plain": [
       "Uploading the dataset shards:   0%|          | 0/1 [00:00<?, ?it/s]"
      ]
     },
     "metadata": {},
     "output_type": "display_data"
    },
    {
     "data": {
      "application/vnd.jupyter.widget-view+json": {
       "model_id": "927167142eeb44e59592ff86b08de0f3",
       "version_major": 2,
       "version_minor": 0
      },
      "text/plain": [
       "Creating parquet from Arrow format:   0%|          | 0/5 [00:00<?, ?ba/s]"
      ]
     },
     "metadata": {},
     "output_type": "display_data"
    },
    {
     "data": {
      "application/vnd.jupyter.widget-view+json": {
       "model_id": "14944463d9db48829521c926e7656ba9",
       "version_major": 2,
       "version_minor": 0
      },
      "text/plain": [
       "Uploading the dataset shards:   0%|          | 0/1 [00:00<?, ?it/s]"
      ]
     },
     "metadata": {},
     "output_type": "display_data"
    },
    {
     "data": {
      "application/vnd.jupyter.widget-view+json": {
       "model_id": "b860db93f1ac45849328ea663c573f7f",
       "version_major": 2,
       "version_minor": 0
      },
      "text/plain": [
       "Creating parquet from Arrow format:   0%|          | 0/3 [00:00<?, ?ba/s]"
      ]
     },
     "metadata": {},
     "output_type": "display_data"
    },
    {
     "data": {
      "text/plain": [
       "CommitInfo(commit_url='https://huggingface.co/datasets/Stereotypes-in-LLMs/hiring-analyses-recruiter_guidelines-en/commit/178b2a3332b6ba9a36a3cb502a0c54f7835d47a3', commit_message='Upload dataset', commit_description='', oid='178b2a3332b6ba9a36a3cb502a0c54f7835d47a3', pr_url=None, pr_revision=None, pr_num=None)"
      ]
     },
     "execution_count": 8,
     "metadata": {},
     "output_type": "execute_result"
    }
   ],
   "source": [
    "FILES_PATHS = {\n",
    "    'gender': '../data/recruiter_guidelines/en/gender.csv',\n",
    "    'marital_status': '../data/recruiter_guidelines/en/marital_status.csv',\n",
    "    'military_status': '../data/recruiter_guidelines/en/military_status.csv',\n",
    "    'religion': '../data/recruiter_guidelines/en/religion.csv',\n",
    "    'name': '../data/recruiter_guidelines/en/name.csv',\n",
    "    'age': '../data/recruiter_guidelines/en/age.csv'\n",
    "    }\n",
    "\n",
    "# load data and push to huggingface\n",
    "dataset_dict = {}\n",
    "for key_name, file_path in FILES_PATHS.items():\n",
    "    df_part = pd.read_csv(file_path, dtype={'protected_attr': str})\n",
    "    df_part['decision'] = df_part['decision'].map(lambda x: x.lower())\n",
    "    dataset_dict[key_name] = Dataset.from_pandas(df_part)\n",
    "\n",
    "DatasetDict(dataset_dict).push_to_hub('Stereotypes-in-LLMs/hiring-analyses-recruiter_guidelines-en', private=True)"
   ]
  },
  {
   "cell_type": "code",
   "execution_count": 9,
   "metadata": {},
   "outputs": [],
   "source": [
    "# # load data from huggingface\n",
    "# from datasets import load_dataset\n",
    "# dataset = load_dataset(\"Stereotypes-in-LLMs/hiring-analyses-recruiter_guidelines-en\", split=\"gender\")\n",
    "# dataset.to_pandas().head()"
   ]
  },
  {
   "cell_type": "markdown",
   "metadata": {},
   "source": [
    "## Evaluation Scores"
   ]
  },
  {
   "cell_type": "code",
   "execution_count": 11,
   "metadata": {},
   "outputs": [
    {
     "data": {
      "application/vnd.jupyter.widget-view+json": {
       "model_id": "e150f9ba5cb04c9b932046f1ed38b0e9",
       "version_major": 2,
       "version_minor": 0
      },
      "text/plain": [
       "Downloading readme:   0%|          | 0.00/1.28k [00:00<?, ?B/s]"
      ]
     },
     "metadata": {},
     "output_type": "display_data"
    },
    {
     "data": {
      "application/vnd.jupyter.widget-view+json": {
       "model_id": "5f25ad2163ee4953b216575142485e61",
       "version_major": 2,
       "version_minor": 0
      },
      "text/plain": [
       "Downloading data:   0%|          | 0.00/961k [00:00<?, ?B/s]"
      ]
     },
     "metadata": {},
     "output_type": "display_data"
    },
    {
     "data": {
      "application/vnd.jupyter.widget-view+json": {
       "model_id": "300161370ebf486f8b9c53bf7b2f0b8d",
       "version_major": 2,
       "version_minor": 0
      },
      "text/plain": [
       "Downloading data:   0%|          | 0.00/537k [00:00<?, ?B/s]"
      ]
     },
     "metadata": {},
     "output_type": "display_data"
    },
    {
     "data": {
      "application/vnd.jupyter.widget-view+json": {
       "model_id": "9ceb1111a7584472b7ed38e53875dfbe",
       "version_major": 2,
       "version_minor": 0
      },
      "text/plain": [
       "Downloading data:   0%|          | 0.00/559k [00:00<?, ?B/s]"
      ]
     },
     "metadata": {},
     "output_type": "display_data"
    },
    {
     "data": {
      "application/vnd.jupyter.widget-view+json": {
       "model_id": "a2544f77e20b4a96917d8b933950d962",
       "version_major": 2,
       "version_minor": 0
      },
      "text/plain": [
       "Downloading data:   0%|          | 0.00/650k [00:00<?, ?B/s]"
      ]
     },
     "metadata": {},
     "output_type": "display_data"
    },
    {
     "data": {
      "application/vnd.jupyter.widget-view+json": {
       "model_id": "49c4e948d9c544f980cacab41411cc8f",
       "version_major": 2,
       "version_minor": 0
      },
      "text/plain": [
       "Downloading data:   0%|          | 0.00/744k [00:00<?, ?B/s]"
      ]
     },
     "metadata": {},
     "output_type": "display_data"
    },
    {
     "data": {
      "application/vnd.jupyter.widget-view+json": {
       "model_id": "a05debc0c62a47ad8ddcaa46d1fd0ab0",
       "version_major": 2,
       "version_minor": 0
      },
      "text/plain": [
       "Downloading data:   0%|          | 0.00/583k [00:00<?, ?B/s]"
      ]
     },
     "metadata": {},
     "output_type": "display_data"
    },
    {
     "data": {
      "application/vnd.jupyter.widget-view+json": {
       "model_id": "75f72d54c4494e52ad15aa2d04bab2b3",
       "version_major": 2,
       "version_minor": 0
      },
      "text/plain": [
       "Generating gender split:   0%|          | 0/9900 [00:00<?, ? examples/s]"
      ]
     },
     "metadata": {},
     "output_type": "display_data"
    },
    {
     "data": {
      "application/vnd.jupyter.widget-view+json": {
       "model_id": "d94ba65f35024bc2be06a68ebab888f7",
       "version_major": 2,
       "version_minor": 0
      },
      "text/plain": [
       "Generating marital_status split:   0%|          | 0/2250 [00:00<?, ? examples/s]"
      ]
     },
     "metadata": {},
     "output_type": "display_data"
    },
    {
     "data": {
      "application/vnd.jupyter.widget-view+json": {
       "model_id": "016f082aad174446a0e7ef79ae2665d5",
       "version_major": 2,
       "version_minor": 0
      },
      "text/plain": [
       "Generating military_status split:   0%|          | 0/2250 [00:00<?, ? examples/s]"
      ]
     },
     "metadata": {},
     "output_type": "display_data"
    },
    {
     "data": {
      "application/vnd.jupyter.widget-view+json": {
       "model_id": "25fa53cff9984ddd8791af6e1ddf676b",
       "version_major": 2,
       "version_minor": 0
      },
      "text/plain": [
       "Generating religion split:   0%|          | 0/4050 [00:00<?, ? examples/s]"
      ]
     },
     "metadata": {},
     "output_type": "display_data"
    },
    {
     "data": {
      "application/vnd.jupyter.widget-view+json": {
       "model_id": "0ce2f9f42bdc4642a639382a4ba8cb24",
       "version_major": 2,
       "version_minor": 0
      },
      "text/plain": [
       "Generating name split:   0%|          | 0/4500 [00:00<?, ? examples/s]"
      ]
     },
     "metadata": {},
     "output_type": "display_data"
    },
    {
     "data": {
      "application/vnd.jupyter.widget-view+json": {
       "model_id": "8be4996451fb41c693bddee2be3914b7",
       "version_major": 2,
       "version_minor": 0
      },
      "text/plain": [
       "Generating age split:   0%|          | 0/2700 [00:00<?, ? examples/s]"
      ]
     },
     "metadata": {},
     "output_type": "display_data"
    }
   ],
   "source": [
    "evaluator = Evalator(\"intfloat/multilingual-e5-large\", \"Stereotypes-in-LLMs/hiring-analyses-recruiter_guidelines-en\", \"recruiter_guidelines\")"
   ]
  },
  {
   "cell_type": "code",
   "execution_count": 12,
   "metadata": {},
   "outputs": [
    {
     "data": {
      "text/html": [
       "<div>\n",
       "<style scoped>\n",
       "    .dataframe tbody tr th:only-of-type {\n",
       "        vertical-align: middle;\n",
       "    }\n",
       "\n",
       "    .dataframe tbody tr th {\n",
       "        vertical-align: top;\n",
       "    }\n",
       "\n",
       "    .dataframe thead th {\n",
       "        text-align: right;\n",
       "    }\n",
       "</style>\n",
       "<table border=\"1\" class=\"dataframe\">\n",
       "  <thead>\n",
       "    <tr style=\"text-align: right;\">\n",
       "      <th></th>\n",
       "      <th>experiment_name</th>\n",
       "      <th>protected_group</th>\n",
       "      <th>lang</th>\n",
       "      <th>min_feedback_similarity</th>\n",
       "      <th>median_feedback_similarity</th>\n",
       "      <th>max_feedback_similarity</th>\n",
       "      <th>mean_reject_approve_per_attr</th>\n",
       "      <th>mean_bias_per_attr</th>\n",
       "    </tr>\n",
       "  </thead>\n",
       "  <tbody>\n",
       "    <tr>\n",
       "      <th>0</th>\n",
       "      <td>recruiter_guidelines</td>\n",
       "      <td>gender</td>\n",
       "      <td>en</td>\n",
       "      <td>0.7851</td>\n",
       "      <td>0.9696</td>\n",
       "      <td>1.0</td>\n",
       "      <td>{'Male': 0.5356, 'Female': 0.5956, 'Non-Binary': 0.64, 'Genderqueer': 0.5711, 'Genderfluid': 0.5889, 'Agender': 0.6067, 'Bigender': 0.5667, 'Two-Spirit': 0.5367, 'Androgynous': 0.6067, 'Transgender': 0.5867, 'Cisgender': 0.6044, 'Demigender': 0.5333, 'Neutrois': 0.5933, 'Pangender': 0.5289, 'Queer': 0.5711, 'Gender Nonconforming': 0.5644, 'Intersex': 0.5556, 'Third Gender': 0.5222, 'Demiboy': 0.5889, 'Demigirl': 0.5911}</td>\n",
       "      <td>{'Male': 0.0578, 'Female': 0.0378, 'Non-Binary': 0.0644, 'Genderqueer': 0.04, 'Genderfluid': 0.0267, 'Agender': 0.0378, 'Bigender': 0.04, 'Two-Spirit': 0.0678, 'Androgynous': 0.0489, 'Transgender': 0.0422, 'Cisgender': 0.0422, 'Demigender': 0.0689, 'Neutrois': 0.0267, 'Pangender': 0.0778, 'Queer': 0.0311, 'Gender Nonconforming': 0.0511, 'Intersex': 0.0467, 'Third Gender': 0.0756, 'Demiboy': 0.0311, 'Demigirl': 0.0289}</td>\n",
       "    </tr>\n",
       "    <tr>\n",
       "      <th>1</th>\n",
       "      <td>recruiter_guidelines</td>\n",
       "      <td>marital_status</td>\n",
       "      <td>en</td>\n",
       "      <td>0.8167</td>\n",
       "      <td>0.9704</td>\n",
       "      <td>1.0</td>\n",
       "      <td>{'Married (Husband/Wife)': 0.56, 'Unmarried (Single)': 0.5644, 'Divorced (Divorced)': 0.5711, 'Widower (Widow)': 0.5444, 'Civil union': 0.5422}</td>\n",
       "      <td>{'Married (Husband/Wife)': 0.0333, 'Unmarried (Single)': 0.0422, 'Divorced (Divorced)': 0.0444, 'Widower (Widow)': 0.0444, 'Civil union': 0.0467}</td>\n",
       "    </tr>\n",
       "    <tr>\n",
       "      <th>2</th>\n",
       "      <td>recruiter_guidelines</td>\n",
       "      <td>military_status</td>\n",
       "      <td>en</td>\n",
       "      <td>0.7804</td>\n",
       "      <td>0.9546</td>\n",
       "      <td>1.0</td>\n",
       "      <td>{'Participant in combat actions': 0.3244, 'War veteran': 0.5222, 'Reservist': 0.5622, 'Military retiree': 0.5222, 'Civilian': 0.5933}</td>\n",
       "      <td>{'Participant in combat actions': 0.2111, 'War veteran': 0.0533, 'Reservist': 0.0533, 'Military retiree': 0.0356, 'Civilian': 0.0756}</td>\n",
       "    </tr>\n",
       "    <tr>\n",
       "      <th>3</th>\n",
       "      <td>recruiter_guidelines</td>\n",
       "      <td>religion</td>\n",
       "      <td>en</td>\n",
       "      <td>0.7772</td>\n",
       "      <td>0.9677</td>\n",
       "      <td>1.0</td>\n",
       "      <td>{'christian': 0.5533, 'muslim': 0.4756, 'atheist': 0.5978, 'hindu': 0.4956, 'jew': 0.5044, 'sikh': 0.4889, 'jain': 0.4911, 'buddhist': 0.4622, 'zoroastrian': 0.4533}</td>\n",
       "      <td>{'christian': 0.0711, 'muslim': 0.0467, 'atheist': 0.1067, 'hindu': 0.0489, 'jew': 0.0311, 'sikh': 0.0467, 'jain': 0.04, 'buddhist': 0.0644, 'zoroastrian': 0.0467}</td>\n",
       "    </tr>\n",
       "    <tr>\n",
       "      <th>4</th>\n",
       "      <td>recruiter_guidelines</td>\n",
       "      <td>name</td>\n",
       "      <td>en</td>\n",
       "      <td>0.7838</td>\n",
       "      <td>0.9061</td>\n",
       "      <td>1.0</td>\n",
       "      <td>{'Zenoviia': 0.5733, 'Liusia': 0.5733, 'Emma': 0.6, 'Liusiia': 0.5933, 'Siu': 0.5578, 'Amartol': 0.5756, 'Romchyk': 0.5667, 'Aaron': 0.5622, 'Khulian': 0.5644, 'Tyhran': 0.5711}</td>\n",
       "      <td>{'Zenoviia': 0.02, 'Liusia': 0.0378, 'Emma': 0.0333, 'Liusiia': 0.0356, 'Siu': 0.0356, 'Amartol': 0.0267, 'Romchyk': 0.0311, 'Aaron': 0.0444, 'Khulian': 0.0289, 'Tyhran': 0.0444}</td>\n",
       "    </tr>\n",
       "    <tr>\n",
       "      <th>5</th>\n",
       "      <td>recruiter_guidelines</td>\n",
       "      <td>age</td>\n",
       "      <td>en</td>\n",
       "      <td>0.7833</td>\n",
       "      <td>0.9457</td>\n",
       "      <td>1.0</td>\n",
       "      <td>{'20': 0.4889, '30': 0.5711, '40': 0.4533, '50': 0.3133, '60': 0.1844, '70': 0.0689}</td>\n",
       "      <td>{'20': 0.1822, '30': 0.2644, '40': 0.1467, '50': 0.0111, '60': 0.1222, '70': 0.2378}</td>\n",
       "    </tr>\n",
       "  </tbody>\n",
       "</table>\n",
       "</div>"
      ],
      "text/plain": [
       "        experiment_name  protected_group lang  min_feedback_similarity   \n",
       "0  recruiter_guidelines           gender   en                   0.7851  \\\n",
       "1  recruiter_guidelines   marital_status   en                   0.8167   \n",
       "2  recruiter_guidelines  military_status   en                   0.7804   \n",
       "3  recruiter_guidelines         religion   en                   0.7772   \n",
       "4  recruiter_guidelines             name   en                   0.7838   \n",
       "5  recruiter_guidelines              age   en                   0.7833   \n",
       "\n",
       "   median_feedback_similarity  max_feedback_similarity   \n",
       "0                      0.9696                      1.0  \\\n",
       "1                      0.9704                      1.0   \n",
       "2                      0.9546                      1.0   \n",
       "3                      0.9677                      1.0   \n",
       "4                      0.9061                      1.0   \n",
       "5                      0.9457                      1.0   \n",
       "\n",
       "                                                                                                                                                                                                                                                                                                                                                                                                              mean_reject_approve_per_attr   \n",
       "0  {'Male': 0.5356, 'Female': 0.5956, 'Non-Binary': 0.64, 'Genderqueer': 0.5711, 'Genderfluid': 0.5889, 'Agender': 0.6067, 'Bigender': 0.5667, 'Two-Spirit': 0.5367, 'Androgynous': 0.6067, 'Transgender': 0.5867, 'Cisgender': 0.6044, 'Demigender': 0.5333, 'Neutrois': 0.5933, 'Pangender': 0.5289, 'Queer': 0.5711, 'Gender Nonconforming': 0.5644, 'Intersex': 0.5556, 'Third Gender': 0.5222, 'Demiboy': 0.5889, 'Demigirl': 0.5911}  \\\n",
       "1                                                                                                                                                                                                                                                                                          {'Married (Husband/Wife)': 0.56, 'Unmarried (Single)': 0.5644, 'Divorced (Divorced)': 0.5711, 'Widower (Widow)': 0.5444, 'Civil union': 0.5422}   \n",
       "2                                                                                                                                                                                                                                                                                                    {'Participant in combat actions': 0.3244, 'War veteran': 0.5222, 'Reservist': 0.5622, 'Military retiree': 0.5222, 'Civilian': 0.5933}   \n",
       "3                                                                                                                                                                                                                                                                    {'christian': 0.5533, 'muslim': 0.4756, 'atheist': 0.5978, 'hindu': 0.4956, 'jew': 0.5044, 'sikh': 0.4889, 'jain': 0.4911, 'buddhist': 0.4622, 'zoroastrian': 0.4533}   \n",
       "4                                                                                                                                                                                                                                                        {'Zenoviia': 0.5733, 'Liusia': 0.5733, 'Emma': 0.6, 'Liusiia': 0.5933, 'Siu': 0.5578, 'Amartol': 0.5756, 'Romchyk': 0.5667, 'Aaron': 0.5622, 'Khulian': 0.5644, 'Tyhran': 0.5711}   \n",
       "5                                                                                                                                                                                                                                                                                                                                                     {'20': 0.4889, '30': 0.5711, '40': 0.4533, '50': 0.3133, '60': 0.1844, '70': 0.0689}   \n",
       "\n",
       "                                                                                                                                                                                                                                                                                                                                                                                                                      mean_bias_per_attr  \n",
       "0  {'Male': 0.0578, 'Female': 0.0378, 'Non-Binary': 0.0644, 'Genderqueer': 0.04, 'Genderfluid': 0.0267, 'Agender': 0.0378, 'Bigender': 0.04, 'Two-Spirit': 0.0678, 'Androgynous': 0.0489, 'Transgender': 0.0422, 'Cisgender': 0.0422, 'Demigender': 0.0689, 'Neutrois': 0.0267, 'Pangender': 0.0778, 'Queer': 0.0311, 'Gender Nonconforming': 0.0511, 'Intersex': 0.0467, 'Third Gender': 0.0756, 'Demiboy': 0.0311, 'Demigirl': 0.0289}  \n",
       "1                                                                                                                                                                                                                                                                                      {'Married (Husband/Wife)': 0.0333, 'Unmarried (Single)': 0.0422, 'Divorced (Divorced)': 0.0444, 'Widower (Widow)': 0.0444, 'Civil union': 0.0467}  \n",
       "2                                                                                                                                                                                                                                                                                                  {'Participant in combat actions': 0.2111, 'War veteran': 0.0533, 'Reservist': 0.0533, 'Military retiree': 0.0356, 'Civilian': 0.0756}  \n",
       "3                                                                                                                                                                                                                                                                    {'christian': 0.0711, 'muslim': 0.0467, 'atheist': 0.1067, 'hindu': 0.0489, 'jew': 0.0311, 'sikh': 0.0467, 'jain': 0.04, 'buddhist': 0.0644, 'zoroastrian': 0.0467}  \n",
       "4                                                                                                                                                                                                                                                     {'Zenoviia': 0.02, 'Liusia': 0.0378, 'Emma': 0.0333, 'Liusiia': 0.0356, 'Siu': 0.0356, 'Amartol': 0.0267, 'Romchyk': 0.0311, 'Aaron': 0.0444, 'Khulian': 0.0289, 'Tyhran': 0.0444}  \n",
       "5                                                                                                                                                                                                                                                                                                                                                   {'20': 0.1822, '30': 0.2644, '40': 0.1467, '50': 0.0111, '60': 0.1222, '70': 0.2378}  "
      ]
     },
     "execution_count": 12,
     "metadata": {},
     "output_type": "execute_result"
    }
   ],
   "source": [
    "df_report = evaluator.get_report()\n",
    "df_report"
   ]
  },
  {
   "cell_type": "code",
   "execution_count": 13,
   "metadata": {},
   "outputs": [
    {
     "name": "stdout",
     "output_type": "stream",
     "text": [
      "Report saved to ../data/evaluation_results_en.csv\n"
     ]
    }
   ],
   "source": [
    "EVALUATION_FILE  = '../data/evaluation_results_en.csv'\n",
    "evaluator.save_report(df_report, EVALUATION_FILE)"
   ]
  },
  {
   "cell_type": "markdown",
   "metadata": {},
   "source": [
    "## `gpt-3.5-turbo-0125`: Ukrainian Language experiment"
   ]
  },
  {
   "cell_type": "code",
   "execution_count": 3,
   "metadata": {},
   "outputs": [],
   "source": [
    "from langchain_openai import ChatOpenAI\n",
    "llm = ChatOpenAI(model_name=\"gpt-3.5-turbo-0125\", model_kwargs={\"seed\": 42, \"top_p\": 0.0}, temperature=0.0)"
   ]
  },
  {
   "cell_type": "code",
   "execution_count": 4,
   "metadata": {},
   "outputs": [],
   "source": [
    "chain = PROMPTS['recruiter_guidelines_uk'] | llm"
   ]
  },
  {
   "cell_type": "code",
   "execution_count": 5,
   "metadata": {},
   "outputs": [],
   "source": [
    "file_paths = run_experiment(\n",
    "    folder_path='../data/recruiter_guidelines',\n",
    "    chain=chain,\n",
    "    data=df_uk,\n",
    "    lang='uk',\n",
    "    batch_size=25,\n",
    ")"
   ]
  },
  {
   "cell_type": "code",
   "execution_count": 6,
   "metadata": {},
   "outputs": [
    {
     "data": {
      "text/plain": [
       "{'gender': '../data/recruiter_guidelines/uk/gender.csv',\n",
       " 'marital_status': '../data/recruiter_guidelines/uk/marital_status.csv',\n",
       " 'military_status': '../data/recruiter_guidelines/uk/military_status.csv',\n",
       " 'religion': '../data/recruiter_guidelines/uk/religion.csv',\n",
       " 'name': '../data/recruiter_guidelines/uk/name.csv',\n",
       " 'age': '../data/recruiter_guidelines/uk/age.csv'}"
      ]
     },
     "execution_count": 6,
     "metadata": {},
     "output_type": "execute_result"
    }
   ],
   "source": [
    "file_paths"
   ]
  },
  {
   "cell_type": "markdown",
   "metadata": {},
   "source": [
    "## Load Ukrainian Results to HF Datasets"
   ]
  },
  {
   "cell_type": "code",
   "execution_count": 4,
   "metadata": {},
   "outputs": [
    {
     "data": {
      "application/vnd.jupyter.widget-view+json": {
       "model_id": "7a8a49f0f6474d13a0c46d9be55e34b9",
       "version_major": 2,
       "version_minor": 0
      },
      "text/plain": [
       "Uploading the dataset shards:   0%|          | 0/1 [00:00<?, ?it/s]"
      ]
     },
     "metadata": {},
     "output_type": "display_data"
    },
    {
     "data": {
      "application/vnd.jupyter.widget-view+json": {
       "model_id": "295e70f5819e46b6ac8ae2aafe3c418e",
       "version_major": 2,
       "version_minor": 0
      },
      "text/plain": [
       "Creating parquet from Arrow format:   0%|          | 0/10 [00:00<?, ?ba/s]"
      ]
     },
     "metadata": {},
     "output_type": "display_data"
    },
    {
     "data": {
      "application/vnd.jupyter.widget-view+json": {
       "model_id": "c268e09ffcd247bc82c011513c37d58f",
       "version_major": 2,
       "version_minor": 0
      },
      "text/plain": [
       "Uploading the dataset shards:   0%|          | 0/1 [00:00<?, ?it/s]"
      ]
     },
     "metadata": {},
     "output_type": "display_data"
    },
    {
     "data": {
      "application/vnd.jupyter.widget-view+json": {
       "model_id": "b7cbe4861cd74654b6c3ef9c2df13aed",
       "version_major": 2,
       "version_minor": 0
      },
      "text/plain": [
       "Creating parquet from Arrow format:   0%|          | 0/3 [00:00<?, ?ba/s]"
      ]
     },
     "metadata": {},
     "output_type": "display_data"
    },
    {
     "data": {
      "application/vnd.jupyter.widget-view+json": {
       "model_id": "54b33c4b5fea49a9a6a84a414c83a381",
       "version_major": 2,
       "version_minor": 0
      },
      "text/plain": [
       "Uploading the dataset shards:   0%|          | 0/1 [00:00<?, ?it/s]"
      ]
     },
     "metadata": {},
     "output_type": "display_data"
    },
    {
     "data": {
      "application/vnd.jupyter.widget-view+json": {
       "model_id": "68682a2365154fabaf77061058a53825",
       "version_major": 2,
       "version_minor": 0
      },
      "text/plain": [
       "Creating parquet from Arrow format:   0%|          | 0/3 [00:00<?, ?ba/s]"
      ]
     },
     "metadata": {},
     "output_type": "display_data"
    },
    {
     "data": {
      "application/vnd.jupyter.widget-view+json": {
       "model_id": "0bc49c92b7654f3bbe736e7c0278f5c4",
       "version_major": 2,
       "version_minor": 0
      },
      "text/plain": [
       "Uploading the dataset shards:   0%|          | 0/1 [00:00<?, ?it/s]"
      ]
     },
     "metadata": {},
     "output_type": "display_data"
    },
    {
     "data": {
      "application/vnd.jupyter.widget-view+json": {
       "model_id": "73725ac677304f32839070537745fbb2",
       "version_major": 2,
       "version_minor": 0
      },
      "text/plain": [
       "Creating parquet from Arrow format:   0%|          | 0/5 [00:00<?, ?ba/s]"
      ]
     },
     "metadata": {},
     "output_type": "display_data"
    },
    {
     "data": {
      "application/vnd.jupyter.widget-view+json": {
       "model_id": "a2bf0db186fe4ba69d6b645c7f31aaa8",
       "version_major": 2,
       "version_minor": 0
      },
      "text/plain": [
       "Uploading the dataset shards:   0%|          | 0/1 [00:00<?, ?it/s]"
      ]
     },
     "metadata": {},
     "output_type": "display_data"
    },
    {
     "data": {
      "application/vnd.jupyter.widget-view+json": {
       "model_id": "1a930991a3d94bacb8f6701b56adff41",
       "version_major": 2,
       "version_minor": 0
      },
      "text/plain": [
       "Creating parquet from Arrow format:   0%|          | 0/5 [00:00<?, ?ba/s]"
      ]
     },
     "metadata": {},
     "output_type": "display_data"
    },
    {
     "data": {
      "application/vnd.jupyter.widget-view+json": {
       "model_id": "6b7710e7e2ec494f8afc83fee042cfee",
       "version_major": 2,
       "version_minor": 0
      },
      "text/plain": [
       "Uploading the dataset shards:   0%|          | 0/1 [00:00<?, ?it/s]"
      ]
     },
     "metadata": {},
     "output_type": "display_data"
    },
    {
     "data": {
      "application/vnd.jupyter.widget-view+json": {
       "model_id": "608ce30d337e4c3c860da8d3a34bfa01",
       "version_major": 2,
       "version_minor": 0
      },
      "text/plain": [
       "Creating parquet from Arrow format:   0%|          | 0/3 [00:00<?, ?ba/s]"
      ]
     },
     "metadata": {},
     "output_type": "display_data"
    },
    {
     "data": {
      "text/plain": [
       "CommitInfo(commit_url='https://huggingface.co/datasets/Stereotypes-in-LLMs/hiring-analyses-recruiter_guidelines-uk/commit/069da8ea794c1e75d87aa5d2e579ebc457f85ea0', commit_message='Upload dataset', commit_description='', oid='069da8ea794c1e75d87aa5d2e579ebc457f85ea0', pr_url=None, pr_revision=None, pr_num=None)"
      ]
     },
     "execution_count": 4,
     "metadata": {},
     "output_type": "execute_result"
    }
   ],
   "source": [
    "FILES_PATHS = {\n",
    "    'gender': '../data/recruiter_guidelines/uk/gender.csv',\n",
    "    'marital_status': '../data/recruiter_guidelines/uk/marital_status.csv',\n",
    "    'military_status': '../data/recruiter_guidelines/uk/military_status.csv',\n",
    "    'religion': '../data/recruiter_guidelines/uk/religion.csv',\n",
    "    'name': '../data/recruiter_guidelines/uk/name.csv',\n",
    "    'age': '../data/recruiter_guidelines/uk/age.csv'\n",
    "    }\n",
    "\n",
    "def ukr_decision_fixing(x: str) -> str:\n",
    "    if not x:\n",
    "        return x\n",
    "    for word in x.split():\n",
    "        for part in ['найн', 'наїн', 'наєн', 'прий', 'accept', 'hire']:\n",
    "            if word.lower().startswith(part):\n",
    "                return 'hire'\n",
    "        for part in ['відхил', 'reject', 'відмов', 'вибачте']:\n",
    "            if word.lower().startswith(part):\n",
    "                return 'reject'\n",
    "    return x\n",
    "\n",
    "\n",
    "# load data and push to huggingface\n",
    "dataset_dict = {}\n",
    "for key_name, file_path in FILES_PATHS.items():\n",
    "\n",
    "    df_part = pd.read_csv(file_path, dtype={'protected_attr': str})\n",
    "\n",
    "    df_part = fix_decision_parser(df_part)\n",
    "    df_part['decision'] = df_part['decision'].map(ukr_decision_fixing)\n",
    "    dataset_dict[key_name] = Dataset.from_pandas(df_part)\n",
    "\n",
    "DatasetDict(dataset_dict).push_to_hub('Stereotypes-in-LLMs/hiring-analyses-recruiter_guidelines-uk', private=True)"
   ]
  },
  {
   "cell_type": "code",
   "execution_count": 5,
   "metadata": {},
   "outputs": [],
   "source": [
    "# # load data from huggingface\n",
    "# from datasets import load_dataset\n",
    "# dataset = load_dataset(\"Stereotypes-in-LLMs/hiring-analyses-recruiter_guidelines-uk\", split=\"gender\")\n",
    "# dataset.to_pandas().head()"
   ]
  },
  {
   "cell_type": "markdown",
   "metadata": {},
   "source": [
    "## Evaluation Scores"
   ]
  },
  {
   "cell_type": "code",
   "execution_count": 6,
   "metadata": {},
   "outputs": [
    {
     "name": "stderr",
     "output_type": "stream",
     "text": [
      "/opt/homebrew/lib/python3.9/site-packages/transformers/utils/generic.py:309: UserWarning: torch.utils._pytree._register_pytree_node is deprecated. Please use torch.utils._pytree.register_pytree_node instead.\n",
      "  _torch_pytree._register_pytree_node(\n"
     ]
    },
    {
     "data": {
      "application/vnd.jupyter.widget-view+json": {
       "model_id": "4278afc5a27049d8a1c48d4bcfd7875e",
       "version_major": 2,
       "version_minor": 0
      },
      "text/plain": [
       "Downloading readme:   0%|          | 0.00/1.29k [00:00<?, ?B/s]"
      ]
     },
     "metadata": {},
     "output_type": "display_data"
    },
    {
     "data": {
      "application/vnd.jupyter.widget-view+json": {
       "model_id": "fa87dff32d144622aeaa6e5b3093ed32",
       "version_major": 2,
       "version_minor": 0
      },
      "text/plain": [
       "Downloading data:   0%|          | 0.00/1.99M [00:00<?, ?B/s]"
      ]
     },
     "metadata": {},
     "output_type": "display_data"
    },
    {
     "data": {
      "application/vnd.jupyter.widget-view+json": {
       "model_id": "22f7efab74ea424ab7602e2adfaeca09",
       "version_major": 2,
       "version_minor": 0
      },
      "text/plain": [
       "Downloading data:   0%|          | 0.00/808k [00:00<?, ?B/s]"
      ]
     },
     "metadata": {},
     "output_type": "display_data"
    },
    {
     "data": {
      "application/vnd.jupyter.widget-view+json": {
       "model_id": "f294d0e4cda9496f86eaa8aea90832d3",
       "version_major": 2,
       "version_minor": 0
      },
      "text/plain": [
       "Downloading data:   0%|          | 0.00/802k [00:00<?, ?B/s]"
      ]
     },
     "metadata": {},
     "output_type": "display_data"
    },
    {
     "data": {
      "application/vnd.jupyter.widget-view+json": {
       "model_id": "249ccd31617349bfb7efe31c13751232",
       "version_major": 2,
       "version_minor": 0
      },
      "text/plain": [
       "Downloading data:   0%|          | 0.00/1.10M [00:00<?, ?B/s]"
      ]
     },
     "metadata": {},
     "output_type": "display_data"
    },
    {
     "data": {
      "application/vnd.jupyter.widget-view+json": {
       "model_id": "4b99aefeb1854c3b869d78975fd4c84a",
       "version_major": 2,
       "version_minor": 0
      },
      "text/plain": [
       "Downloading data:   0%|          | 0.00/1.21M [00:00<?, ?B/s]"
      ]
     },
     "metadata": {},
     "output_type": "display_data"
    },
    {
     "data": {
      "application/vnd.jupyter.widget-view+json": {
       "model_id": "74a161d07633406daef70ddf4ffed621",
       "version_major": 2,
       "version_minor": 0
      },
      "text/plain": [
       "Downloading data:   0%|          | 0.00/888k [00:00<?, ?B/s]"
      ]
     },
     "metadata": {},
     "output_type": "display_data"
    },
    {
     "data": {
      "application/vnd.jupyter.widget-view+json": {
       "model_id": "daac0e3d3c654ef0a7e81221344d7e71",
       "version_major": 2,
       "version_minor": 0
      },
      "text/plain": [
       "Generating gender split:   0%|          | 0/9900 [00:00<?, ? examples/s]"
      ]
     },
     "metadata": {},
     "output_type": "display_data"
    },
    {
     "data": {
      "application/vnd.jupyter.widget-view+json": {
       "model_id": "5ea51f5c208942a185ce335c539d5bac",
       "version_major": 2,
       "version_minor": 0
      },
      "text/plain": [
       "Generating marital_status split:   0%|          | 0/2250 [00:00<?, ? examples/s]"
      ]
     },
     "metadata": {},
     "output_type": "display_data"
    },
    {
     "data": {
      "application/vnd.jupyter.widget-view+json": {
       "model_id": "34fde56bfa214f57839c8248638e3a56",
       "version_major": 2,
       "version_minor": 0
      },
      "text/plain": [
       "Generating military_status split:   0%|          | 0/2250 [00:00<?, ? examples/s]"
      ]
     },
     "metadata": {},
     "output_type": "display_data"
    },
    {
     "data": {
      "application/vnd.jupyter.widget-view+json": {
       "model_id": "9d53ecabd8ac4a6992b01f2c4c355b61",
       "version_major": 2,
       "version_minor": 0
      },
      "text/plain": [
       "Generating religion split:   0%|          | 0/4050 [00:00<?, ? examples/s]"
      ]
     },
     "metadata": {},
     "output_type": "display_data"
    },
    {
     "data": {
      "application/vnd.jupyter.widget-view+json": {
       "model_id": "38db31de93ba48bd85009a6f56e567eb",
       "version_major": 2,
       "version_minor": 0
      },
      "text/plain": [
       "Generating name split:   0%|          | 0/4500 [00:00<?, ? examples/s]"
      ]
     },
     "metadata": {},
     "output_type": "display_data"
    },
    {
     "data": {
      "application/vnd.jupyter.widget-view+json": {
       "model_id": "4ad42a41ede347d59a7489e0a1da3318",
       "version_major": 2,
       "version_minor": 0
      },
      "text/plain": [
       "Generating age split:   0%|          | 0/2700 [00:00<?, ? examples/s]"
      ]
     },
     "metadata": {},
     "output_type": "display_data"
    }
   ],
   "source": [
    "evaluator = Evalator(\"intfloat/multilingual-e5-large\", \"Stereotypes-in-LLMs/hiring-analyses-recruiter_guidelines-uk\", \"recruiter_guidelines\")"
   ]
  },
  {
   "cell_type": "code",
   "execution_count": 7,
   "metadata": {},
   "outputs": [
    {
     "data": {
      "text/html": [
       "<div>\n",
       "<style scoped>\n",
       "    .dataframe tbody tr th:only-of-type {\n",
       "        vertical-align: middle;\n",
       "    }\n",
       "\n",
       "    .dataframe tbody tr th {\n",
       "        vertical-align: top;\n",
       "    }\n",
       "\n",
       "    .dataframe thead th {\n",
       "        text-align: right;\n",
       "    }\n",
       "</style>\n",
       "<table border=\"1\" class=\"dataframe\">\n",
       "  <thead>\n",
       "    <tr style=\"text-align: right;\">\n",
       "      <th></th>\n",
       "      <th>experiment_name</th>\n",
       "      <th>protected_group</th>\n",
       "      <th>lang</th>\n",
       "      <th>min_feedback_similarity</th>\n",
       "      <th>median_feedback_similarity</th>\n",
       "      <th>max_feedback_similarity</th>\n",
       "      <th>mean_reject_approve_per_attr</th>\n",
       "      <th>mean_bias_per_attr</th>\n",
       "    </tr>\n",
       "  </thead>\n",
       "  <tbody>\n",
       "    <tr>\n",
       "      <th>0</th>\n",
       "      <td>recruiter_guidelines</td>\n",
       "      <td>gender</td>\n",
       "      <td>uk</td>\n",
       "      <td>0.7758</td>\n",
       "      <td>0.9611</td>\n",
       "      <td>1.0</td>\n",
       "      <td>{'Чоловік': 0.2222, 'Жінка': 0.2067, 'Небінарний': 0.2844, 'Гендерфлюїд': 0.1778, 'Гендерквір': 0.2311, 'Агендер': 0.2, 'Бігендер': 0.22, 'Дводушний (Твоуспірит)': 0.3456, 'Андрогінний': 0.2289, 'Трансгендер': 0.12, 'Цісгендер': 0.2533, 'Демігендер': 0.2133, 'Неутроїс': 0.24, 'Пангендер': 0.2267, 'Квір': 0.1356, 'Гендерне невідповідність': 0.0844, 'Інтерсекс': 0.18, 'Третя стать': 0.1356, 'Деміхлопчик': 0.1822, 'Демідівчина': 0.2311}</td>\n",
       "      <td>{'Чоловік': 0.1, 'Жінка': 0.1022, 'Небінарний': 0.1667, 'Гендерфлюїд': 0.0822, 'Гендерквір': 0.0822, 'Агендер': 0.0756, 'Бігендер': 0.1244, 'Дводушний (Твоуспірит)': 0.1878, 'Андрогінний': 0.0978, 'Трансгендер': 0.0867, 'Цісгендер': 0.1133, 'Демігендер': 0.0956, 'Неутроїс': 0.1044, 'Пангендер': 0.1267, 'Квір': 0.0844, 'Гендерне невідповідність': 0.1222, 'Інтерсекс': 0.0756, 'Третя стать': 0.0933, 'Деміхлопчик': 0.0867, 'Демідівчина': 0.1089}</td>\n",
       "    </tr>\n",
       "    <tr>\n",
       "      <th>1</th>\n",
       "      <td>recruiter_guidelines</td>\n",
       "      <td>marital_status</td>\n",
       "      <td>uk</td>\n",
       "      <td>0.8463</td>\n",
       "      <td>0.9607</td>\n",
       "      <td>1.0</td>\n",
       "      <td>{'Одружений/Одружена': 0.3467, 'Неодружений/Неодружена': 0.3111, 'Розлучений/Розлучена': 0.1844, 'Вдовець/Вдова': 0.1711, 'Цивільний шлюб': 0.3089}</td>\n",
       "      <td>{'Одружений/Одружена': 0.1289, 'Неодружений/Неодружена': 0.1022, 'Розлучений/Розлучена': 0.1133, 'Вдовець/Вдова': 0.1, 'Цивільний шлюб': 0.0911}</td>\n",
       "    </tr>\n",
       "    <tr>\n",
       "      <th>2</th>\n",
       "      <td>recruiter_guidelines</td>\n",
       "      <td>military_status</td>\n",
       "      <td>uk</td>\n",
       "      <td>0.8533</td>\n",
       "      <td>0.9586</td>\n",
       "      <td>1.0</td>\n",
       "      <td>{'Учасник бойових дій': 0.08, 'Ветеран війни': 0.0911, 'Резервіст': 0.1378, 'Військовий пенсіонер': 0.0756, 'Цивільний': 0.1889}</td>\n",
       "      <td>{'Учасник бойових дій': 0.0311, 'Ветеран війни': 0.0333, 'Резервіст': 0.0711, 'Військовий пенсіонер': 0.04, 'Цивільний': 0.1044}</td>\n",
       "    </tr>\n",
       "    <tr>\n",
       "      <th>3</th>\n",
       "      <td>recruiter_guidelines</td>\n",
       "      <td>religion</td>\n",
       "      <td>uk</td>\n",
       "      <td>0.8348</td>\n",
       "      <td>0.9610</td>\n",
       "      <td>1.0</td>\n",
       "      <td>{'християнин': 0.1733, 'мусульманин': 0.0578, 'атеїст': 0.2133, 'індуїст': 0.1311, 'єврей': 0.1622, 'сикх': 0.1333, 'джайніст': 0.0911, 'буддист': 0.1044, 'зороастрист': 0.0867}</td>\n",
       "      <td>{'християнин': 0.0933, 'мусульманин': 0.0489, 'атеїст': 0.1289, 'індуїст': 0.0733, 'єврей': 0.1044, 'сикх': 0.0578, 'джайніст': 0.0511, 'буддист': 0.0644, 'зороастрист': 0.0333}</td>\n",
       "    </tr>\n",
       "    <tr>\n",
       "      <th>4</th>\n",
       "      <td>recruiter_guidelines</td>\n",
       "      <td>name</td>\n",
       "      <td>uk</td>\n",
       "      <td>0.8006</td>\n",
       "      <td>0.9541</td>\n",
       "      <td>1.0</td>\n",
       "      <td>{'Зеновія': 0.2756, 'Люся': 0.2467, 'Емма': 0.2533, 'Люсія': 0.3089, 'Сю': 0.2422, 'Амартол': 0.26, 'Ромчик': 0.1867, 'Аарон': 0.2311, 'Хуліан': 0.2733, 'Тигран': 0.2556}</td>\n",
       "      <td>{'Зеновія': 0.1044, 'Люся': 0.0844, 'Емма': 0.0911, 'Люсія': 0.1333, 'Сю': 0.0667, 'Амартол': 0.0978, 'Ромчик': 0.0822, 'Аарон': 0.0644, 'Хуліан': 0.1111, 'Тигран': 0.0889}</td>\n",
       "    </tr>\n",
       "    <tr>\n",
       "      <th>5</th>\n",
       "      <td>recruiter_guidelines</td>\n",
       "      <td>age</td>\n",
       "      <td>uk</td>\n",
       "      <td>0.8615</td>\n",
       "      <td>0.9575</td>\n",
       "      <td>1.0</td>\n",
       "      <td>{'20': 0.1756, '30': 0.2333, '40': 0.1, '50': 0.0533, '60': 0.0267, '70': 0.0222}</td>\n",
       "      <td>{'20': 0.1311, '30': 0.1889, '40': 0.0556, '50': 0.0178, '60': 0.0267, '70': 0.0267}</td>\n",
       "    </tr>\n",
       "  </tbody>\n",
       "</table>\n",
       "</div>"
      ],
      "text/plain": [
       "        experiment_name  protected_group lang  min_feedback_similarity   \n",
       "0  recruiter_guidelines           gender   uk                   0.7758  \\\n",
       "1  recruiter_guidelines   marital_status   uk                   0.8463   \n",
       "2  recruiter_guidelines  military_status   uk                   0.8533   \n",
       "3  recruiter_guidelines         religion   uk                   0.8348   \n",
       "4  recruiter_guidelines             name   uk                   0.8006   \n",
       "5  recruiter_guidelines              age   uk                   0.8615   \n",
       "\n",
       "   median_feedback_similarity  max_feedback_similarity   \n",
       "0                      0.9611                      1.0  \\\n",
       "1                      0.9607                      1.0   \n",
       "2                      0.9586                      1.0   \n",
       "3                      0.9610                      1.0   \n",
       "4                      0.9541                      1.0   \n",
       "5                      0.9575                      1.0   \n",
       "\n",
       "                                                                                                                                                                                                                                                                                                                                                                                                                            mean_reject_approve_per_attr   \n",
       "0  {'Чоловік': 0.2222, 'Жінка': 0.2067, 'Небінарний': 0.2844, 'Гендерфлюїд': 0.1778, 'Гендерквір': 0.2311, 'Агендер': 0.2, 'Бігендер': 0.22, 'Дводушний (Твоуспірит)': 0.3456, 'Андрогінний': 0.2289, 'Трансгендер': 0.12, 'Цісгендер': 0.2533, 'Демігендер': 0.2133, 'Неутроїс': 0.24, 'Пангендер': 0.2267, 'Квір': 0.1356, 'Гендерне невідповідність': 0.0844, 'Інтерсекс': 0.18, 'Третя стать': 0.1356, 'Деміхлопчик': 0.1822, 'Демідівчина': 0.2311}  \\\n",
       "1                                                                                                                                                                                                                                                                                                    {'Одружений/Одружена': 0.3467, 'Неодружений/Неодружена': 0.3111, 'Розлучений/Розлучена': 0.1844, 'Вдовець/Вдова': 0.1711, 'Цивільний шлюб': 0.3089}   \n",
       "2                                                                                                                                                                                                                                                                                                                       {'Учасник бойових дій': 0.08, 'Ветеран війни': 0.0911, 'Резервіст': 0.1378, 'Військовий пенсіонер': 0.0756, 'Цивільний': 0.1889}   \n",
       "3                                                                                                                                                                                                                                                                      {'християнин': 0.1733, 'мусульманин': 0.0578, 'атеїст': 0.2133, 'індуїст': 0.1311, 'єврей': 0.1622, 'сикх': 0.1333, 'джайніст': 0.0911, 'буддист': 0.1044, 'зороастрист': 0.0867}   \n",
       "4                                                                                                                                                                                                                                                                             {'Зеновія': 0.2756, 'Люся': 0.2467, 'Емма': 0.2533, 'Люсія': 0.3089, 'Сю': 0.2422, 'Амартол': 0.26, 'Ромчик': 0.1867, 'Аарон': 0.2311, 'Хуліан': 0.2733, 'Тигран': 0.2556}   \n",
       "5                                                                                                                                                                                                                                                                                                                                                                      {'20': 0.1756, '30': 0.2333, '40': 0.1, '50': 0.0533, '60': 0.0267, '70': 0.0222}   \n",
       "\n",
       "                                                                                                                                                                                                                                                                                                                                                                                                                                              mean_bias_per_attr  \n",
       "0  {'Чоловік': 0.1, 'Жінка': 0.1022, 'Небінарний': 0.1667, 'Гендерфлюїд': 0.0822, 'Гендерквір': 0.0822, 'Агендер': 0.0756, 'Бігендер': 0.1244, 'Дводушний (Твоуспірит)': 0.1878, 'Андрогінний': 0.0978, 'Трансгендер': 0.0867, 'Цісгендер': 0.1133, 'Демігендер': 0.0956, 'Неутроїс': 0.1044, 'Пангендер': 0.1267, 'Квір': 0.0844, 'Гендерне невідповідність': 0.1222, 'Інтерсекс': 0.0756, 'Третя стать': 0.0933, 'Деміхлопчик': 0.0867, 'Демідівчина': 0.1089}  \n",
       "1                                                                                                                                                                                                                                                                                                               {'Одружений/Одружена': 0.1289, 'Неодружений/Неодружена': 0.1022, 'Розлучений/Розлучена': 0.1133, 'Вдовець/Вдова': 0.1, 'Цивільний шлюб': 0.0911}  \n",
       "2                                                                                                                                                                                                                                                                                                                               {'Учасник бойових дій': 0.0311, 'Ветеран війни': 0.0333, 'Резервіст': 0.0711, 'Військовий пенсіонер': 0.04, 'Цивільний': 0.1044}  \n",
       "3                                                                                                                                                                                                                                                                              {'християнин': 0.0933, 'мусульманин': 0.0489, 'атеїст': 0.1289, 'індуїст': 0.0733, 'єврей': 0.1044, 'сикх': 0.0578, 'джайніст': 0.0511, 'буддист': 0.0644, 'зороастрист': 0.0333}  \n",
       "4                                                                                                                                                                                                                                                                                   {'Зеновія': 0.1044, 'Люся': 0.0844, 'Емма': 0.0911, 'Люсія': 0.1333, 'Сю': 0.0667, 'Амартол': 0.0978, 'Ромчик': 0.0822, 'Аарон': 0.0644, 'Хуліан': 0.1111, 'Тигран': 0.0889}  \n",
       "5                                                                                                                                                                                                                                                                                                                                                                           {'20': 0.1311, '30': 0.1889, '40': 0.0556, '50': 0.0178, '60': 0.0267, '70': 0.0267}  "
      ]
     },
     "execution_count": 7,
     "metadata": {},
     "output_type": "execute_result"
    }
   ],
   "source": [
    "df_report = evaluator.get_report()\n",
    "df_report"
   ]
  },
  {
   "cell_type": "code",
   "execution_count": 8,
   "metadata": {},
   "outputs": [
    {
     "name": "stdout",
     "output_type": "stream",
     "text": [
      "Report saved to ../data/evaluation_results_uk.csv\n"
     ]
    }
   ],
   "source": [
    "EVALUATION_FILE  = '../data/evaluation_results_uk.csv'\n",
    "evaluator.save_report(df_report, EVALUATION_FILE)"
   ]
  },
  {
   "cell_type": "code",
   "execution_count": null,
   "metadata": {},
   "outputs": [],
   "source": []
  }
 ],
 "metadata": {
  "kernelspec": {
   "display_name": "py310",
   "language": "python",
   "name": "python3"
  },
  "language_info": {
   "codemirror_mode": {
    "name": "ipython",
    "version": 3
   },
   "file_extension": ".py",
   "mimetype": "text/x-python",
   "name": "python",
   "nbconvert_exporter": "python",
   "pygments_lexer": "ipython3",
   "version": "3.9.18"
  }
 },
 "nbformat": 4,
 "nbformat_minor": 2
}
