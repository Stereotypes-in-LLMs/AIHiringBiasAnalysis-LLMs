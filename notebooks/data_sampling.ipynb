{
 "cells": [
  {
   "cell_type": "markdown",
   "metadata": {},
   "source": [
    "# Create Data Samples for research"
   ]
  },
  {
   "cell_type": "code",
   "execution_count": 1,
   "metadata": {},
   "outputs": [
    {
     "data": {
      "application/vnd.jupyter.widget-view+json": {
       "model_id": "f0de3353adf24f93a77e2e8d117494d0",
       "version_major": 2,
       "version_minor": 0
      },
      "text/plain": [
       "VBox(children=(HTML(value='<center> <img\\nsrc=https://huggingface.co/front/assets/huggingface_logo-noborder.sv…"
      ]
     },
     "metadata": {},
     "output_type": "display_data"
    }
   ],
   "source": [
    "import os\n",
    "import sys\n",
    "sys.path.append('..')\n",
    "from loader_and_injection import DataLoader\n",
    "\n",
    "from huggingface_hub import notebook_login\n",
    "notebook_login()"
   ]
  },
  {
   "cell_type": "markdown",
   "metadata": {},
   "source": [
    "## Create Ukrainian samples"
   ]
  },
  {
   "cell_type": "code",
   "execution_count": 2,
   "metadata": {},
   "outputs": [
    {
     "name": "stderr",
     "output_type": "stream",
     "text": [
      "INFO:root:Loading data...\n",
      "INFO:root:Data loaded\n",
      "INFO:root:Filtering data...\n",
      "INFO:root:Data filtered\n",
      "INFO:root:Sampling data...\n",
      "/Users/nazardrushchak/Documents/універ/MSc_Data_Science/MS Thesis/AIHiringBiasAnalysis-LLMs/notebooks/../src/loader_and_corruption.py:84: SettingWithCopyWarning: \n",
      "A value is trying to be set on a copy of a slice from a DataFrame.\n",
      "Try using .loc[row_indexer,col_indexer] = value instead\n",
      "\n",
      "See the caveats in the documentation: https://pandas.pydata.org/pandas-docs/stable/user_guide/indexing.html#returning-a-view-versus-a-copy\n",
      "  \n",
      "INFO:root:Data sampled\n",
      "INFO:root:Combining data...\n"
     ]
    },
    {
     "name": "stdout",
     "output_type": "stream",
     "text": [
      "150\n"
     ]
    },
    {
     "name": "stderr",
     "output_type": "stream",
     "text": [
      "INFO:root:Data combined\n"
     ]
    }
   ],
   "source": [
    "data_loader = DataLoader()\n",
    "data = data_loader.process()"
   ]
  },
  {
   "cell_type": "code",
   "execution_count": 3,
   "metadata": {},
   "outputs": [
    {
     "data": {
      "text/plain": [
       "450"
      ]
     },
     "execution_count": 3,
     "metadata": {},
     "output_type": "execute_result"
    }
   ],
   "source": [
    "len(data)"
   ]
  },
  {
   "cell_type": "code",
   "execution_count": 4,
   "metadata": {},
   "outputs": [
    {
     "data": {
      "text/html": [
       "<div>\n",
       "<style scoped>\n",
       "    .dataframe tbody tr th:only-of-type {\n",
       "        vertical-align: middle;\n",
       "    }\n",
       "\n",
       "    .dataframe tbody tr th {\n",
       "        vertical-align: top;\n",
       "    }\n",
       "\n",
       "    .dataframe thead th {\n",
       "        text-align: right;\n",
       "    }\n",
       "</style>\n",
       "<table border=\"1\" class=\"dataframe\">\n",
       "  <thead>\n",
       "    <tr style=\"text-align: right;\">\n",
       "      <th></th>\n",
       "      <th>item_id</th>\n",
       "      <th>candidate_id</th>\n",
       "      <th>job_id</th>\n",
       "      <th>CV</th>\n",
       "      <th>Job Description</th>\n",
       "      <th>Job Position</th>\n",
       "      <th>lang</th>\n",
       "    </tr>\n",
       "  </thead>\n",
       "  <tbody>\n",
       "    <tr>\n",
       "      <th>0</th>\n",
       "      <td>e765137d-40e0-5ae0-aaf9-a966f76f3621_1d98054f-...</td>\n",
       "      <td>e765137d-40e0-5ae0-aaf9-a966f76f3621</td>\n",
       "      <td>1d98054f-4adf-5db0-8e2d-4dab904dfe44</td>\n",
       "      <td>Комунікабельний, серйозний, старанний, швидко ...</td>\n",
       "      <td>**💎Нашому супергерою ми обіцяємо:**\\r\\n— цікав...</td>\n",
       "      <td>2D Artist</td>\n",
       "      <td>uk</td>\n",
       "    </tr>\n",
       "    <tr>\n",
       "      <th>1</th>\n",
       "      <td>e765137d-40e0-5ae0-aaf9-a966f76f3621_6addf108-...</td>\n",
       "      <td>e765137d-40e0-5ae0-aaf9-a966f76f3621</td>\n",
       "      <td>6addf108-43e3-5677-b565-5117c619f084</td>\n",
       "      <td>Комунікабельний, серйозний, старанний, швидко ...</td>\n",
       "      <td>Розробник та видавець мобільних ігор Mystery T...</td>\n",
       "      <td>2D Artist</td>\n",
       "      <td>uk</td>\n",
       "    </tr>\n",
       "    <tr>\n",
       "      <th>2</th>\n",
       "      <td>e765137d-40e0-5ae0-aaf9-a966f76f3621_13dbe82c-...</td>\n",
       "      <td>e765137d-40e0-5ae0-aaf9-a966f76f3621</td>\n",
       "      <td>13dbe82c-a0fa-5538-82a6-64f8268ece38</td>\n",
       "      <td>Комунікабельний, серйозний, старанний, швидко ...</td>\n",
       "      <td>Твої задачі:\\r\\n-створення та розробка дизайну...</td>\n",
       "      <td>2D Artist</td>\n",
       "      <td>uk</td>\n",
       "    </tr>\n",
       "    <tr>\n",
       "      <th>3</th>\n",
       "      <td>db4c55c9-e3e6-5d58-99ea-06697e4547e9_1d98054f-...</td>\n",
       "      <td>db4c55c9-e3e6-5d58-99ea-06697e4547e9</td>\n",
       "      <td>1d98054f-4adf-5db0-8e2d-4dab904dfe44</td>\n",
       "      <td>\\n1. 2D animator в \"Storzy\" (12.2020-02.2022)\\...</td>\n",
       "      <td>**💎Нашому супергерою ми обіцяємо:**\\r\\n— цікав...</td>\n",
       "      <td>2D Artist</td>\n",
       "      <td>uk</td>\n",
       "    </tr>\n",
       "    <tr>\n",
       "      <th>4</th>\n",
       "      <td>db4c55c9-e3e6-5d58-99ea-06697e4547e9_6addf108-...</td>\n",
       "      <td>db4c55c9-e3e6-5d58-99ea-06697e4547e9</td>\n",
       "      <td>6addf108-43e3-5677-b565-5117c619f084</td>\n",
       "      <td>\\n1. 2D animator в \"Storzy\" (12.2020-02.2022)\\...</td>\n",
       "      <td>Розробник та видавець мобільних ігор Mystery T...</td>\n",
       "      <td>2D Artist</td>\n",
       "      <td>uk</td>\n",
       "    </tr>\n",
       "  </tbody>\n",
       "</table>\n",
       "</div>"
      ],
      "text/plain": [
       "                                             item_id  \\\n",
       "0  e765137d-40e0-5ae0-aaf9-a966f76f3621_1d98054f-...   \n",
       "1  e765137d-40e0-5ae0-aaf9-a966f76f3621_6addf108-...   \n",
       "2  e765137d-40e0-5ae0-aaf9-a966f76f3621_13dbe82c-...   \n",
       "3  db4c55c9-e3e6-5d58-99ea-06697e4547e9_1d98054f-...   \n",
       "4  db4c55c9-e3e6-5d58-99ea-06697e4547e9_6addf108-...   \n",
       "\n",
       "                           candidate_id                                job_id  \\\n",
       "0  e765137d-40e0-5ae0-aaf9-a966f76f3621  1d98054f-4adf-5db0-8e2d-4dab904dfe44   \n",
       "1  e765137d-40e0-5ae0-aaf9-a966f76f3621  6addf108-43e3-5677-b565-5117c619f084   \n",
       "2  e765137d-40e0-5ae0-aaf9-a966f76f3621  13dbe82c-a0fa-5538-82a6-64f8268ece38   \n",
       "3  db4c55c9-e3e6-5d58-99ea-06697e4547e9  1d98054f-4adf-5db0-8e2d-4dab904dfe44   \n",
       "4  db4c55c9-e3e6-5d58-99ea-06697e4547e9  6addf108-43e3-5677-b565-5117c619f084   \n",
       "\n",
       "                                                  CV  \\\n",
       "0  Комунікабельний, серйозний, старанний, швидко ...   \n",
       "1  Комунікабельний, серйозний, старанний, швидко ...   \n",
       "2  Комунікабельний, серйозний, старанний, швидко ...   \n",
       "3  \\n1. 2D animator в \"Storzy\" (12.2020-02.2022)\\...   \n",
       "4  \\n1. 2D animator в \"Storzy\" (12.2020-02.2022)\\...   \n",
       "\n",
       "                                     Job Description Job Position lang  \n",
       "0  **💎Нашому супергерою ми обіцяємо:**\\r\\n— цікав...    2D Artist   uk  \n",
       "1  Розробник та видавець мобільних ігор Mystery T...    2D Artist   uk  \n",
       "2  Твої задачі:\\r\\n-створення та розробка дизайну...    2D Artist   uk  \n",
       "3  **💎Нашому супергерою ми обіцяємо:**\\r\\n— цікав...    2D Artist   uk  \n",
       "4  Розробник та видавець мобільних ігор Mystery T...    2D Artist   uk  "
      ]
     },
     "execution_count": 4,
     "metadata": {},
     "output_type": "execute_result"
    }
   ],
   "source": [
    "data.head()"
   ]
  },
  {
   "cell_type": "code",
   "execution_count": 5,
   "metadata": {},
   "outputs": [],
   "source": [
    "data.to_csv('../data/uk_data_samples.csv', index=False)"
   ]
  },
  {
   "cell_type": "markdown",
   "metadata": {},
   "source": [
    "## Create English samples"
   ]
  },
  {
   "cell_type": "code",
   "execution_count": 6,
   "metadata": {},
   "outputs": [
    {
     "name": "stderr",
     "output_type": "stream",
     "text": [
      "INFO:root:Loading data...\n"
     ]
    },
    {
     "data": {
      "application/vnd.jupyter.widget-view+json": {
       "model_id": "b39b533fec1a4cc8942f70c653b364ed",
       "version_major": 2,
       "version_minor": 0
      },
      "text/plain": [
       "Downloading data files:   0%|          | 0/1 [00:00<?, ?it/s]"
      ]
     },
     "metadata": {},
     "output_type": "display_data"
    },
    {
     "data": {
      "application/vnd.jupyter.widget-view+json": {
       "model_id": "9a249b5905cd4a2a890babb3026d9ceb",
       "version_major": 2,
       "version_minor": 0
      },
      "text/plain": [
       "Extracting data files:   0%|          | 0/1 [00:00<?, ?it/s]"
      ]
     },
     "metadata": {},
     "output_type": "display_data"
    },
    {
     "data": {
      "application/vnd.jupyter.widget-view+json": {
       "model_id": "b852cdd764ca49fa8ed4464f12f7b816",
       "version_major": 2,
       "version_minor": 0
      },
      "text/plain": [
       "Generating train split:   0%|          | 0/210374 [00:00<?, ? examples/s]"
      ]
     },
     "metadata": {},
     "output_type": "display_data"
    },
    {
     "data": {
      "application/vnd.jupyter.widget-view+json": {
       "model_id": "8d02f24b7b5a4ca0b2646cf54bc4c261",
       "version_major": 2,
       "version_minor": 0
      },
      "text/plain": [
       "Downloading data files:   0%|          | 0/1 [00:00<?, ?it/s]"
      ]
     },
     "metadata": {},
     "output_type": "display_data"
    },
    {
     "data": {
      "application/vnd.jupyter.widget-view+json": {
       "model_id": "270ddb2e99114a729b308aca45137cc0",
       "version_major": 2,
       "version_minor": 0
      },
      "text/plain": [
       "Extracting data files:   0%|          | 0/1 [00:00<?, ?it/s]"
      ]
     },
     "metadata": {},
     "output_type": "display_data"
    },
    {
     "data": {
      "application/vnd.jupyter.widget-view+json": {
       "model_id": "bc8fd3a7d9af4f4b8430c719b7edbe81",
       "version_major": 2,
       "version_minor": 0
      },
      "text/plain": [
       "Generating train split:   0%|          | 0/141897 [00:00<?, ? examples/s]"
      ]
     },
     "metadata": {},
     "output_type": "display_data"
    },
    {
     "name": "stderr",
     "output_type": "stream",
     "text": [
      "INFO:root:Data loaded\n",
      "INFO:root:Filtering data...\n",
      "INFO:root:Data filtered\n",
      "INFO:root:Sampling data...\n",
      "/Users/nazardrushchak/Documents/універ/MSc_Data_Science/MS Thesis/AIHiringBiasAnalysis-LLMs/notebooks/../src/loader_and_corruption.py:84: SettingWithCopyWarning: \n",
      "A value is trying to be set on a copy of a slice from a DataFrame.\n",
      "Try using .loc[row_indexer,col_indexer] = value instead\n",
      "\n",
      "See the caveats in the documentation: https://pandas.pydata.org/pandas-docs/stable/user_guide/indexing.html#returning-a-view-versus-a-copy\n",
      "  \n",
      "INFO:root:Data sampled\n",
      "INFO:root:Combining data...\n"
     ]
    },
    {
     "name": "stdout",
     "output_type": "stream",
     "text": [
      "150\n"
     ]
    },
    {
     "name": "stderr",
     "output_type": "stream",
     "text": [
      "INFO:root:Data combined\n"
     ]
    }
   ],
   "source": [
    "data_loader = DataLoader(lang='en')\n",
    "data = data_loader.process()"
   ]
  },
  {
   "cell_type": "code",
   "execution_count": 7,
   "metadata": {},
   "outputs": [
    {
     "data": {
      "text/plain": [
       "450"
      ]
     },
     "execution_count": 7,
     "metadata": {},
     "output_type": "execute_result"
    }
   ],
   "source": [
    "len(data)"
   ]
  },
  {
   "cell_type": "code",
   "execution_count": 8,
   "metadata": {},
   "outputs": [
    {
     "data": {
      "text/html": [
       "<div>\n",
       "<style scoped>\n",
       "    .dataframe tbody tr th:only-of-type {\n",
       "        vertical-align: middle;\n",
       "    }\n",
       "\n",
       "    .dataframe tbody tr th {\n",
       "        vertical-align: top;\n",
       "    }\n",
       "\n",
       "    .dataframe thead th {\n",
       "        text-align: right;\n",
       "    }\n",
       "</style>\n",
       "<table border=\"1\" class=\"dataframe\">\n",
       "  <thead>\n",
       "    <tr style=\"text-align: right;\">\n",
       "      <th></th>\n",
       "      <th>item_id</th>\n",
       "      <th>candidate_id</th>\n",
       "      <th>job_id</th>\n",
       "      <th>CV</th>\n",
       "      <th>Job Description</th>\n",
       "      <th>Job Position</th>\n",
       "      <th>lang</th>\n",
       "    </tr>\n",
       "  </thead>\n",
       "  <tbody>\n",
       "    <tr>\n",
       "      <th>0</th>\n",
       "      <td>dcd1541d-010b-5fbc-a0af-acc555d59b34_0ee38dd2-...</td>\n",
       "      <td>dcd1541d-010b-5fbc-a0af-acc555d59b34</td>\n",
       "      <td>0ee38dd2-01cd-55b1-bb5b-e65aec4db7d9</td>\n",
       "      <td>\\n06.2021- 12.2021\\r\\n3D Artist\\r\\n“WOUFF DIGI...</td>\n",
       "      <td>Requirements:\\r\\n\\r\\n-2+ years of successful e...</td>\n",
       "      <td>3D Artist</td>\n",
       "      <td>en</td>\n",
       "    </tr>\n",
       "    <tr>\n",
       "      <th>1</th>\n",
       "      <td>dcd1541d-010b-5fbc-a0af-acc555d59b34_1c3480b0-...</td>\n",
       "      <td>dcd1541d-010b-5fbc-a0af-acc555d59b34</td>\n",
       "      <td>1c3480b0-e424-57a1-b47f-462bb0873a8e</td>\n",
       "      <td>\\n06.2021- 12.2021\\r\\n3D Artist\\r\\n“WOUFF DIGI...</td>\n",
       "      <td>**General requirements:**\\r\\n• 2 years of expe...</td>\n",
       "      <td>3D Artist</td>\n",
       "      <td>en</td>\n",
       "    </tr>\n",
       "    <tr>\n",
       "      <th>2</th>\n",
       "      <td>dcd1541d-010b-5fbc-a0af-acc555d59b34_747a9d6b-...</td>\n",
       "      <td>dcd1541d-010b-5fbc-a0af-acc555d59b34</td>\n",
       "      <td>747a9d6b-67d1-527d-a197-4e87d205cf97</td>\n",
       "      <td>\\n06.2021- 12.2021\\r\\n3D Artist\\r\\n“WOUFF DIGI...</td>\n",
       "      <td>**We are looking for a 3D modeler/artist for o...</td>\n",
       "      <td>3D Artist</td>\n",
       "      <td>en</td>\n",
       "    </tr>\n",
       "    <tr>\n",
       "      <th>3</th>\n",
       "      <td>87646231-907c-5a1a-b5c4-c25e3e640b35_0244128d-...</td>\n",
       "      <td>87646231-907c-5a1a-b5c4-c25e3e640b35</td>\n",
       "      <td>0244128d-6f66-5c2d-87b2-ee5ecb80aec8</td>\n",
       "      <td>\\n09/2022 – currently | SPLIT LIGHT STUDIO, Lo...</td>\n",
       "      <td>**Requirements**\\r\\n• 3+ years prior professio...</td>\n",
       "      <td>3D Artist</td>\n",
       "      <td>en</td>\n",
       "    </tr>\n",
       "    <tr>\n",
       "      <th>4</th>\n",
       "      <td>87646231-907c-5a1a-b5c4-c25e3e640b35_71c32008-...</td>\n",
       "      <td>87646231-907c-5a1a-b5c4-c25e3e640b35</td>\n",
       "      <td>71c32008-ef4a-5045-b827-2344dde0fc74</td>\n",
       "      <td>\\n09/2022 – currently | SPLIT LIGHT STUDIO, Lo...</td>\n",
       "      <td>Schedule:\\r\\nMon - Fry\\r\\n11.00 - 19.00\\r\\n\\r\\...</td>\n",
       "      <td>3D Artist</td>\n",
       "      <td>en</td>\n",
       "    </tr>\n",
       "  </tbody>\n",
       "</table>\n",
       "</div>"
      ],
      "text/plain": [
       "                                             item_id  \\\n",
       "0  dcd1541d-010b-5fbc-a0af-acc555d59b34_0ee38dd2-...   \n",
       "1  dcd1541d-010b-5fbc-a0af-acc555d59b34_1c3480b0-...   \n",
       "2  dcd1541d-010b-5fbc-a0af-acc555d59b34_747a9d6b-...   \n",
       "3  87646231-907c-5a1a-b5c4-c25e3e640b35_0244128d-...   \n",
       "4  87646231-907c-5a1a-b5c4-c25e3e640b35_71c32008-...   \n",
       "\n",
       "                           candidate_id                                job_id  \\\n",
       "0  dcd1541d-010b-5fbc-a0af-acc555d59b34  0ee38dd2-01cd-55b1-bb5b-e65aec4db7d9   \n",
       "1  dcd1541d-010b-5fbc-a0af-acc555d59b34  1c3480b0-e424-57a1-b47f-462bb0873a8e   \n",
       "2  dcd1541d-010b-5fbc-a0af-acc555d59b34  747a9d6b-67d1-527d-a197-4e87d205cf97   \n",
       "3  87646231-907c-5a1a-b5c4-c25e3e640b35  0244128d-6f66-5c2d-87b2-ee5ecb80aec8   \n",
       "4  87646231-907c-5a1a-b5c4-c25e3e640b35  71c32008-ef4a-5045-b827-2344dde0fc74   \n",
       "\n",
       "                                                  CV  \\\n",
       "0  \\n06.2021- 12.2021\\r\\n3D Artist\\r\\n“WOUFF DIGI...   \n",
       "1  \\n06.2021- 12.2021\\r\\n3D Artist\\r\\n“WOUFF DIGI...   \n",
       "2  \\n06.2021- 12.2021\\r\\n3D Artist\\r\\n“WOUFF DIGI...   \n",
       "3  \\n09/2022 – currently | SPLIT LIGHT STUDIO, Lo...   \n",
       "4  \\n09/2022 – currently | SPLIT LIGHT STUDIO, Lo...   \n",
       "\n",
       "                                     Job Description Job Position lang  \n",
       "0  Requirements:\\r\\n\\r\\n-2+ years of successful e...    3D Artist   en  \n",
       "1  **General requirements:**\\r\\n• 2 years of expe...    3D Artist   en  \n",
       "2  **We are looking for a 3D modeler/artist for o...    3D Artist   en  \n",
       "3  **Requirements**\\r\\n• 3+ years prior professio...    3D Artist   en  \n",
       "4  Schedule:\\r\\nMon - Fry\\r\\n11.00 - 19.00\\r\\n\\r\\...    3D Artist   en  "
      ]
     },
     "execution_count": 8,
     "metadata": {},
     "output_type": "execute_result"
    }
   ],
   "source": [
    "data.head()"
   ]
  },
  {
   "cell_type": "code",
   "execution_count": 9,
   "metadata": {},
   "outputs": [],
   "source": [
    "data.to_csv('../data/en_data_samples.csv', index=False)"
   ]
  },
  {
   "cell_type": "code",
   "execution_count": null,
   "metadata": {},
   "outputs": [],
   "source": []
  }
 ],
 "metadata": {
  "kernelspec": {
   "display_name": "py310",
   "language": "python",
   "name": "python3"
  },
  "language_info": {
   "codemirror_mode": {
    "name": "ipython",
    "version": 3
   },
   "file_extension": ".py",
   "mimetype": "text/x-python",
   "name": "python",
   "nbconvert_exporter": "python",
   "pygments_lexer": "ipython3",
   "version": "3.11.3"
  }
 },
 "nbformat": 4,
 "nbformat_minor": 2
}
