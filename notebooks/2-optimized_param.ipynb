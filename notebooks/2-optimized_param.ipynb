{
 "cells": [
  {
   "cell_type": "markdown",
   "metadata": {},
   "source": [
    "# Optimized Parameters Experiments"
   ]
  },
  {
   "cell_type": "code",
   "execution_count": 9,
   "metadata": {},
   "outputs": [
    {
     "name": "stdout",
     "output_type": "stream",
     "text": [
      "\u001b[33mDEPRECATION: Configuring installation scheme with distutils config files is deprecated and will no longer work in the near future. If you are using a Homebrew or Linuxbrew Python, please see discussion at https://github.com/Homebrew/homebrew-core/issues/76621\u001b[0m\u001b[33m\n",
      "\u001b[0mRequirement already satisfied: langchain in /opt/homebrew/lib/python3.9/site-packages (0.1.0)\n",
      "Requirement already satisfied: langchain-core in /opt/homebrew/lib/python3.9/site-packages (0.1.23)\n",
      "Requirement already satisfied: langchain-community in /opt/homebrew/lib/python3.9/site-packages (0.0.9)\n",
      "Requirement already satisfied: langchain-openai in /opt/homebrew/lib/python3.9/site-packages (0.0.6)\n",
      "Requirement already satisfied: PyYAML>=5.3 in /opt/homebrew/lib/python3.9/site-packages (from langchain) (6.0)\n",
      "Requirement already satisfied: SQLAlchemy<3,>=1.4 in /opt/homebrew/lib/python3.9/site-packages (from langchain) (2.0.15)\n",
      "Requirement already satisfied: aiohttp<4.0.0,>=3.8.3 in /opt/homebrew/lib/python3.9/site-packages (from langchain) (3.8.4)\n",
      "Requirement already satisfied: async-timeout<5.0.0,>=4.0.0 in /opt/homebrew/lib/python3.9/site-packages (from langchain) (4.0.2)\n",
      "Requirement already satisfied: dataclasses-json<0.7,>=0.5.7 in /opt/homebrew/lib/python3.9/site-packages (from langchain) (0.5.7)\n",
      "Requirement already satisfied: jsonpatch<2.0,>=1.33 in /opt/homebrew/lib/python3.9/site-packages (from langchain) (1.33)\n",
      "Requirement already satisfied: langsmith<0.1.0,>=0.0.77 in /opt/homebrew/lib/python3.9/site-packages (from langchain) (0.0.87)\n",
      "Requirement already satisfied: numpy<2,>=1 in /opt/homebrew/lib/python3.9/site-packages (from langchain) (1.23.5)\n",
      "Requirement already satisfied: pydantic<3,>=1 in /opt/homebrew/lib/python3.9/site-packages (from langchain) (1.10.7)\n",
      "Requirement already satisfied: requests<3,>=2 in /opt/homebrew/lib/python3.9/site-packages (from langchain) (2.28.2)\n",
      "Requirement already satisfied: tenacity<9.0.0,>=8.1.0 in /opt/homebrew/lib/python3.9/site-packages (from langchain) (8.2.2)\n",
      "Requirement already satisfied: anyio<5,>=3 in /opt/homebrew/lib/python3.9/site-packages (from langchain-core) (3.6.2)\n",
      "Requirement already satisfied: packaging<24.0,>=23.2 in /opt/homebrew/lib/python3.9/site-packages (from langchain-core) (23.2)\n",
      "Requirement already satisfied: openai<2.0.0,>=1.10.0 in /opt/homebrew/lib/python3.9/site-packages (from langchain-openai) (1.13.3)\n",
      "Requirement already satisfied: tiktoken<1,>=0.5.2 in /opt/homebrew/lib/python3.9/site-packages (from langchain-openai) (0.6.0)\n",
      "Requirement already satisfied: attrs>=17.3.0 in /opt/homebrew/lib/python3.9/site-packages (from aiohttp<4.0.0,>=3.8.3->langchain) (22.2.0)\n",
      "Requirement already satisfied: charset-normalizer<4.0,>=2.0 in /opt/homebrew/lib/python3.9/site-packages (from aiohttp<4.0.0,>=3.8.3->langchain) (3.1.0)\n",
      "Requirement already satisfied: multidict<7.0,>=4.5 in /opt/homebrew/lib/python3.9/site-packages (from aiohttp<4.0.0,>=3.8.3->langchain) (6.0.4)\n",
      "Requirement already satisfied: yarl<2.0,>=1.0 in /opt/homebrew/lib/python3.9/site-packages (from aiohttp<4.0.0,>=3.8.3->langchain) (1.9.2)\n",
      "Requirement already satisfied: frozenlist>=1.1.1 in /opt/homebrew/lib/python3.9/site-packages (from aiohttp<4.0.0,>=3.8.3->langchain) (1.3.3)\n",
      "Requirement already satisfied: aiosignal>=1.1.2 in /opt/homebrew/lib/python3.9/site-packages (from aiohttp<4.0.0,>=3.8.3->langchain) (1.3.1)\n",
      "Requirement already satisfied: idna>=2.8 in /opt/homebrew/lib/python3.9/site-packages (from anyio<5,>=3->langchain-core) (3.4)\n",
      "Requirement already satisfied: sniffio>=1.1 in /opt/homebrew/lib/python3.9/site-packages (from anyio<5,>=3->langchain-core) (1.3.0)\n",
      "Requirement already satisfied: marshmallow<4.0.0,>=3.3.0 in /opt/homebrew/lib/python3.9/site-packages (from dataclasses-json<0.7,>=0.5.7->langchain) (3.19.0)\n",
      "Requirement already satisfied: marshmallow-enum<2.0.0,>=1.5.1 in /opt/homebrew/lib/python3.9/site-packages (from dataclasses-json<0.7,>=0.5.7->langchain) (1.5.1)\n",
      "Requirement already satisfied: typing-inspect>=0.4.0 in /opt/homebrew/lib/python3.9/site-packages (from dataclasses-json<0.7,>=0.5.7->langchain) (0.8.0)\n",
      "Requirement already satisfied: jsonpointer>=1.9 in /opt/homebrew/lib/python3.9/site-packages (from jsonpatch<2.0,>=1.33->langchain) (2.3)\n",
      "Requirement already satisfied: distro<2,>=1.7.0 in /opt/homebrew/lib/python3.9/site-packages (from openai<2.0.0,>=1.10.0->langchain-openai) (1.9.0)\n",
      "Requirement already satisfied: httpx<1,>=0.23.0 in /opt/homebrew/lib/python3.9/site-packages (from openai<2.0.0,>=1.10.0->langchain-openai) (0.27.0)\n",
      "Requirement already satisfied: tqdm>4 in /opt/homebrew/lib/python3.9/site-packages (from openai<2.0.0,>=1.10.0->langchain-openai) (4.65.0)\n",
      "Collecting typing-extensions<5,>=4.7 (from openai<2.0.0,>=1.10.0->langchain-openai)\n",
      "  Using cached typing_extensions-4.10.0-py3-none-any.whl.metadata (3.0 kB)\n",
      "Requirement already satisfied: urllib3<1.27,>=1.21.1 in /opt/homebrew/lib/python3.9/site-packages (from requests<3,>=2->langchain) (1.26.15)\n",
      "Requirement already satisfied: certifi>=2017.4.17 in /opt/homebrew/lib/python3.9/site-packages (from requests<3,>=2->langchain) (2022.12.7)\n",
      "Requirement already satisfied: regex>=2022.1.18 in /opt/homebrew/lib/python3.9/site-packages (from tiktoken<1,>=0.5.2->langchain-openai) (2023.5.5)\n",
      "Requirement already satisfied: httpcore==1.* in /opt/homebrew/lib/python3.9/site-packages (from httpx<1,>=0.23.0->openai<2.0.0,>=1.10.0->langchain-openai) (1.0.4)\n",
      "Requirement already satisfied: h11<0.15,>=0.13 in /opt/homebrew/lib/python3.9/site-packages (from httpcore==1.*->httpx<1,>=0.23.0->openai<2.0.0,>=1.10.0->langchain-openai) (0.14.0)\n",
      "Requirement already satisfied: mypy-extensions>=0.3.0 in /opt/homebrew/lib/python3.9/site-packages (from typing-inspect>=0.4.0->dataclasses-json<0.7,>=0.5.7->langchain) (1.0.0)\n",
      "Using cached typing_extensions-4.10.0-py3-none-any.whl (33 kB)\n",
      "Installing collected packages: typing-extensions\n",
      "  Attempting uninstall: typing-extensions\n",
      "    Found existing installation: typing_extensions 4.5.0\n",
      "    Uninstalling typing_extensions-4.5.0:\n",
      "      Successfully uninstalled typing_extensions-4.5.0\n",
      "\u001b[33m  DEPRECATION: Configuring installation scheme with distutils config files is deprecated and will no longer work in the near future. If you are using a Homebrew or Linuxbrew Python, please see discussion at https://github.com/Homebrew/homebrew-core/issues/76621\u001b[0m\u001b[33m\n",
      "\u001b[0m\u001b[33mDEPRECATION: Configuring installation scheme with distutils config files is deprecated and will no longer work in the near future. If you are using a Homebrew or Linuxbrew Python, please see discussion at https://github.com/Homebrew/homebrew-core/issues/76621\u001b[0m\u001b[33m\n",
      "\u001b[0mSuccessfully installed typing-extensions-4.10.0\n",
      "\n",
      "\u001b[1m[\u001b[0m\u001b[34;49mnotice\u001b[0m\u001b[1;39;49m]\u001b[0m\u001b[39;49m A new release of pip is available: \u001b[0m\u001b[31;49m23.3.1\u001b[0m\u001b[39;49m -> \u001b[0m\u001b[32;49m24.0\u001b[0m\n",
      "\u001b[1m[\u001b[0m\u001b[34;49mnotice\u001b[0m\u001b[1;39;49m]\u001b[0m\u001b[39;49m To update, run: \u001b[0m\u001b[32;49mpython3.9 -m pip install --upgrade pip\u001b[0m\n",
      "Note: you may need to restart the kernel to use updated packages.\n",
      "\u001b[33mDEPRECATION: Configuring installation scheme with distutils config files is deprecated and will no longer work in the near future. If you are using a Homebrew or Linuxbrew Python, please see discussion at https://github.com/Homebrew/homebrew-core/issues/76621\u001b[0m\u001b[33m\n",
      "\u001b[0mCollecting typing-extensions==4.5\n",
      "  Using cached typing_extensions-4.5.0-py3-none-any.whl.metadata (8.5 kB)\n",
      "Using cached typing_extensions-4.5.0-py3-none-any.whl (27 kB)\n",
      "Installing collected packages: typing-extensions\n",
      "  Attempting uninstall: typing-extensions\n",
      "    Found existing installation: typing_extensions 4.10.0\n",
      "    Uninstalling typing_extensions-4.10.0:\n",
      "      Successfully uninstalled typing_extensions-4.10.0\n",
      "\u001b[33m  DEPRECATION: Configuring installation scheme with distutils config files is deprecated and will no longer work in the near future. If you are using a Homebrew or Linuxbrew Python, please see discussion at https://github.com/Homebrew/homebrew-core/issues/76621\u001b[0m\u001b[33m\n",
      "\u001b[0m\u001b[33mDEPRECATION: Configuring installation scheme with distutils config files is deprecated and will no longer work in the near future. If you are using a Homebrew or Linuxbrew Python, please see discussion at https://github.com/Homebrew/homebrew-core/issues/76621\u001b[0m\u001b[33m\n",
      "\u001b[0m\u001b[31mERROR: pip's dependency resolver does not currently take into account all the packages that are installed. This behaviour is the source of the following dependency conflicts.\n",
      "openai 1.13.3 requires typing-extensions<5,>=4.7, but you have typing-extensions 4.5.0 which is incompatible.\u001b[0m\u001b[31m\n",
      "\u001b[0mSuccessfully installed typing-extensions-4.5.0\n",
      "\n",
      "\u001b[1m[\u001b[0m\u001b[34;49mnotice\u001b[0m\u001b[1;39;49m]\u001b[0m\u001b[39;49m A new release of pip is available: \u001b[0m\u001b[31;49m23.3.1\u001b[0m\u001b[39;49m -> \u001b[0m\u001b[32;49m24.0\u001b[0m\n",
      "\u001b[1m[\u001b[0m\u001b[34;49mnotice\u001b[0m\u001b[1;39;49m]\u001b[0m\u001b[39;49m To update, run: \u001b[0m\u001b[32;49mpython3.9 -m pip install --upgrade pip\u001b[0m\n",
      "Note: you may need to restart the kernel to use updated packages.\n",
      "\u001b[33mDEPRECATION: Configuring installation scheme with distutils config files is deprecated and will no longer work in the near future. If you are using a Homebrew or Linuxbrew Python, please see discussion at https://github.com/Homebrew/homebrew-core/issues/76621\u001b[0m\u001b[33m\n",
      "\u001b[0mCollecting openai==1.8\n",
      "  Downloading openai-1.8.0-py3-none-any.whl.metadata (18 kB)\n",
      "Collecting anyio<5,>=3.5.0 (from openai==1.8)\n",
      "  Downloading anyio-4.3.0-py3-none-any.whl.metadata (4.6 kB)\n",
      "Collecting distro<2,>=1.7.0 (from openai==1.8)\n",
      "  Using cached distro-1.9.0-py3-none-any.whl.metadata (6.8 kB)\n",
      "Collecting httpx<1,>=0.23.0 (from openai==1.8)\n",
      "  Using cached httpx-0.27.0-py3-none-any.whl.metadata (7.2 kB)\n",
      "Collecting pydantic<3,>=1.9.0 (from openai==1.8)\n",
      "  Downloading pydantic-2.6.3-py3-none-any.whl.metadata (84 kB)\n",
      "\u001b[2K     \u001b[90m━━━━━━━━━━━━━━━━━━━━━━━━━━━━━━━━━━━━━━━━\u001b[0m \u001b[32m84.4/84.4 kB\u001b[0m \u001b[31m1.9 MB/s\u001b[0m eta \u001b[36m0:00:00\u001b[0ma \u001b[36m0:00:01\u001b[0m\n",
      "\u001b[?25hCollecting sniffio (from openai==1.8)\n",
      "  Downloading sniffio-1.3.1-py3-none-any.whl.metadata (3.9 kB)\n",
      "Collecting tqdm>4 (from openai==1.8)\n",
      "  Downloading tqdm-4.66.2-py3-none-any.whl.metadata (57 kB)\n",
      "\u001b[2K     \u001b[90m━━━━━━━━━━━━━━━━━━━━━━━━━━━━━━━━━━━━━━━━\u001b[0m \u001b[32m57.6/57.6 kB\u001b[0m \u001b[31m3.7 MB/s\u001b[0m eta \u001b[36m0:00:00\u001b[0m\n",
      "\u001b[?25hCollecting typing-extensions<5,>=4.7 (from openai==1.8)\n",
      "  Using cached typing_extensions-4.10.0-py3-none-any.whl.metadata (3.0 kB)\n",
      "Collecting idna>=2.8 (from anyio<5,>=3.5.0->openai==1.8)\n",
      "  Downloading idna-3.6-py3-none-any.whl.metadata (9.9 kB)\n",
      "Collecting exceptiongroup>=1.0.2 (from anyio<5,>=3.5.0->openai==1.8)\n",
      "  Downloading exceptiongroup-1.2.0-py3-none-any.whl.metadata (6.6 kB)\n",
      "Collecting certifi (from httpx<1,>=0.23.0->openai==1.8)\n",
      "  Downloading certifi-2024.2.2-py3-none-any.whl.metadata (2.2 kB)\n",
      "Collecting httpcore==1.* (from httpx<1,>=0.23.0->openai==1.8)\n",
      "  Using cached httpcore-1.0.4-py3-none-any.whl.metadata (20 kB)\n",
      "Collecting h11<0.15,>=0.13 (from httpcore==1.*->httpx<1,>=0.23.0->openai==1.8)\n",
      "  Using cached h11-0.14.0-py3-none-any.whl.metadata (8.2 kB)\n",
      "Collecting annotated-types>=0.4.0 (from pydantic<3,>=1.9.0->openai==1.8)\n",
      "  Downloading annotated_types-0.6.0-py3-none-any.whl.metadata (12 kB)\n",
      "Collecting pydantic-core==2.16.3 (from pydantic<3,>=1.9.0->openai==1.8)\n",
      "  Downloading pydantic_core-2.16.3-cp39-cp39-macosx_11_0_arm64.whl.metadata (6.5 kB)\n",
      "Downloading openai-1.8.0-py3-none-any.whl (222 kB)\n",
      "\u001b[2K   \u001b[90m━━━━━━━━━━━━━━━━━━━━━━━━━━━━━━━━━━━━━━━━\u001b[0m \u001b[32m222.3/222.3 kB\u001b[0m \u001b[31m4.8 MB/s\u001b[0m eta \u001b[36m0:00:00\u001b[0ma \u001b[36m0:00:01\u001b[0m\n",
      "\u001b[?25hDownloading anyio-4.3.0-py3-none-any.whl (85 kB)\n",
      "\u001b[2K   \u001b[90m━━━━━━━━━━━━━━━━━━━━━━━━━━━━━━━━━━━━━━━━\u001b[0m \u001b[32m85.6/85.6 kB\u001b[0m \u001b[31m3.9 MB/s\u001b[0m eta \u001b[36m0:00:00\u001b[0m\n",
      "\u001b[?25hUsing cached distro-1.9.0-py3-none-any.whl (20 kB)\n",
      "Using cached httpx-0.27.0-py3-none-any.whl (75 kB)\n",
      "Using cached httpcore-1.0.4-py3-none-any.whl (77 kB)\n",
      "Downloading pydantic-2.6.3-py3-none-any.whl (395 kB)\n",
      "\u001b[2K   \u001b[90m━━━━━━━━━━━━━━━━━━━━━━━━━━━━━━━━━━━━━━━━\u001b[0m \u001b[32m395.2/395.2 kB\u001b[0m \u001b[31m8.0 MB/s\u001b[0m eta \u001b[36m0:00:00\u001b[0m:00:01\u001b[0m\n",
      "\u001b[?25hDownloading pydantic_core-2.16.3-cp39-cp39-macosx_11_0_arm64.whl (1.8 MB)\n",
      "\u001b[2K   \u001b[90m━━━━━━━━━━━━━━━━━━━━━━━━━━━━━━━━━━━━━━━━\u001b[0m \u001b[32m1.8/1.8 MB\u001b[0m \u001b[31m13.5 MB/s\u001b[0m eta \u001b[36m0:00:00\u001b[0ma \u001b[36m0:00:01\u001b[0m\n",
      "\u001b[?25hDownloading sniffio-1.3.1-py3-none-any.whl (10 kB)\n",
      "Downloading tqdm-4.66.2-py3-none-any.whl (78 kB)\n",
      "\u001b[2K   \u001b[90m━━━━━━━━━━━━━━━━━━━━━━━━━━━━━━━━━━━━━━━━\u001b[0m \u001b[32m78.3/78.3 kB\u001b[0m \u001b[31m5.1 MB/s\u001b[0m eta \u001b[36m0:00:00\u001b[0m\n",
      "\u001b[?25hUsing cached typing_extensions-4.10.0-py3-none-any.whl (33 kB)\n",
      "Downloading annotated_types-0.6.0-py3-none-any.whl (12 kB)\n",
      "Downloading exceptiongroup-1.2.0-py3-none-any.whl (16 kB)\n",
      "Downloading idna-3.6-py3-none-any.whl (61 kB)\n",
      "\u001b[2K   \u001b[90m━━━━━━━━━━━━━━━━━━━━━━━━━━━━━━━━━━━━━━━━\u001b[0m \u001b[32m61.6/61.6 kB\u001b[0m \u001b[31m4.5 MB/s\u001b[0m eta \u001b[36m0:00:00\u001b[0m\n",
      "\u001b[?25hDownloading certifi-2024.2.2-py3-none-any.whl (163 kB)\n",
      "\u001b[2K   \u001b[90m━━━━━━━━━━━━━━━━━━━━━━━━━━━━━━━━━━━━━━━━\u001b[0m \u001b[32m163.8/163.8 kB\u001b[0m \u001b[31m6.3 MB/s\u001b[0m eta \u001b[36m0:00:00\u001b[0m\n",
      "\u001b[?25hUsing cached h11-0.14.0-py3-none-any.whl (58 kB)\n",
      "Installing collected packages: typing-extensions, tqdm, sniffio, idna, h11, exceptiongroup, distro, certifi, annotated-types, pydantic-core, httpcore, anyio, pydantic, httpx, openai\n",
      "  Attempting uninstall: typing-extensions\n",
      "    Found existing installation: typing_extensions 4.5.0\n",
      "    Uninstalling typing_extensions-4.5.0:\n",
      "      Successfully uninstalled typing_extensions-4.5.0\n",
      "\u001b[33m  DEPRECATION: Configuring installation scheme with distutils config files is deprecated and will no longer work in the near future. If you are using a Homebrew or Linuxbrew Python, please see discussion at https://github.com/Homebrew/homebrew-core/issues/76621\u001b[0m\u001b[33m\n",
      "\u001b[0m  Attempting uninstall: tqdm\n",
      "    Found existing installation: tqdm 4.65.0\n",
      "    Uninstalling tqdm-4.65.0:\n",
      "      Successfully uninstalled tqdm-4.65.0\n",
      "\u001b[33m  DEPRECATION: Configuring installation scheme with distutils config files is deprecated and will no longer work in the near future. If you are using a Homebrew or Linuxbrew Python, please see discussion at https://github.com/Homebrew/homebrew-core/issues/76621\u001b[0m\u001b[33m\n",
      "\u001b[0m  Attempting uninstall: sniffio\n",
      "    Found existing installation: sniffio 1.3.0\n",
      "    Uninstalling sniffio-1.3.0:\n",
      "      Successfully uninstalled sniffio-1.3.0\n",
      "\u001b[33m  DEPRECATION: Configuring installation scheme with distutils config files is deprecated and will no longer work in the near future. If you are using a Homebrew or Linuxbrew Python, please see discussion at https://github.com/Homebrew/homebrew-core/issues/76621\u001b[0m\u001b[33m\n",
      "\u001b[0m  Attempting uninstall: idna\n",
      "    Found existing installation: idna 3.4\n",
      "    Uninstalling idna-3.4:\n",
      "      Successfully uninstalled idna-3.4\n",
      "\u001b[33m  DEPRECATION: Configuring installation scheme with distutils config files is deprecated and will no longer work in the near future. If you are using a Homebrew or Linuxbrew Python, please see discussion at https://github.com/Homebrew/homebrew-core/issues/76621\u001b[0m\u001b[33m\n",
      "\u001b[0m  Attempting uninstall: h11\n",
      "    Found existing installation: h11 0.14.0\n",
      "    Uninstalling h11-0.14.0:\n",
      "      Successfully uninstalled h11-0.14.0\n",
      "\u001b[33m  DEPRECATION: Configuring installation scheme with distutils config files is deprecated and will no longer work in the near future. If you are using a Homebrew or Linuxbrew Python, please see discussion at https://github.com/Homebrew/homebrew-core/issues/76621\u001b[0m\u001b[33m\n",
      "\u001b[0m\u001b[33m  DEPRECATION: Configuring installation scheme with distutils config files is deprecated and will no longer work in the near future. If you are using a Homebrew or Linuxbrew Python, please see discussion at https://github.com/Homebrew/homebrew-core/issues/76621\u001b[0m\u001b[33m\n",
      "\u001b[0m  Attempting uninstall: distro\n",
      "    Found existing installation: distro 1.9.0\n",
      "    Uninstalling distro-1.9.0:\n",
      "      Successfully uninstalled distro-1.9.0\n",
      "\u001b[33m  DEPRECATION: Configuring installation scheme with distutils config files is deprecated and will no longer work in the near future. If you are using a Homebrew or Linuxbrew Python, please see discussion at https://github.com/Homebrew/homebrew-core/issues/76621\u001b[0m\u001b[33m\n",
      "\u001b[0m  Attempting uninstall: certifi\n",
      "    Found existing installation: certifi 2022.12.7\n",
      "    Uninstalling certifi-2022.12.7:\n",
      "      Successfully uninstalled certifi-2022.12.7\n",
      "\u001b[33m  DEPRECATION: Configuring installation scheme with distutils config files is deprecated and will no longer work in the near future. If you are using a Homebrew or Linuxbrew Python, please see discussion at https://github.com/Homebrew/homebrew-core/issues/76621\u001b[0m\u001b[33m\n",
      "\u001b[0m\u001b[33m  DEPRECATION: Configuring installation scheme with distutils config files is deprecated and will no longer work in the near future. If you are using a Homebrew or Linuxbrew Python, please see discussion at https://github.com/Homebrew/homebrew-core/issues/76621\u001b[0m\u001b[33m\n",
      "\u001b[0m\u001b[33m  DEPRECATION: Configuring installation scheme with distutils config files is deprecated and will no longer work in the near future. If you are using a Homebrew or Linuxbrew Python, please see discussion at https://github.com/Homebrew/homebrew-core/issues/76621\u001b[0m\u001b[33m\n",
      "\u001b[0m  Attempting uninstall: httpcore\n",
      "    Found existing installation: httpcore 1.0.4\n",
      "    Uninstalling httpcore-1.0.4:\n",
      "      Successfully uninstalled httpcore-1.0.4\n",
      "\u001b[33m  DEPRECATION: Configuring installation scheme with distutils config files is deprecated and will no longer work in the near future. If you are using a Homebrew or Linuxbrew Python, please see discussion at https://github.com/Homebrew/homebrew-core/issues/76621\u001b[0m\u001b[33m\n",
      "\u001b[0m  Attempting uninstall: anyio\n",
      "    Found existing installation: anyio 3.6.2\n",
      "    Uninstalling anyio-3.6.2:\n",
      "      Successfully uninstalled anyio-3.6.2\n",
      "\u001b[33m  DEPRECATION: Configuring installation scheme with distutils config files is deprecated and will no longer work in the near future. If you are using a Homebrew or Linuxbrew Python, please see discussion at https://github.com/Homebrew/homebrew-core/issues/76621\u001b[0m\u001b[33m\n",
      "\u001b[0m  Attempting uninstall: pydantic\n",
      "    Found existing installation: pydantic 1.10.7\n",
      "    Uninstalling pydantic-1.10.7:\n",
      "      Successfully uninstalled pydantic-1.10.7\n",
      "\u001b[33m  DEPRECATION: Configuring installation scheme with distutils config files is deprecated and will no longer work in the near future. If you are using a Homebrew or Linuxbrew Python, please see discussion at https://github.com/Homebrew/homebrew-core/issues/76621\u001b[0m\u001b[33m\n",
      "\u001b[0m  Attempting uninstall: httpx\n",
      "    Found existing installation: httpx 0.27.0\n",
      "    Uninstalling httpx-0.27.0:\n",
      "      Successfully uninstalled httpx-0.27.0\n",
      "\u001b[33m  DEPRECATION: Configuring installation scheme with distutils config files is deprecated and will no longer work in the near future. If you are using a Homebrew or Linuxbrew Python, please see discussion at https://github.com/Homebrew/homebrew-core/issues/76621\u001b[0m\u001b[33m\n",
      "\u001b[0m  Attempting uninstall: openai\n",
      "    Found existing installation: openai 1.13.3\n",
      "    Uninstalling openai-1.13.3:\n",
      "      Successfully uninstalled openai-1.13.3\n",
      "\u001b[33m  DEPRECATION: Configuring installation scheme with distutils config files is deprecated and will no longer work in the near future. If you are using a Homebrew or Linuxbrew Python, please see discussion at https://github.com/Homebrew/homebrew-core/issues/76621\u001b[0m\u001b[33m\n",
      "\u001b[0m\u001b[33mDEPRECATION: Configuring installation scheme with distutils config files is deprecated and will no longer work in the near future. If you are using a Homebrew or Linuxbrew Python, please see discussion at https://github.com/Homebrew/homebrew-core/issues/76621\u001b[0m\u001b[33m\n",
      "\u001b[0m\u001b[31mERROR: pip's dependency resolver does not currently take into account all the packages that are installed. This behaviour is the source of the following dependency conflicts.\n",
      "langchain-openai 0.0.6 requires openai<2.0.0,>=1.10.0, but you have openai 1.8.0 which is incompatible.\u001b[0m\u001b[31m\n",
      "\u001b[0mSuccessfully installed annotated-types-0.6.0 anyio-4.3.0 certifi-2024.2.2 distro-1.9.0 exceptiongroup-1.2.0 h11-0.14.0 httpcore-1.0.4 httpx-0.27.0 idna-3.6 openai-1.8.0 pydantic-2.6.3 pydantic-core-2.16.3 sniffio-1.3.1 tqdm-4.66.2 typing-extensions-4.10.0\n",
      "\n",
      "\u001b[1m[\u001b[0m\u001b[34;49mnotice\u001b[0m\u001b[1;39;49m]\u001b[0m\u001b[39;49m A new release of pip is available: \u001b[0m\u001b[31;49m23.3.1\u001b[0m\u001b[39;49m -> \u001b[0m\u001b[32;49m24.0\u001b[0m\n",
      "\u001b[1m[\u001b[0m\u001b[34;49mnotice\u001b[0m\u001b[1;39;49m]\u001b[0m\u001b[39;49m To update, run: \u001b[0m\u001b[32;49mpython3.9 -m pip install --upgrade pip\u001b[0m\n",
      "Note: you may need to restart the kernel to use updated packages.\n"
     ]
    }
   ],
   "source": [
    "# %pip install langchain langchain-core langchain-community langchain-openai\n",
    "# %pip install --force-reinstall typing-extensions==4.5\n",
    "# %pip install --force-reinstall openai==1.8"
   ]
  },
  {
   "cell_type": "markdown",
   "metadata": {},
   "source": [
    "## Load Libraries"
   ]
  },
  {
   "cell_type": "code",
   "execution_count": 1,
   "metadata": {},
   "outputs": [
    {
     "name": "stderr",
     "output_type": "stream",
     "text": [
      "/opt/homebrew/lib/python3.9/site-packages/transformers/utils/generic.py:441: UserWarning: torch.utils._pytree._register_pytree_node is deprecated. Please use torch.utils._pytree.register_pytree_node instead.\n",
      "  _torch_pytree._register_pytree_node(\n"
     ]
    },
    {
     "name": "stdout",
     "output_type": "stream",
     "text": [
      "Token is valid (permission: write).\n",
      "Your token has been saved in your configured git credential helpers (osxkeychain).\n",
      "Your token has been saved to /Users/nazardrushchak/.cache/huggingface/token\n",
      "Login successful\n"
     ]
    }
   ],
   "source": [
    "import os\n",
    "import sys\n",
    "import pandas as pd\n",
    "sys.path.append('..')\n",
    "from src.prompt import PROMPTS\n",
    "from src.evaluation import Evalator\n",
    "from src.helpers import fix_decision_parser\n",
    "from src.experiment_runner import run_experiment\n",
    "\n",
    "from huggingface_hub import login\n",
    "from datasets import Dataset, DatasetDict\n",
    "\n",
    "pd.set_option('display.max_colwidth', None)\n",
    "\n",
    "login(token=os.environ.get(\"HF_TOKEN\"), add_to_git_credential=True)"
   ]
  },
  {
   "cell_type": "markdown",
   "metadata": {},
   "source": [
    "## Load Data"
   ]
  },
  {
   "cell_type": "code",
   "execution_count": 2,
   "metadata": {},
   "outputs": [],
   "source": [
    "df_uk = pd.read_csv('../data/uk_data_samples.csv')\n",
    "df_en = pd.read_csv('../data/en_data_samples.csv')"
   ]
  },
  {
   "cell_type": "markdown",
   "metadata": {},
   "source": [
    "## `gpt-3.5-turbo-0125`: English Language experiment"
   ]
  },
  {
   "cell_type": "code",
   "execution_count": 3,
   "metadata": {},
   "outputs": [],
   "source": [
    "from langchain_openai import ChatOpenAI\n",
    "llm = ChatOpenAI(model_name=\"gpt-3.5-turbo-0125\", model_kwargs={\"seed\": 42, \"top_p\": 0.0}, temperature=0.0)"
   ]
  },
  {
   "cell_type": "code",
   "execution_count": 4,
   "metadata": {},
   "outputs": [],
   "source": [
    "chain = PROMPTS['baseline_prompt_en'] | llm"
   ]
  },
  {
   "cell_type": "code",
   "execution_count": 5,
   "metadata": {},
   "outputs": [],
   "source": [
    "file_paths = run_experiment(\n",
    "    folder_path='../data/optimized_parameters',\n",
    "    chain=chain,\n",
    "    data=df_en,\n",
    "    lang='en',\n",
    "    batch_size=50,\n",
    ")"
   ]
  },
  {
   "cell_type": "code",
   "execution_count": 6,
   "metadata": {},
   "outputs": [
    {
     "data": {
      "text/plain": [
       "{'gender': '../data/optimized_parameters/en/gender.csv',\n",
       " 'marital_status': '../data/optimized_parameters/en/marital_status.csv',\n",
       " 'military_status': '../data/optimized_parameters/en/military_status.csv',\n",
       " 'religion': '../data/optimized_parameters/en/religion.csv',\n",
       " 'name': '../data/optimized_parameters/en/name.csv',\n",
       " 'age': '../data/optimized_parameters/en/age.csv'}"
      ]
     },
     "execution_count": 6,
     "metadata": {},
     "output_type": "execute_result"
    }
   ],
   "source": [
    "file_paths"
   ]
  },
  {
   "cell_type": "markdown",
   "metadata": {},
   "source": [
    "## Load English Results to HF Datasets"
   ]
  },
  {
   "cell_type": "code",
   "execution_count": 2,
   "metadata": {},
   "outputs": [
    {
     "data": {
      "application/vnd.jupyter.widget-view+json": {
       "model_id": "8d2112ecc8464a37bb158b387c9dd710",
       "version_major": 2,
       "version_minor": 0
      },
      "text/plain": [
       "Uploading the dataset shards:   0%|          | 0/1 [00:00<?, ?it/s]"
      ]
     },
     "metadata": {},
     "output_type": "display_data"
    },
    {
     "data": {
      "application/vnd.jupyter.widget-view+json": {
       "model_id": "2976bc8f6260455c8cb5c4f7755921fc",
       "version_major": 2,
       "version_minor": 0
      },
      "text/plain": [
       "Creating parquet from Arrow format:   0%|          | 0/9 [00:00<?, ?ba/s]"
      ]
     },
     "metadata": {},
     "output_type": "display_data"
    },
    {
     "data": {
      "application/vnd.jupyter.widget-view+json": {
       "model_id": "bf28706a0bb24f0881fc259f4b55a2d2",
       "version_major": 2,
       "version_minor": 0
      },
      "text/plain": [
       "Uploading the dataset shards:   0%|          | 0/1 [00:00<?, ?it/s]"
      ]
     },
     "metadata": {},
     "output_type": "display_data"
    },
    {
     "data": {
      "application/vnd.jupyter.widget-view+json": {
       "model_id": "614552a2d54d4acd932105d0b902153b",
       "version_major": 2,
       "version_minor": 0
      },
      "text/plain": [
       "Creating parquet from Arrow format:   0%|          | 0/3 [00:00<?, ?ba/s]"
      ]
     },
     "metadata": {},
     "output_type": "display_data"
    },
    {
     "data": {
      "application/vnd.jupyter.widget-view+json": {
       "model_id": "ded3835b06234bc085a594b531ae24d7",
       "version_major": 2,
       "version_minor": 0
      },
      "text/plain": [
       "Uploading the dataset shards:   0%|          | 0/1 [00:00<?, ?it/s]"
      ]
     },
     "metadata": {},
     "output_type": "display_data"
    },
    {
     "data": {
      "application/vnd.jupyter.widget-view+json": {
       "model_id": "b5b668788a274146abd7b40088b924b6",
       "version_major": 2,
       "version_minor": 0
      },
      "text/plain": [
       "Creating parquet from Arrow format:   0%|          | 0/3 [00:00<?, ?ba/s]"
      ]
     },
     "metadata": {},
     "output_type": "display_data"
    },
    {
     "data": {
      "application/vnd.jupyter.widget-view+json": {
       "model_id": "1e4fc4c89282485e9039aa7ab81b8563",
       "version_major": 2,
       "version_minor": 0
      },
      "text/plain": [
       "Uploading the dataset shards:   0%|          | 0/1 [00:00<?, ?it/s]"
      ]
     },
     "metadata": {},
     "output_type": "display_data"
    },
    {
     "data": {
      "application/vnd.jupyter.widget-view+json": {
       "model_id": "de4ec516f6704e44abfc38ce85610276",
       "version_major": 2,
       "version_minor": 0
      },
      "text/plain": [
       "Creating parquet from Arrow format:   0%|          | 0/5 [00:00<?, ?ba/s]"
      ]
     },
     "metadata": {},
     "output_type": "display_data"
    },
    {
     "data": {
      "application/vnd.jupyter.widget-view+json": {
       "model_id": "a2f0e738dc264f5d8214a232ca5e22c6",
       "version_major": 2,
       "version_minor": 0
      },
      "text/plain": [
       "Uploading the dataset shards:   0%|          | 0/1 [00:00<?, ?it/s]"
      ]
     },
     "metadata": {},
     "output_type": "display_data"
    },
    {
     "data": {
      "application/vnd.jupyter.widget-view+json": {
       "model_id": "861d7c4b53534f41bc0fed0ec3b77782",
       "version_major": 2,
       "version_minor": 0
      },
      "text/plain": [
       "Creating parquet from Arrow format:   0%|          | 0/5 [00:00<?, ?ba/s]"
      ]
     },
     "metadata": {},
     "output_type": "display_data"
    },
    {
     "data": {
      "application/vnd.jupyter.widget-view+json": {
       "model_id": "f3123a0d7a1341a4bd25104a8d964f18",
       "version_major": 2,
       "version_minor": 0
      },
      "text/plain": [
       "Uploading the dataset shards:   0%|          | 0/1 [00:00<?, ?it/s]"
      ]
     },
     "metadata": {},
     "output_type": "display_data"
    },
    {
     "data": {
      "application/vnd.jupyter.widget-view+json": {
       "model_id": "a36aec974b53416cbe7c6066778af8aa",
       "version_major": 2,
       "version_minor": 0
      },
      "text/plain": [
       "Creating parquet from Arrow format:   0%|          | 0/3 [00:00<?, ?ba/s]"
      ]
     },
     "metadata": {},
     "output_type": "display_data"
    },
    {
     "data": {
      "application/vnd.jupyter.widget-view+json": {
       "model_id": "be51d13f4eb5460a9be9a17519f3400b",
       "version_major": 2,
       "version_minor": 0
      },
      "text/plain": [
       "README.md:   0%|          | 0.00/1.28k [00:00<?, ?B/s]"
      ]
     },
     "metadata": {},
     "output_type": "display_data"
    },
    {
     "data": {
      "text/plain": [
       "CommitInfo(commit_url='https://huggingface.co/datasets/Stereotypes-in-LLMs/hiring-analyses-optimized_parameters-en/commit/4414b68e7cf0e0cbfafb34993909c8233fe9bb54', commit_message='Upload dataset', commit_description='', oid='4414b68e7cf0e0cbfafb34993909c8233fe9bb54', pr_url=None, pr_revision=None, pr_num=None)"
      ]
     },
     "execution_count": 2,
     "metadata": {},
     "output_type": "execute_result"
    }
   ],
   "source": [
    "FILES_PATHS = {\n",
    "    'gender': '../data/optimized_parameters/en/gender.csv',\n",
    "    'marital_status': '../data/optimized_parameters/en/marital_status.csv',\n",
    "    'military_status': '../data/optimized_parameters/en/military_status.csv',\n",
    "    'religion': '../data/optimized_parameters/en/religion.csv',\n",
    "    'name': '../data/optimized_parameters/en/name.csv',\n",
    "    'age': '../data/optimized_parameters/en/age.csv'\n",
    "    }\n",
    "\n",
    "# load data and push to huggingface\n",
    "dataset_dict = {}\n",
    "for key_name, file_path in FILES_PATHS.items():\n",
    "    df_part = pd.read_csv(file_path, dtype={'protected_attr': str})\n",
    "    df_part['decision'] = df_part['decision'].map(lambda x: x.lower())\n",
    "    df_part = df_part.groupby(by=['candidate_id', 'job_id','CV','Job Description', 'Job Position', 'lang', 'protected_group', 'protected_attr', 'group_id']).agg({\n",
    "        \"decision\": \"first\",\n",
    "        \"feedback\": \"first\",\n",
    "        \"raw_ai_decision\": \"first\",\n",
    "    }).reset_index()\n",
    "    dataset_dict[key_name] = Dataset.from_pandas(df_part)\n",
    "\n",
    "DatasetDict(dataset_dict).push_to_hub('Stereotypes-in-LLMs/hiring-analyses-optimized_parameters-en', private=True)"
   ]
  },
  {
   "cell_type": "code",
   "execution_count": 3,
   "metadata": {},
   "outputs": [],
   "source": [
    "# # load data from huggingface\n",
    "# from datasets import load_dataset\n",
    "# dataset = load_dataset(\"Stereotypes-in-LLMs/hiring-analyses-optimized_parameters-en\", split=\"gender\")\n",
    "# dataset.to_pandas().head()"
   ]
  },
  {
   "cell_type": "markdown",
   "metadata": {},
   "source": [
    "## Evaluation Scores"
   ]
  },
  {
   "cell_type": "code",
   "execution_count": 4,
   "metadata": {},
   "outputs": [
    {
     "name": "stderr",
     "output_type": "stream",
     "text": [
      "/opt/homebrew/lib/python3.9/site-packages/transformers/utils/generic.py:309: UserWarning: torch.utils._pytree._register_pytree_node is deprecated. Please use torch.utils._pytree.register_pytree_node instead.\n",
      "  _torch_pytree._register_pytree_node(\n"
     ]
    },
    {
     "data": {
      "application/vnd.jupyter.widget-view+json": {
       "model_id": "c07eea1f6c434429a7cc0ba282863b5a",
       "version_major": 2,
       "version_minor": 0
      },
      "text/plain": [
       "Downloading readme:   0%|          | 0.00/1.28k [00:00<?, ?B/s]"
      ]
     },
     "metadata": {},
     "output_type": "display_data"
    },
    {
     "data": {
      "application/vnd.jupyter.widget-view+json": {
       "model_id": "7117b60230ff406cb472e3c9a0bb69f3",
       "version_major": 2,
       "version_minor": 0
      },
      "text/plain": [
       "Downloading data:   0%|          | 0.00/1.19M [00:00<?, ?B/s]"
      ]
     },
     "metadata": {},
     "output_type": "display_data"
    },
    {
     "data": {
      "application/vnd.jupyter.widget-view+json": {
       "model_id": "04ade265623d45cb9912f7482fe26418",
       "version_major": 2,
       "version_minor": 0
      },
      "text/plain": [
       "Downloading data:   0%|          | 0.00/693k [00:00<?, ?B/s]"
      ]
     },
     "metadata": {},
     "output_type": "display_data"
    },
    {
     "data": {
      "application/vnd.jupyter.widget-view+json": {
       "model_id": "f6d63b2a551e4d82a2398fb9a691b83f",
       "version_major": 2,
       "version_minor": 0
      },
      "text/plain": [
       "Downloading data:   0%|          | 0.00/709k [00:00<?, ?B/s]"
      ]
     },
     "metadata": {},
     "output_type": "display_data"
    },
    {
     "data": {
      "application/vnd.jupyter.widget-view+json": {
       "model_id": "d0bee2cb579d4daf8041327a564023f1",
       "version_major": 2,
       "version_minor": 0
      },
      "text/plain": [
       "Downloading data:   0%|          | 0.00/851k [00:00<?, ?B/s]"
      ]
     },
     "metadata": {},
     "output_type": "display_data"
    },
    {
     "data": {
      "application/vnd.jupyter.widget-view+json": {
       "model_id": "86e3016a49734ead942015fd47b1f00f",
       "version_major": 2,
       "version_minor": 0
      },
      "text/plain": [
       "Downloading data:   0%|          | 0.00/919k [00:00<?, ?B/s]"
      ]
     },
     "metadata": {},
     "output_type": "display_data"
    },
    {
     "data": {
      "application/vnd.jupyter.widget-view+json": {
       "model_id": "49ede882e69349a6829a548dc68275bc",
       "version_major": 2,
       "version_minor": 0
      },
      "text/plain": [
       "Downloading data:   0%|          | 0.00/748k [00:00<?, ?B/s]"
      ]
     },
     "metadata": {},
     "output_type": "display_data"
    },
    {
     "data": {
      "application/vnd.jupyter.widget-view+json": {
       "model_id": "1edb0710e6b846cd8b377c0c498c891e",
       "version_major": 2,
       "version_minor": 0
      },
      "text/plain": [
       "Generating gender split:   0%|          | 0/9000 [00:00<?, ? examples/s]"
      ]
     },
     "metadata": {},
     "output_type": "display_data"
    },
    {
     "data": {
      "application/vnd.jupyter.widget-view+json": {
       "model_id": "ba4991e0706f4b12b1abfba01ab45125",
       "version_major": 2,
       "version_minor": 0
      },
      "text/plain": [
       "Generating marital_status split:   0%|          | 0/2250 [00:00<?, ? examples/s]"
      ]
     },
     "metadata": {},
     "output_type": "display_data"
    },
    {
     "data": {
      "application/vnd.jupyter.widget-view+json": {
       "model_id": "398b8015ca91425bb6b3f5b437957cb4",
       "version_major": 2,
       "version_minor": 0
      },
      "text/plain": [
       "Generating military_status split:   0%|          | 0/2250 [00:00<?, ? examples/s]"
      ]
     },
     "metadata": {},
     "output_type": "display_data"
    },
    {
     "data": {
      "application/vnd.jupyter.widget-view+json": {
       "model_id": "b865949b8fd54fd0a60ad9529d849a35",
       "version_major": 2,
       "version_minor": 0
      },
      "text/plain": [
       "Generating religion split:   0%|          | 0/4050 [00:00<?, ? examples/s]"
      ]
     },
     "metadata": {},
     "output_type": "display_data"
    },
    {
     "data": {
      "application/vnd.jupyter.widget-view+json": {
       "model_id": "9d172d42c7384530a5c3ca71ea5c09fb",
       "version_major": 2,
       "version_minor": 0
      },
      "text/plain": [
       "Generating name split:   0%|          | 0/4500 [00:00<?, ? examples/s]"
      ]
     },
     "metadata": {},
     "output_type": "display_data"
    },
    {
     "data": {
      "application/vnd.jupyter.widget-view+json": {
       "model_id": "8981df941c294f6caf21a5f262663597",
       "version_major": 2,
       "version_minor": 0
      },
      "text/plain": [
       "Generating age split:   0%|          | 0/2700 [00:00<?, ? examples/s]"
      ]
     },
     "metadata": {},
     "output_type": "display_data"
    }
   ],
   "source": [
    "evaluator = Evalator(\"intfloat/multilingual-e5-large\", \"Stereotypes-in-LLMs/hiring-analyses-optimized_parameters-en\", \"optimized_parameters\")"
   ]
  },
  {
   "cell_type": "code",
   "execution_count": 5,
   "metadata": {},
   "outputs": [
    {
     "data": {
      "text/html": [
       "<div>\n",
       "<style scoped>\n",
       "    .dataframe tbody tr th:only-of-type {\n",
       "        vertical-align: middle;\n",
       "    }\n",
       "\n",
       "    .dataframe tbody tr th {\n",
       "        vertical-align: top;\n",
       "    }\n",
       "\n",
       "    .dataframe thead th {\n",
       "        text-align: right;\n",
       "    }\n",
       "</style>\n",
       "<table border=\"1\" class=\"dataframe\">\n",
       "  <thead>\n",
       "    <tr style=\"text-align: right;\">\n",
       "      <th></th>\n",
       "      <th>experiment_name</th>\n",
       "      <th>protected_group</th>\n",
       "      <th>lang</th>\n",
       "      <th>min_feedback_similarity</th>\n",
       "      <th>median_feedback_similarity</th>\n",
       "      <th>max_feedback_similarity</th>\n",
       "      <th>mean_reject_approve_per_attr</th>\n",
       "      <th>mean_bias_per_attr</th>\n",
       "    </tr>\n",
       "  </thead>\n",
       "  <tbody>\n",
       "    <tr>\n",
       "      <th>0</th>\n",
       "      <td>optimized_parameters</td>\n",
       "      <td>gender</td>\n",
       "      <td>en</td>\n",
       "      <td>0.7971</td>\n",
       "      <td>0.9622</td>\n",
       "      <td>1.0</td>\n",
       "      <td>{'Agender': 0.6111, 'Androgynous': 0.6044, 'Bigender': 0.5311, 'Cisgender': 0.5956, 'Demiboy': 0.5778, 'Demigender': 0.52, 'Demigirl': 0.58, 'Female': 0.5978, 'Gender Nonconforming': 0.5822, 'Genderfluid': 0.5756, 'Genderqueer': 0.5911, 'Intersex': 0.5689, 'Male': 0.5356, 'Neutrois': 0.58, 'Non-Binary': 0.6311, 'Pangender': 0.5089, 'Queer': 0.5533, 'Third Gender': 0.5, 'Transgender': 0.5756, 'Two-Spirit': 0.5267}</td>\n",
       "      <td>{'Agender': 0.0578, 'Androgynous': 0.0422, 'Bigender': 0.0489, 'Cisgender': 0.0511, 'Demiboy': 0.0378, 'Demigender': 0.06, 'Demigirl': 0.0533, 'Female': 0.0622, 'Gender Nonconforming': 0.0689, 'Genderfluid': 0.0444, 'Genderqueer': 0.0422, 'Intersex': 0.0378, 'Male': 0.0578, 'Neutrois': 0.0311, 'Non-Binary': 0.0733, 'Pangender': 0.0667, 'Queer': 0.0311, 'Third Gender': 0.0711, 'Transgender': 0.0622, 'Two-Spirit': 0.0667}</td>\n",
       "    </tr>\n",
       "    <tr>\n",
       "      <th>1</th>\n",
       "      <td>optimized_parameters</td>\n",
       "      <td>marital_status</td>\n",
       "      <td>en</td>\n",
       "      <td>0.8074</td>\n",
       "      <td>0.9640</td>\n",
       "      <td>1.0</td>\n",
       "      <td>{'Civil union': 0.4978, 'Divorced (Divorced)': 0.5356, 'Married (Husband/Wife)': 0.5489, 'Unmarried (Single)': 0.5578, 'Widower (Widow)': 0.5267}</td>\n",
       "      <td>{'Civil union': 0.0622, 'Divorced (Divorced)': 0.0333, 'Married (Husband/Wife)': 0.0467, 'Unmarried (Single)': 0.0556, 'Widower (Widow)': 0.0467}</td>\n",
       "    </tr>\n",
       "    <tr>\n",
       "      <th>2</th>\n",
       "      <td>optimized_parameters</td>\n",
       "      <td>military_status</td>\n",
       "      <td>en</td>\n",
       "      <td>0.7730</td>\n",
       "      <td>0.9501</td>\n",
       "      <td>1.0</td>\n",
       "      <td>{'Civilian': 0.5867, 'Military retiree': 0.5067, 'Participant in combat actions': 0.28, 'Reservist': 0.5378, 'War veteran': 0.52}</td>\n",
       "      <td>{'Civilian': 0.0911, 'Military retiree': 0.0378, 'Participant in combat actions': 0.2289, 'Reservist': 0.0556, 'War veteran': 0.0467}</td>\n",
       "    </tr>\n",
       "    <tr>\n",
       "      <th>3</th>\n",
       "      <td>optimized_parameters</td>\n",
       "      <td>religion</td>\n",
       "      <td>en</td>\n",
       "      <td>0.8173</td>\n",
       "      <td>0.9632</td>\n",
       "      <td>1.0</td>\n",
       "      <td>{'atheist': 0.6022, 'buddhist': 0.4378, 'christian': 0.54, 'hindu': 0.4867, 'jain': 0.4844, 'jew': 0.48, 'muslim': 0.4667, 'sikh': 0.4756, 'zoroastrian': 0.4333}</td>\n",
       "      <td>{'atheist': 0.1267, 'buddhist': 0.0644, 'christian': 0.0778, 'hindu': 0.0689, 'jain': 0.0489, 'jew': 0.0622, 'muslim': 0.0667, 'sikh': 0.0311, 'zoroastrian': 0.0689}</td>\n",
       "    </tr>\n",
       "    <tr>\n",
       "      <th>4</th>\n",
       "      <td>optimized_parameters</td>\n",
       "      <td>name</td>\n",
       "      <td>en</td>\n",
       "      <td>0.7767</td>\n",
       "      <td>0.9061</td>\n",
       "      <td>1.0</td>\n",
       "      <td>{'Aaron': 0.5644, 'Amartol': 0.5422, 'Emma': 0.5889, 'Khulian': 0.5511, 'Liusia': 0.5689, 'Liusiia': 0.5822, 'Romchyk': 0.5489, 'Siu': 0.5467, 'Tyhran': 0.5556, 'Zenoviia': 0.5667}</td>\n",
       "      <td>{'Aaron': 0.0422, 'Amartol': 0.0378, 'Emma': 0.0489, 'Khulian': 0.0289, 'Liusia': 0.0556, 'Liusiia': 0.0422, 'Romchyk': 0.04, 'Siu': 0.0511, 'Tyhran': 0.0333, 'Zenoviia': 0.0444}</td>\n",
       "    </tr>\n",
       "    <tr>\n",
       "      <th>5</th>\n",
       "      <td>optimized_parameters</td>\n",
       "      <td>age</td>\n",
       "      <td>en</td>\n",
       "      <td>0.7889</td>\n",
       "      <td>0.9361</td>\n",
       "      <td>1.0</td>\n",
       "      <td>{'20': 0.4511, '30': 0.5689, '40': 0.4156, '50': 0.2689, '60': 0.1333, '70': 0.0578}</td>\n",
       "      <td>{'20': 0.1867, '30': 0.3089, '40': 0.1511, '50': 0.0044, '60': 0.1356, '70': 0.2067}</td>\n",
       "    </tr>\n",
       "  </tbody>\n",
       "</table>\n",
       "</div>"
      ],
      "text/plain": [
       "        experiment_name  protected_group lang  min_feedback_similarity   \n",
       "0  optimized_parameters           gender   en                   0.7971  \\\n",
       "1  optimized_parameters   marital_status   en                   0.8074   \n",
       "2  optimized_parameters  military_status   en                   0.7730   \n",
       "3  optimized_parameters         religion   en                   0.8173   \n",
       "4  optimized_parameters             name   en                   0.7767   \n",
       "5  optimized_parameters              age   en                   0.7889   \n",
       "\n",
       "   median_feedback_similarity  max_feedback_similarity   \n",
       "0                      0.9622                      1.0  \\\n",
       "1                      0.9640                      1.0   \n",
       "2                      0.9501                      1.0   \n",
       "3                      0.9632                      1.0   \n",
       "4                      0.9061                      1.0   \n",
       "5                      0.9361                      1.0   \n",
       "\n",
       "                                                                                                                                                                                                                                                                                                                                                                                                       mean_reject_approve_per_attr   \n",
       "0  {'Agender': 0.6111, 'Androgynous': 0.6044, 'Bigender': 0.5311, 'Cisgender': 0.5956, 'Demiboy': 0.5778, 'Demigender': 0.52, 'Demigirl': 0.58, 'Female': 0.5978, 'Gender Nonconforming': 0.5822, 'Genderfluid': 0.5756, 'Genderqueer': 0.5911, 'Intersex': 0.5689, 'Male': 0.5356, 'Neutrois': 0.58, 'Non-Binary': 0.6311, 'Pangender': 0.5089, 'Queer': 0.5533, 'Third Gender': 0.5, 'Transgender': 0.5756, 'Two-Spirit': 0.5267}  \\\n",
       "1                                                                                                                                                                                                                                                                                 {'Civil union': 0.4978, 'Divorced (Divorced)': 0.5356, 'Married (Husband/Wife)': 0.5489, 'Unmarried (Single)': 0.5578, 'Widower (Widow)': 0.5267}   \n",
       "2                                                                                                                                                                                                                                                                                                 {'Civilian': 0.5867, 'Military retiree': 0.5067, 'Participant in combat actions': 0.28, 'Reservist': 0.5378, 'War veteran': 0.52}   \n",
       "3                                                                                                                                                                                                                                                                 {'atheist': 0.6022, 'buddhist': 0.4378, 'christian': 0.54, 'hindu': 0.4867, 'jain': 0.4844, 'jew': 0.48, 'muslim': 0.4667, 'sikh': 0.4756, 'zoroastrian': 0.4333}   \n",
       "4                                                                                                                                                                                                                                              {'Aaron': 0.5644, 'Amartol': 0.5422, 'Emma': 0.5889, 'Khulian': 0.5511, 'Liusia': 0.5689, 'Liusiia': 0.5822, 'Romchyk': 0.5489, 'Siu': 0.5467, 'Tyhran': 0.5556, 'Zenoviia': 0.5667}   \n",
       "5                                                                                                                                                                                                                                                                                                                                              {'20': 0.4511, '30': 0.5689, '40': 0.4156, '50': 0.2689, '60': 0.1333, '70': 0.0578}   \n",
       "\n",
       "                                                                                                                                                                                                                                                                                                                                                                                                                        mean_bias_per_attr  \n",
       "0  {'Agender': 0.0578, 'Androgynous': 0.0422, 'Bigender': 0.0489, 'Cisgender': 0.0511, 'Demiboy': 0.0378, 'Demigender': 0.06, 'Demigirl': 0.0533, 'Female': 0.0622, 'Gender Nonconforming': 0.0689, 'Genderfluid': 0.0444, 'Genderqueer': 0.0422, 'Intersex': 0.0378, 'Male': 0.0578, 'Neutrois': 0.0311, 'Non-Binary': 0.0733, 'Pangender': 0.0667, 'Queer': 0.0311, 'Third Gender': 0.0711, 'Transgender': 0.0622, 'Two-Spirit': 0.0667}  \n",
       "1                                                                                                                                                                                                                                                                                        {'Civil union': 0.0622, 'Divorced (Divorced)': 0.0333, 'Married (Husband/Wife)': 0.0467, 'Unmarried (Single)': 0.0556, 'Widower (Widow)': 0.0467}  \n",
       "2                                                                                                                                                                                                                                                                                                    {'Civilian': 0.0911, 'Military retiree': 0.0378, 'Participant in combat actions': 0.2289, 'Reservist': 0.0556, 'War veteran': 0.0467}  \n",
       "3                                                                                                                                                                                                                                                                    {'atheist': 0.1267, 'buddhist': 0.0644, 'christian': 0.0778, 'hindu': 0.0689, 'jain': 0.0489, 'jew': 0.0622, 'muslim': 0.0667, 'sikh': 0.0311, 'zoroastrian': 0.0689}  \n",
       "4                                                                                                                                                                                                                                                       {'Aaron': 0.0422, 'Amartol': 0.0378, 'Emma': 0.0489, 'Khulian': 0.0289, 'Liusia': 0.0556, 'Liusiia': 0.0422, 'Romchyk': 0.04, 'Siu': 0.0511, 'Tyhran': 0.0333, 'Zenoviia': 0.0444}  \n",
       "5                                                                                                                                                                                                                                                                                                                                                     {'20': 0.1867, '30': 0.3089, '40': 0.1511, '50': 0.0044, '60': 0.1356, '70': 0.2067}  "
      ]
     },
     "execution_count": 5,
     "metadata": {},
     "output_type": "execute_result"
    }
   ],
   "source": [
    "df_report = evaluator.get_report()\n",
    "df_report"
   ]
  },
  {
   "cell_type": "code",
   "execution_count": 6,
   "metadata": {},
   "outputs": [
    {
     "name": "stdout",
     "output_type": "stream",
     "text": [
      "Report saved to ../data/evaluation_results_en.csv\n"
     ]
    }
   ],
   "source": [
    "EVALUATION_FILE  = '../data/evaluation_results_en.csv'\n",
    "evaluator.save_report(df_report, EVALUATION_FILE)"
   ]
  },
  {
   "cell_type": "markdown",
   "metadata": {},
   "source": [
    "## `gpt-3.5-turbo-0125`: Ukrainian Language experiment"
   ]
  },
  {
   "cell_type": "code",
   "execution_count": 16,
   "metadata": {},
   "outputs": [],
   "source": [
    "from langchain_openai import ChatOpenAI\n",
    "llm = ChatOpenAI(model_name=\"gpt-3.5-turbo-0125\", model_kwargs={\"seed\": 42, \"top_p\": 0.0}, temperature=0.0)\n",
    "# Note: param because it is logical for companies\n",
    "# all next optimized param"
   ]
  },
  {
   "cell_type": "code",
   "execution_count": 17,
   "metadata": {},
   "outputs": [],
   "source": [
    "chain = PROMPTS['baseline_prompt_uk'] | llm"
   ]
  },
  {
   "cell_type": "code",
   "execution_count": 18,
   "metadata": {},
   "outputs": [],
   "source": [
    "file_paths = run_experiment(\n",
    "    folder_path='../data/optimized_parameters',\n",
    "    chain=chain,\n",
    "    data=df_uk,\n",
    "    lang='uk',\n",
    "    batch_size=25,\n",
    ")"
   ]
  },
  {
   "cell_type": "code",
   "execution_count": 19,
   "metadata": {},
   "outputs": [
    {
     "data": {
      "text/plain": [
       "{'age': '../data/optimized_parameters/uk/age.csv'}"
      ]
     },
     "execution_count": 19,
     "metadata": {},
     "output_type": "execute_result"
    }
   ],
   "source": [
    "file_paths"
   ]
  },
  {
   "cell_type": "markdown",
   "metadata": {},
   "source": [
    "## Load Ukrainian Results to HF Datasets"
   ]
  },
  {
   "cell_type": "code",
   "execution_count": 7,
   "metadata": {},
   "outputs": [
    {
     "data": {
      "application/vnd.jupyter.widget-view+json": {
       "model_id": "c88830b5687f4792832f9fbddad53ae4",
       "version_major": 2,
       "version_minor": 0
      },
      "text/plain": [
       "Uploading the dataset shards:   0%|          | 0/1 [00:00<?, ?it/s]"
      ]
     },
     "metadata": {},
     "output_type": "display_data"
    },
    {
     "data": {
      "application/vnd.jupyter.widget-view+json": {
       "model_id": "217791f9286c4f6086cb0c8bc1eb9c8b",
       "version_major": 2,
       "version_minor": 0
      },
      "text/plain": [
       "Creating parquet from Arrow format:   0%|          | 0/9 [00:00<?, ?ba/s]"
      ]
     },
     "metadata": {},
     "output_type": "display_data"
    },
    {
     "data": {
      "application/vnd.jupyter.widget-view+json": {
       "model_id": "5e391d5ed4d94247bdca55916e56b86e",
       "version_major": 2,
       "version_minor": 0
      },
      "text/plain": [
       "Uploading the dataset shards:   0%|          | 0/1 [00:00<?, ?it/s]"
      ]
     },
     "metadata": {},
     "output_type": "display_data"
    },
    {
     "data": {
      "application/vnd.jupyter.widget-view+json": {
       "model_id": "400c3b72e6ce4fb9af60931b227b81c9",
       "version_major": 2,
       "version_minor": 0
      },
      "text/plain": [
       "Creating parquet from Arrow format:   0%|          | 0/3 [00:00<?, ?ba/s]"
      ]
     },
     "metadata": {},
     "output_type": "display_data"
    },
    {
     "data": {
      "application/vnd.jupyter.widget-view+json": {
       "model_id": "2c59df2c46ce47178979ccf4596364da",
       "version_major": 2,
       "version_minor": 0
      },
      "text/plain": [
       "Uploading the dataset shards:   0%|          | 0/1 [00:00<?, ?it/s]"
      ]
     },
     "metadata": {},
     "output_type": "display_data"
    },
    {
     "data": {
      "application/vnd.jupyter.widget-view+json": {
       "model_id": "9668f1fdbba64c3eaf28f800e3f7020d",
       "version_major": 2,
       "version_minor": 0
      },
      "text/plain": [
       "Creating parquet from Arrow format:   0%|          | 0/3 [00:00<?, ?ba/s]"
      ]
     },
     "metadata": {},
     "output_type": "display_data"
    },
    {
     "data": {
      "application/vnd.jupyter.widget-view+json": {
       "model_id": "77a7af475b4448b5a36e104e898bf702",
       "version_major": 2,
       "version_minor": 0
      },
      "text/plain": [
       "Uploading the dataset shards:   0%|          | 0/1 [00:00<?, ?it/s]"
      ]
     },
     "metadata": {},
     "output_type": "display_data"
    },
    {
     "data": {
      "application/vnd.jupyter.widget-view+json": {
       "model_id": "0e4efa438505422fbf47ca321e9f62b0",
       "version_major": 2,
       "version_minor": 0
      },
      "text/plain": [
       "Creating parquet from Arrow format:   0%|          | 0/5 [00:00<?, ?ba/s]"
      ]
     },
     "metadata": {},
     "output_type": "display_data"
    },
    {
     "data": {
      "application/vnd.jupyter.widget-view+json": {
       "model_id": "4aa26ef7569540769692fc6a5894bf23",
       "version_major": 2,
       "version_minor": 0
      },
      "text/plain": [
       "Uploading the dataset shards:   0%|          | 0/1 [00:00<?, ?it/s]"
      ]
     },
     "metadata": {},
     "output_type": "display_data"
    },
    {
     "data": {
      "application/vnd.jupyter.widget-view+json": {
       "model_id": "6fab284e6ccd475c86a6dbb2165808f6",
       "version_major": 2,
       "version_minor": 0
      },
      "text/plain": [
       "Creating parquet from Arrow format:   0%|          | 0/5 [00:00<?, ?ba/s]"
      ]
     },
     "metadata": {},
     "output_type": "display_data"
    },
    {
     "data": {
      "application/vnd.jupyter.widget-view+json": {
       "model_id": "a6249b3c49c74f869b8de060b775ca47",
       "version_major": 2,
       "version_minor": 0
      },
      "text/plain": [
       "Uploading the dataset shards:   0%|          | 0/1 [00:00<?, ?it/s]"
      ]
     },
     "metadata": {},
     "output_type": "display_data"
    },
    {
     "data": {
      "application/vnd.jupyter.widget-view+json": {
       "model_id": "a0124a0f4bdc486b9db6c1209f94aca1",
       "version_major": 2,
       "version_minor": 0
      },
      "text/plain": [
       "Creating parquet from Arrow format:   0%|          | 0/3 [00:00<?, ?ba/s]"
      ]
     },
     "metadata": {},
     "output_type": "display_data"
    },
    {
     "data": {
      "application/vnd.jupyter.widget-view+json": {
       "model_id": "8596b47b286242f39f864f9275766588",
       "version_major": 2,
       "version_minor": 0
      },
      "text/plain": [
       "README.md:   0%|          | 0.00/1.29k [00:00<?, ?B/s]"
      ]
     },
     "metadata": {},
     "output_type": "display_data"
    },
    {
     "data": {
      "text/plain": [
       "CommitInfo(commit_url='https://huggingface.co/datasets/Stereotypes-in-LLMs/hiring-analyses-optimized_parameters-uk/commit/7360607205176abc9efbc0b8e6ec233e940419a8', commit_message='Upload dataset', commit_description='', oid='7360607205176abc9efbc0b8e6ec233e940419a8', pr_url=None, pr_revision=None, pr_num=None)"
      ]
     },
     "execution_count": 7,
     "metadata": {},
     "output_type": "execute_result"
    }
   ],
   "source": [
    "# TODO: check reasoning for the decision\n",
    "FILES_PATHS = {\n",
    "    'gender': '../data/optimized_parameters/uk/gender.csv',\n",
    "    'marital_status': '../data/optimized_parameters/uk/marital_status.csv',\n",
    "    'military_status': '../data/optimized_parameters/uk/military_status.csv',\n",
    "    'religion': '../data/optimized_parameters/uk/religion.csv',\n",
    "    'name': '../data/optimized_parameters/uk/name.csv',\n",
    "    'age': '../data/optimized_parameters/uk/age.csv'\n",
    "    }\n",
    "\n",
    "def ukr_decision_fixing(x: str) -> str:\n",
    "    if not x:\n",
    "        return x\n",
    "    for word in x.split():\n",
    "        for part in ['найн', 'наїн', 'наєн', 'прий', 'accept', 'hire']:\n",
    "            if word.lower().startswith(part):\n",
    "                return 'hire'\n",
    "        for part in ['відхил', 'reject', 'відмов', 'вибачте']:\n",
    "            if word.lower().startswith(part):\n",
    "                return 'reject'\n",
    "    return x\n",
    "\n",
    "\n",
    "# load data and push to huggingface\n",
    "dataset_dict = {}\n",
    "for key_name, file_path in FILES_PATHS.items():\n",
    "    df_part = pd.read_csv(file_path, dtype={'protected_attr': str})\n",
    "\n",
    "    df_part = fix_decision_parser(df_part)\n",
    "    df_part['decision'] = df_part['decision'].map(ukr_decision_fixing)\n",
    "    df_part = df_part.groupby(by=['candidate_id', 'job_id','CV','Job Description', 'Job Position', 'lang', 'protected_group', 'protected_attr', 'group_id']).agg({\n",
    "        \"decision\": \"first\",\n",
    "        \"feedback\": \"first\",\n",
    "        \"raw_ai_decision\": \"first\",\n",
    "    }).reset_index()\n",
    "    dataset_dict[key_name] = Dataset.from_pandas(df_part)\n",
    "\n",
    "DatasetDict(dataset_dict).push_to_hub('Stereotypes-in-LLMs/hiring-analyses-optimized_parameters-uk', private=True)"
   ]
  },
  {
   "cell_type": "code",
   "execution_count": 8,
   "metadata": {},
   "outputs": [],
   "source": [
    "# # load data from huggingface\n",
    "# from datasets import load_dataset\n",
    "# dataset = load_dataset(\"Stereotypes-in-LLMs/hiring-analyses-optimized_parameters-uk\", split=\"gender\")\n",
    "# dataset.to_pandas().head()"
   ]
  },
  {
   "cell_type": "markdown",
   "metadata": {},
   "source": [
    "## Evaluation Scores"
   ]
  },
  {
   "cell_type": "code",
   "execution_count": 9,
   "metadata": {},
   "outputs": [
    {
     "data": {
      "application/vnd.jupyter.widget-view+json": {
       "model_id": "b28ffe868b764f0e88b5743c0a623c0a",
       "version_major": 2,
       "version_minor": 0
      },
      "text/plain": [
       "Downloading readme:   0%|          | 0.00/1.29k [00:00<?, ?B/s]"
      ]
     },
     "metadata": {},
     "output_type": "display_data"
    },
    {
     "data": {
      "application/vnd.jupyter.widget-view+json": {
       "model_id": "c4ed70d8ba9e4d849f5b52534d060c6d",
       "version_major": 2,
       "version_minor": 0
      },
      "text/plain": [
       "Downloading data:   0%|          | 0.00/2.20M [00:00<?, ?B/s]"
      ]
     },
     "metadata": {},
     "output_type": "display_data"
    },
    {
     "data": {
      "application/vnd.jupyter.widget-view+json": {
       "model_id": "b9cff3c62ff044e7846857c82644e658",
       "version_major": 2,
       "version_minor": 0
      },
      "text/plain": [
       "Downloading data:   0%|          | 0.00/969k [00:00<?, ?B/s]"
      ]
     },
     "metadata": {},
     "output_type": "display_data"
    },
    {
     "data": {
      "application/vnd.jupyter.widget-view+json": {
       "model_id": "ae91f39426ee45ac9500d472819d2ed4",
       "version_major": 2,
       "version_minor": 0
      },
      "text/plain": [
       "Downloading data:   0%|          | 0.00/972k [00:00<?, ?B/s]"
      ]
     },
     "metadata": {},
     "output_type": "display_data"
    },
    {
     "data": {
      "application/vnd.jupyter.widget-view+json": {
       "model_id": "be762b00bf3d423eb90f014089d36409",
       "version_major": 2,
       "version_minor": 0
      },
      "text/plain": [
       "Downloading data:   0%|          | 0.00/1.37M [00:00<?, ?B/s]"
      ]
     },
     "metadata": {},
     "output_type": "display_data"
    },
    {
     "data": {
      "application/vnd.jupyter.widget-view+json": {
       "model_id": "c4a3ac5bb5d04400b0d2e5e15cc2fe03",
       "version_major": 2,
       "version_minor": 0
      },
      "text/plain": [
       "Downloading data:   0%|          | 0.00/1.50M [00:00<?, ?B/s]"
      ]
     },
     "metadata": {},
     "output_type": "display_data"
    },
    {
     "data": {
      "application/vnd.jupyter.widget-view+json": {
       "model_id": "c05c29da58d34bf2bc36cfa7639b245c",
       "version_major": 2,
       "version_minor": 0
      },
      "text/plain": [
       "Downloading data:   0%|          | 0.00/1.09M [00:00<?, ?B/s]"
      ]
     },
     "metadata": {},
     "output_type": "display_data"
    },
    {
     "data": {
      "application/vnd.jupyter.widget-view+json": {
       "model_id": "1f9f913e68374c078580580af16cac49",
       "version_major": 2,
       "version_minor": 0
      },
      "text/plain": [
       "Generating gender split:   0%|          | 0/9000 [00:00<?, ? examples/s]"
      ]
     },
     "metadata": {},
     "output_type": "display_data"
    },
    {
     "data": {
      "application/vnd.jupyter.widget-view+json": {
       "model_id": "46f99bc9239e4ebf922de09e3e2ce450",
       "version_major": 2,
       "version_minor": 0
      },
      "text/plain": [
       "Generating marital_status split:   0%|          | 0/2250 [00:00<?, ? examples/s]"
      ]
     },
     "metadata": {},
     "output_type": "display_data"
    },
    {
     "data": {
      "application/vnd.jupyter.widget-view+json": {
       "model_id": "ca96cbbddba846398344d48558583315",
       "version_major": 2,
       "version_minor": 0
      },
      "text/plain": [
       "Generating military_status split:   0%|          | 0/2250 [00:00<?, ? examples/s]"
      ]
     },
     "metadata": {},
     "output_type": "display_data"
    },
    {
     "data": {
      "application/vnd.jupyter.widget-view+json": {
       "model_id": "64321d6b1a734da3af75c34af6eeb9e6",
       "version_major": 2,
       "version_minor": 0
      },
      "text/plain": [
       "Generating religion split:   0%|          | 0/4050 [00:00<?, ? examples/s]"
      ]
     },
     "metadata": {},
     "output_type": "display_data"
    },
    {
     "data": {
      "application/vnd.jupyter.widget-view+json": {
       "model_id": "9fe634c98a7b401f9d1d70a6ba06b785",
       "version_major": 2,
       "version_minor": 0
      },
      "text/plain": [
       "Generating name split:   0%|          | 0/4500 [00:00<?, ? examples/s]"
      ]
     },
     "metadata": {},
     "output_type": "display_data"
    },
    {
     "data": {
      "application/vnd.jupyter.widget-view+json": {
       "model_id": "0448b27873134f19a6a57bdf4641b913",
       "version_major": 2,
       "version_minor": 0
      },
      "text/plain": [
       "Generating age split:   0%|          | 0/2700 [00:00<?, ? examples/s]"
      ]
     },
     "metadata": {},
     "output_type": "display_data"
    }
   ],
   "source": [
    "evaluator = Evalator(\"intfloat/multilingual-e5-large\", \"Stereotypes-in-LLMs/hiring-analyses-optimized_parameters-uk\", \"optimized_parameters\")"
   ]
  },
  {
   "cell_type": "code",
   "execution_count": 10,
   "metadata": {},
   "outputs": [
    {
     "data": {
      "text/html": [
       "<div>\n",
       "<style scoped>\n",
       "    .dataframe tbody tr th:only-of-type {\n",
       "        vertical-align: middle;\n",
       "    }\n",
       "\n",
       "    .dataframe tbody tr th {\n",
       "        vertical-align: top;\n",
       "    }\n",
       "\n",
       "    .dataframe thead th {\n",
       "        text-align: right;\n",
       "    }\n",
       "</style>\n",
       "<table border=\"1\" class=\"dataframe\">\n",
       "  <thead>\n",
       "    <tr style=\"text-align: right;\">\n",
       "      <th></th>\n",
       "      <th>experiment_name</th>\n",
       "      <th>protected_group</th>\n",
       "      <th>lang</th>\n",
       "      <th>min_feedback_similarity</th>\n",
       "      <th>median_feedback_similarity</th>\n",
       "      <th>max_feedback_similarity</th>\n",
       "      <th>mean_reject_approve_per_attr</th>\n",
       "      <th>mean_bias_per_attr</th>\n",
       "    </tr>\n",
       "  </thead>\n",
       "  <tbody>\n",
       "    <tr>\n",
       "      <th>0</th>\n",
       "      <td>optimized_parameters</td>\n",
       "      <td>gender</td>\n",
       "      <td>uk</td>\n",
       "      <td>0.8354</td>\n",
       "      <td>0.9571</td>\n",
       "      <td>1.0</td>\n",
       "      <td>{'Інтерсекс': 0.0956, 'Агендер': 0.0889, 'Андрогінний': 0.1222, 'Бігендер': 0.1111, 'Гендерквір': 0.1, 'Гендерне невідповідність': 0.0467, 'Гендерфлюїд': 0.0867, 'Дводушний (Твоуспірит)': 0.1689, 'Демігендер': 0.0978, 'Демідівчина': 0.14, 'Деміхлопчик': 0.0756, 'Квір': 0.06, 'Небінарний': 0.14, 'Неутроїс': 0.1156, 'Пангендер': 0.1111, 'Трансгендер': 0.0422, 'Третя стать': 0.0667, 'Цісгендер': 0.1244, 'Чоловік': 0.0956, 'Жінка': 0.1067}</td>\n",
       "      <td>{'Інтерсекс': 0.0289, 'Агендер': 0.0444, 'Андрогінний': 0.06, 'Бігендер': 0.0578, 'Гендерквір': 0.0556, 'Гендерне невідповідність': 0.0378, 'Гендерфлюїд': 0.0378, 'Дводушний (Твоуспірит)': 0.0978, 'Демігендер': 0.0444, 'Демідівчина': 0.0733, 'Деміхлопчик': 0.04, 'Квір': 0.0244, 'Небінарний': 0.0733, 'Неутроїс': 0.0533, 'Пангендер': 0.0489, 'Трансгендер': 0.0333, 'Третя стать': 0.04, 'Цісгендер': 0.0533, 'Чоловік': 0.0378, 'Жінка': 0.0533}</td>\n",
       "    </tr>\n",
       "    <tr>\n",
       "      <th>1</th>\n",
       "      <td>optimized_parameters</td>\n",
       "      <td>marital_status</td>\n",
       "      <td>uk</td>\n",
       "      <td>0.8562</td>\n",
       "      <td>0.9561</td>\n",
       "      <td>1.0</td>\n",
       "      <td>{'Вдовець/Вдова': 0.0711, 'Неодружений/Неодружена': 0.1333, 'Одружений/Одружена': 0.1622, 'Розлучений/Розлучена': 0.0778, 'Цивільний шлюб': 0.1622}</td>\n",
       "      <td>{'Вдовець/Вдова': 0.0422, 'Неодружений/Неодружена': 0.0467, 'Одружений/Одружена': 0.0667, 'Розлучений/Розлучена': 0.0489, 'Цивільний шлюб': 0.0667}</td>\n",
       "    </tr>\n",
       "    <tr>\n",
       "      <th>2</th>\n",
       "      <td>optimized_parameters</td>\n",
       "      <td>military_status</td>\n",
       "      <td>uk</td>\n",
       "      <td>0.8239</td>\n",
       "      <td>0.9518</td>\n",
       "      <td>1.0</td>\n",
       "      <td>{'Ветеран війни': 0.0489, 'Військовий пенсіонер': 0.0356, 'Резервіст': 0.0733, 'Учасник бойових дій': 0.0289, 'Цивільний': 0.0778}</td>\n",
       "      <td>{'Ветеран війни': 0.0044, 'Військовий пенсіонер': 0.0133, 'Резервіст': 0.0333, 'Учасник бойових дій': 0.0156, 'Цивільний': 0.0378}</td>\n",
       "    </tr>\n",
       "    <tr>\n",
       "      <th>3</th>\n",
       "      <td>optimized_parameters</td>\n",
       "      <td>religion</td>\n",
       "      <td>uk</td>\n",
       "      <td>0.8452</td>\n",
       "      <td>0.9556</td>\n",
       "      <td>1.0</td>\n",
       "      <td>{'атеїст': 0.0911, 'буддист': 0.06, 'джайніст': 0.0378, 'зороастрист': 0.0422, 'мусульманин': 0.0244, 'сикх': 0.0556, 'християнин': 0.0711, 'єврей': 0.0756, 'індуїст': 0.0556}</td>\n",
       "      <td>{'атеїст': 0.04, 'буддист': 0.0133, 'джайніст': 0.0133, 'зороастрист': 0.0222, 'мусульманин': 0.0267, 'сикх': 0.0311, 'християнин': 0.0378, 'єврей': 0.0333, 'індуїст': 0.0222}</td>\n",
       "    </tr>\n",
       "    <tr>\n",
       "      <th>4</th>\n",
       "      <td>optimized_parameters</td>\n",
       "      <td>name</td>\n",
       "      <td>uk</td>\n",
       "      <td>0.8323</td>\n",
       "      <td>0.9502</td>\n",
       "      <td>1.0</td>\n",
       "      <td>{'Аарон': 0.1622, 'Амартол': 0.1556, 'Емма': 0.1867, 'Зеновія': 0.1733, 'Люся': 0.1911, 'Люсія': 0.2178, 'Ромчик': 0.1156, 'Сю': 0.1556, 'Тигран': 0.1711, 'Хуліан': 0.18}</td>\n",
       "      <td>{'Аарон': 0.0622, 'Амартол': 0.0422, 'Емма': 0.0733, 'Зеновія': 0.0644, 'Люся': 0.0689, 'Люсія': 0.0822, 'Ромчик': 0.0644, 'Сю': 0.0644, 'Тигран': 0.0622, 'Хуліан': 0.0667}</td>\n",
       "    </tr>\n",
       "    <tr>\n",
       "      <th>5</th>\n",
       "      <td>optimized_parameters</td>\n",
       "      <td>age</td>\n",
       "      <td>uk</td>\n",
       "      <td>0.8454</td>\n",
       "      <td>0.9484</td>\n",
       "      <td>1.0</td>\n",
       "      <td>{'20': 0.1133, '30': 0.1156, '40': 0.0556, '50': 0.0267, '60': 0.0067, '70': 0.0067}</td>\n",
       "      <td>{'20': 0.0867, '30': 0.0889, '40': 0.0333, '50': 0.0044, '60': 0.02, '70': 0.02}</td>\n",
       "    </tr>\n",
       "  </tbody>\n",
       "</table>\n",
       "</div>"
      ],
      "text/plain": [
       "        experiment_name  protected_group lang  min_feedback_similarity   \n",
       "0  optimized_parameters           gender   uk                   0.8354  \\\n",
       "1  optimized_parameters   marital_status   uk                   0.8562   \n",
       "2  optimized_parameters  military_status   uk                   0.8239   \n",
       "3  optimized_parameters         religion   uk                   0.8452   \n",
       "4  optimized_parameters             name   uk                   0.8323   \n",
       "5  optimized_parameters              age   uk                   0.8454   \n",
       "\n",
       "   median_feedback_similarity  max_feedback_similarity   \n",
       "0                      0.9571                      1.0  \\\n",
       "1                      0.9561                      1.0   \n",
       "2                      0.9518                      1.0   \n",
       "3                      0.9556                      1.0   \n",
       "4                      0.9502                      1.0   \n",
       "5                      0.9484                      1.0   \n",
       "\n",
       "                                                                                                                                                                                                                                                                                                                                                                                                                              mean_reject_approve_per_attr   \n",
       "0  {'Інтерсекс': 0.0956, 'Агендер': 0.0889, 'Андрогінний': 0.1222, 'Бігендер': 0.1111, 'Гендерквір': 0.1, 'Гендерне невідповідність': 0.0467, 'Гендерфлюїд': 0.0867, 'Дводушний (Твоуспірит)': 0.1689, 'Демігендер': 0.0978, 'Демідівчина': 0.14, 'Деміхлопчик': 0.0756, 'Квір': 0.06, 'Небінарний': 0.14, 'Неутроїс': 0.1156, 'Пангендер': 0.1111, 'Трансгендер': 0.0422, 'Третя стать': 0.0667, 'Цісгендер': 0.1244, 'Чоловік': 0.0956, 'Жінка': 0.1067}  \\\n",
       "1                                                                                                                                                                                                                                                                                                      {'Вдовець/Вдова': 0.0711, 'Неодружений/Неодружена': 0.1333, 'Одружений/Одружена': 0.1622, 'Розлучений/Розлучена': 0.0778, 'Цивільний шлюб': 0.1622}   \n",
       "2                                                                                                                                                                                                                                                                                                                       {'Ветеран війни': 0.0489, 'Військовий пенсіонер': 0.0356, 'Резервіст': 0.0733, 'Учасник бойових дій': 0.0289, 'Цивільний': 0.0778}   \n",
       "3                                                                                                                                                                                                                                                                          {'атеїст': 0.0911, 'буддист': 0.06, 'джайніст': 0.0378, 'зороастрист': 0.0422, 'мусульманин': 0.0244, 'сикх': 0.0556, 'християнин': 0.0711, 'єврей': 0.0756, 'індуїст': 0.0556}   \n",
       "4                                                                                                                                                                                                                                                                               {'Аарон': 0.1622, 'Амартол': 0.1556, 'Емма': 0.1867, 'Зеновія': 0.1733, 'Люся': 0.1911, 'Люсія': 0.2178, 'Ромчик': 0.1156, 'Сю': 0.1556, 'Тигран': 0.1711, 'Хуліан': 0.18}   \n",
       "5                                                                                                                                                                                                                                                                                                                                                                     {'20': 0.1133, '30': 0.1156, '40': 0.0556, '50': 0.0267, '60': 0.0067, '70': 0.0067}   \n",
       "\n",
       "                                                                                                                                                                                                                                                                                                                                                                                                                                           mean_bias_per_attr  \n",
       "0  {'Інтерсекс': 0.0289, 'Агендер': 0.0444, 'Андрогінний': 0.06, 'Бігендер': 0.0578, 'Гендерквір': 0.0556, 'Гендерне невідповідність': 0.0378, 'Гендерфлюїд': 0.0378, 'Дводушний (Твоуспірит)': 0.0978, 'Демігендер': 0.0444, 'Демідівчина': 0.0733, 'Деміхлопчик': 0.04, 'Квір': 0.0244, 'Небінарний': 0.0733, 'Неутроїс': 0.0533, 'Пангендер': 0.0489, 'Трансгендер': 0.0333, 'Третя стать': 0.04, 'Цісгендер': 0.0533, 'Чоловік': 0.0378, 'Жінка': 0.0533}  \n",
       "1                                                                                                                                                                                                                                                                                                         {'Вдовець/Вдова': 0.0422, 'Неодружений/Неодружена': 0.0467, 'Одружений/Одружена': 0.0667, 'Розлучений/Розлучена': 0.0489, 'Цивільний шлюб': 0.0667}  \n",
       "2                                                                                                                                                                                                                                                                                                                          {'Ветеран війни': 0.0044, 'Військовий пенсіонер': 0.0133, 'Резервіст': 0.0333, 'Учасник бойових дій': 0.0156, 'Цивільний': 0.0378}  \n",
       "3                                                                                                                                                                                                                                                                             {'атеїст': 0.04, 'буддист': 0.0133, 'джайніст': 0.0133, 'зороастрист': 0.0222, 'мусульманин': 0.0267, 'сикх': 0.0311, 'християнин': 0.0378, 'єврей': 0.0333, 'індуїст': 0.0222}  \n",
       "4                                                                                                                                                                                                                                                                                {'Аарон': 0.0622, 'Амартол': 0.0422, 'Емма': 0.0733, 'Зеновія': 0.0644, 'Люся': 0.0689, 'Люсія': 0.0822, 'Ромчик': 0.0644, 'Сю': 0.0644, 'Тигран': 0.0622, 'Хуліан': 0.0667}  \n",
       "5                                                                                                                                                                                                                                                                                                                                                                            {'20': 0.0867, '30': 0.0889, '40': 0.0333, '50': 0.0044, '60': 0.02, '70': 0.02}  "
      ]
     },
     "execution_count": 10,
     "metadata": {},
     "output_type": "execute_result"
    }
   ],
   "source": [
    "df_report = evaluator.get_report()\n",
    "df_report"
   ]
  },
  {
   "cell_type": "code",
   "execution_count": 11,
   "metadata": {},
   "outputs": [
    {
     "name": "stdout",
     "output_type": "stream",
     "text": [
      "Report saved to ../data/evaluation_results_uk.csv\n"
     ]
    }
   ],
   "source": [
    "EVALUATION_FILE  = '../data/evaluation_results_uk.csv'\n",
    "evaluator.save_report(df_report, EVALUATION_FILE)"
   ]
  },
  {
   "cell_type": "code",
   "execution_count": null,
   "metadata": {},
   "outputs": [],
   "source": []
  }
 ],
 "metadata": {
  "kernelspec": {
   "display_name": "py310",
   "language": "python",
   "name": "python3"
  },
  "language_info": {
   "codemirror_mode": {
    "name": "ipython",
    "version": 3
   },
   "file_extension": ".py",
   "mimetype": "text/x-python",
   "name": "python",
   "nbconvert_exporter": "python",
   "pygments_lexer": "ipython3",
   "version": "3.9.18"
  }
 },
 "nbformat": 4,
 "nbformat_minor": 2
}
