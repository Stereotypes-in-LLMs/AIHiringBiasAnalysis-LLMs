{
 "cells": [
  {
   "cell_type": "markdown",
   "metadata": {},
   "source": [
    "# Zero Shot COT Experiments"
   ]
  },
  {
   "cell_type": "code",
   "execution_count": null,
   "metadata": {},
   "outputs": [],
   "source": [
    "# %pip install langchain langchain-core langchain-community langchain-openai\n",
    "# %pip install --force-reinstall typing-extensions==4.5\n",
    "# %pip install --force-reinstall openai==1.8"
   ]
  },
  {
   "cell_type": "markdown",
   "metadata": {},
   "source": [
    "## Load Libraries"
   ]
  },
  {
   "cell_type": "code",
   "execution_count": 1,
   "metadata": {},
   "outputs": [
    {
     "name": "stderr",
     "output_type": "stream",
     "text": [
      "/opt/homebrew/lib/python3.9/site-packages/transformers/utils/generic.py:441: UserWarning: torch.utils._pytree._register_pytree_node is deprecated. Please use torch.utils._pytree.register_pytree_node instead.\n",
      "  _torch_pytree._register_pytree_node(\n"
     ]
    },
    {
     "name": "stdout",
     "output_type": "stream",
     "text": [
      "Token is valid (permission: write).\n",
      "Your token has been saved in your configured git credential helpers (osxkeychain).\n",
      "Your token has been saved to /Users/nazardrushchak/.cache/huggingface/token\n",
      "Login successful\n"
     ]
    }
   ],
   "source": [
    "import os\n",
    "import sys\n",
    "import pandas as pd\n",
    "sys.path.append('..')\n",
    "from src.prompt import PROMPTS\n",
    "from src.evaluation import Evalator\n",
    "from src.helpers import fix_decision_parser\n",
    "from src.experiment_runner import run_experiment\n",
    "\n",
    "from huggingface_hub import login\n",
    "from datasets import Dataset, DatasetDict\n",
    "\n",
    "pd.set_option('display.max_colwidth', None)\n",
    "\n",
    "login(token=os.environ.get(\"HF_TOKEN\"), add_to_git_credential=True)"
   ]
  },
  {
   "cell_type": "markdown",
   "metadata": {},
   "source": [
    "## Load Data"
   ]
  },
  {
   "cell_type": "code",
   "execution_count": 2,
   "metadata": {},
   "outputs": [],
   "source": [
    "df_uk = pd.read_csv('../data/uk_data_samples.csv')\n",
    "df_en = pd.read_csv('../data/en_data_samples.csv')"
   ]
  },
  {
   "cell_type": "markdown",
   "metadata": {},
   "source": [
    "## `gpt-3.5-turbo-0125`: English Language experiment"
   ]
  },
  {
   "cell_type": "code",
   "execution_count": 3,
   "metadata": {},
   "outputs": [],
   "source": [
    "from langchain_openai import ChatOpenAI\n",
    "llm = ChatOpenAI(model_name=\"gpt-3.5-turbo-0125\", model_kwargs={\"seed\": 42, \"top_p\": 0.0}, temperature=0.0)"
   ]
  },
  {
   "cell_type": "code",
   "execution_count": 4,
   "metadata": {},
   "outputs": [],
   "source": [
    "chain = PROMPTS['zero-shot-cot_en'] | llm"
   ]
  },
  {
   "cell_type": "code",
   "execution_count": 5,
   "metadata": {},
   "outputs": [],
   "source": [
    "file_paths = run_experiment(\n",
    "    folder_path='../data/zero_shot_cot',\n",
    "    chain=chain,\n",
    "    data=df_en,\n",
    "    lang='en',\n",
    "    batch_size=5,\n",
    ")"
   ]
  },
  {
   "cell_type": "code",
   "execution_count": 6,
   "metadata": {},
   "outputs": [
    {
     "data": {
      "text/plain": [
       "{'gender': '../data/zero_shot_cot/en/gender.csv',\n",
       " 'marital_status': '../data/zero_shot_cot/en/marital_status.csv',\n",
       " 'military_status': '../data/zero_shot_cot/en/military_status.csv',\n",
       " 'religion': '../data/zero_shot_cot/en/religion.csv',\n",
       " 'name': '../data/zero_shot_cot/en/name.csv',\n",
       " 'age': '../data/zero_shot_cot/en/age.csv'}"
      ]
     },
     "execution_count": 6,
     "metadata": {},
     "output_type": "execute_result"
    }
   ],
   "source": [
    "file_paths"
   ]
  },
  {
   "cell_type": "markdown",
   "metadata": {},
   "source": [
    "## Load English Results to HF Datasets"
   ]
  },
  {
   "cell_type": "code",
   "execution_count": 5,
   "metadata": {},
   "outputs": [
    {
     "data": {
      "application/vnd.jupyter.widget-view+json": {
       "model_id": "97b2a06872f446c7b81810258f5560f2",
       "version_major": 2,
       "version_minor": 0
      },
      "text/plain": [
       "Uploading the dataset shards:   0%|          | 0/1 [00:00<?, ?it/s]"
      ]
     },
     "metadata": {},
     "output_type": "display_data"
    },
    {
     "data": {
      "application/vnd.jupyter.widget-view+json": {
       "model_id": "06fb6bfbf8a3451cbaa0630b7d873d95",
       "version_major": 2,
       "version_minor": 0
      },
      "text/plain": [
       "Creating parquet from Arrow format:   0%|          | 0/9 [00:00<?, ?ba/s]"
      ]
     },
     "metadata": {},
     "output_type": "display_data"
    },
    {
     "data": {
      "application/vnd.jupyter.widget-view+json": {
       "model_id": "ad526dfcc97643359b2448776974ba19",
       "version_major": 2,
       "version_minor": 0
      },
      "text/plain": [
       "Uploading the dataset shards:   0%|          | 0/1 [00:00<?, ?it/s]"
      ]
     },
     "metadata": {},
     "output_type": "display_data"
    },
    {
     "data": {
      "application/vnd.jupyter.widget-view+json": {
       "model_id": "7c5007f9cba54585bb1a207f63c13144",
       "version_major": 2,
       "version_minor": 0
      },
      "text/plain": [
       "Creating parquet from Arrow format:   0%|          | 0/3 [00:00<?, ?ba/s]"
      ]
     },
     "metadata": {},
     "output_type": "display_data"
    },
    {
     "data": {
      "application/vnd.jupyter.widget-view+json": {
       "model_id": "4a1b4caaa1bf48f18aa90568377d6e92",
       "version_major": 2,
       "version_minor": 0
      },
      "text/plain": [
       "Uploading the dataset shards:   0%|          | 0/1 [00:00<?, ?it/s]"
      ]
     },
     "metadata": {},
     "output_type": "display_data"
    },
    {
     "data": {
      "application/vnd.jupyter.widget-view+json": {
       "model_id": "a53a7fc965c74ca6b580cd589cd087bc",
       "version_major": 2,
       "version_minor": 0
      },
      "text/plain": [
       "Creating parquet from Arrow format:   0%|          | 0/3 [00:00<?, ?ba/s]"
      ]
     },
     "metadata": {},
     "output_type": "display_data"
    },
    {
     "data": {
      "application/vnd.jupyter.widget-view+json": {
       "model_id": "a50122686415429bad60a1e4ef3b5af6",
       "version_major": 2,
       "version_minor": 0
      },
      "text/plain": [
       "Uploading the dataset shards:   0%|          | 0/1 [00:00<?, ?it/s]"
      ]
     },
     "metadata": {},
     "output_type": "display_data"
    },
    {
     "data": {
      "application/vnd.jupyter.widget-view+json": {
       "model_id": "5418ffaafdc04ac1a4800c00de64bf9e",
       "version_major": 2,
       "version_minor": 0
      },
      "text/plain": [
       "Creating parquet from Arrow format:   0%|          | 0/5 [00:00<?, ?ba/s]"
      ]
     },
     "metadata": {},
     "output_type": "display_data"
    },
    {
     "data": {
      "application/vnd.jupyter.widget-view+json": {
       "model_id": "fd2871df2771472f8dc7a50831ead1a6",
       "version_major": 2,
       "version_minor": 0
      },
      "text/plain": [
       "Uploading the dataset shards:   0%|          | 0/1 [00:00<?, ?it/s]"
      ]
     },
     "metadata": {},
     "output_type": "display_data"
    },
    {
     "data": {
      "application/vnd.jupyter.widget-view+json": {
       "model_id": "f6b771379a19479e8f5928df3a853b4f",
       "version_major": 2,
       "version_minor": 0
      },
      "text/plain": [
       "Creating parquet from Arrow format:   0%|          | 0/5 [00:00<?, ?ba/s]"
      ]
     },
     "metadata": {},
     "output_type": "display_data"
    },
    {
     "data": {
      "application/vnd.jupyter.widget-view+json": {
       "model_id": "aeff837311194a2992f222573c91d180",
       "version_major": 2,
       "version_minor": 0
      },
      "text/plain": [
       "Uploading the dataset shards:   0%|          | 0/1 [00:00<?, ?it/s]"
      ]
     },
     "metadata": {},
     "output_type": "display_data"
    },
    {
     "data": {
      "application/vnd.jupyter.widget-view+json": {
       "model_id": "734cc95c56704169977c010dd94fff12",
       "version_major": 2,
       "version_minor": 0
      },
      "text/plain": [
       "Creating parquet from Arrow format:   0%|          | 0/3 [00:00<?, ?ba/s]"
      ]
     },
     "metadata": {},
     "output_type": "display_data"
    },
    {
     "data": {
      "application/vnd.jupyter.widget-view+json": {
       "model_id": "2e9d2e7851364600b6d7787906c27f8d",
       "version_major": 2,
       "version_minor": 0
      },
      "text/plain": [
       "README.md:   0%|          | 0.00/1.28k [00:00<?, ?B/s]"
      ]
     },
     "metadata": {},
     "output_type": "display_data"
    },
    {
     "data": {
      "text/plain": [
       "CommitInfo(commit_url='https://huggingface.co/datasets/Stereotypes-in-LLMs/hiring-analyses-zero_shot_cot-en/commit/96e20e9bfdd56ea62f95afcc8ec4c8d773546937', commit_message='Upload dataset', commit_description='', oid='96e20e9bfdd56ea62f95afcc8ec4c8d773546937', pr_url=None, pr_revision=None, pr_num=None)"
      ]
     },
     "execution_count": 5,
     "metadata": {},
     "output_type": "execute_result"
    }
   ],
   "source": [
    "FILES_PATHS = {\n",
    "    'gender': '../data/zero_shot_cot/en/gender.csv',\n",
    "    'marital_status': '../data/zero_shot_cot/en/marital_status.csv',\n",
    "    'military_status': '../data/zero_shot_cot/en/military_status.csv',\n",
    "    'religion': '../data/zero_shot_cot/en/religion.csv',\n",
    "    'name': '../data/zero_shot_cot/en/name.csv',\n",
    "    'age': '../data/zero_shot_cot/en/age.csv'\n",
    "    }\n",
    "\n",
    "# load data and push to huggingface\n",
    "dataset_dict = {}\n",
    "for key_name, file_path in FILES_PATHS.items():\n",
    "    df_part = pd.read_csv(file_path, dtype={'protected_attr': str})\n",
    "\n",
    "    # FIX ONE ERROR IN THE DATA. Better to rerun and fix in dataset generation\n",
    "    if key_name == 'military_status':\n",
    "        import json\n",
    "        for ind in df_part[df_part.decision.isna()].index:\n",
    "            val = df_part.loc[ind].to_dict()\n",
    "            result = chain.batch([{\"job_desc\": val[\"Job Description\"], \"candidate_cv\": val[\"CV\"], \"protected_group\": \"military_status\", \"protected_attr\": val[\"protected_attr\"]}])[0]\n",
    "            result = json.loads(\"{\"+ result.content.split(\"{\")[-1].split(\"}\")[0] + \"}\")\n",
    "            df_part.loc[ind, 'decision'] = result['decision']\n",
    "            df_part.loc[ind, 'feedback'] = result['feedback']\n",
    "            df_part.loc[ind, 'raw_ai_decision'] = json.dumps(result)\n",
    "\n",
    "    df_part['decision'] = df_part['decision'].map(lambda x: x.lower())\n",
    "    df_part = df_part.groupby(by=['candidate_id', 'job_id','CV','Job Description', 'Job Position', 'lang', 'protected_group', 'protected_attr', 'group_id']).agg({\n",
    "        \"decision\": \"first\",\n",
    "        \"feedback\": \"first\",\n",
    "        \"raw_ai_decision\": \"first\",\n",
    "    }).reset_index()\n",
    "    dataset_dict[key_name] = Dataset.from_pandas(df_part)\n",
    "\n",
    "DatasetDict(dataset_dict).push_to_hub('Stereotypes-in-LLMs/hiring-analyses-zero_shot_cot-en', private=True)"
   ]
  },
  {
   "cell_type": "code",
   "execution_count": 6,
   "metadata": {},
   "outputs": [],
   "source": [
    "# # load data from huggingface\n",
    "# from datasets import load_dataset\n",
    "# dataset = load_dataset(\"Stereotypes-in-LLMs/hiring-analyses-zero_shot_cot-en\", split=\"gender\")\n",
    "# dataset.to_pandas().head()"
   ]
  },
  {
   "cell_type": "markdown",
   "metadata": {},
   "source": [
    "## Evaluation Scores"
   ]
  },
  {
   "cell_type": "code",
   "execution_count": 7,
   "metadata": {},
   "outputs": [
    {
     "name": "stderr",
     "output_type": "stream",
     "text": [
      "/opt/homebrew/lib/python3.9/site-packages/transformers/utils/generic.py:309: UserWarning: torch.utils._pytree._register_pytree_node is deprecated. Please use torch.utils._pytree.register_pytree_node instead.\n",
      "  _torch_pytree._register_pytree_node(\n"
     ]
    },
    {
     "data": {
      "application/vnd.jupyter.widget-view+json": {
       "model_id": "fa27ee09d7834a46a2adad9ef8918ec9",
       "version_major": 2,
       "version_minor": 0
      },
      "text/plain": [
       "Downloading readme:   0%|          | 0.00/1.28k [00:00<?, ?B/s]"
      ]
     },
     "metadata": {},
     "output_type": "display_data"
    },
    {
     "data": {
      "application/vnd.jupyter.widget-view+json": {
       "model_id": "d91100b8b495432bba65b95fd2e12806",
       "version_major": 2,
       "version_minor": 0
      },
      "text/plain": [
       "Downloading data:   0%|          | 0.00/1.17M [00:00<?, ?B/s]"
      ]
     },
     "metadata": {},
     "output_type": "display_data"
    },
    {
     "data": {
      "application/vnd.jupyter.widget-view+json": {
       "model_id": "a7d5f16fc3e343d2b854a55fdc7be908",
       "version_major": 2,
       "version_minor": 0
      },
      "text/plain": [
       "Downloading data:   0%|          | 0.00/696k [00:00<?, ?B/s]"
      ]
     },
     "metadata": {},
     "output_type": "display_data"
    },
    {
     "data": {
      "application/vnd.jupyter.widget-view+json": {
       "model_id": "c3986190f27448d6a06cdd63dd1fd69e",
       "version_major": 2,
       "version_minor": 0
      },
      "text/plain": [
       "Downloading data:   0%|          | 0.00/711k [00:00<?, ?B/s]"
      ]
     },
     "metadata": {},
     "output_type": "display_data"
    },
    {
     "data": {
      "application/vnd.jupyter.widget-view+json": {
       "model_id": "cdf40d818ee14e2e89251d32f7ae2ecc",
       "version_major": 2,
       "version_minor": 0
      },
      "text/plain": [
       "Downloading data:   0%|          | 0.00/845k [00:00<?, ?B/s]"
      ]
     },
     "metadata": {},
     "output_type": "display_data"
    },
    {
     "data": {
      "application/vnd.jupyter.widget-view+json": {
       "model_id": "5083d488caf5466485a19ca70f06a9a4",
       "version_major": 2,
       "version_minor": 0
      },
      "text/plain": [
       "Downloading data:   0%|          | 0.00/922k [00:00<?, ?B/s]"
      ]
     },
     "metadata": {},
     "output_type": "display_data"
    },
    {
     "data": {
      "application/vnd.jupyter.widget-view+json": {
       "model_id": "f1d64885b94844a9a33801c746ea796f",
       "version_major": 2,
       "version_minor": 0
      },
      "text/plain": [
       "Downloading data:   0%|          | 0.00/747k [00:00<?, ?B/s]"
      ]
     },
     "metadata": {},
     "output_type": "display_data"
    },
    {
     "data": {
      "application/vnd.jupyter.widget-view+json": {
       "model_id": "7dd34bbf4a4a4f818480b6a5b41b9cfb",
       "version_major": 2,
       "version_minor": 0
      },
      "text/plain": [
       "Generating gender split:   0%|          | 0/9000 [00:00<?, ? examples/s]"
      ]
     },
     "metadata": {},
     "output_type": "display_data"
    },
    {
     "data": {
      "application/vnd.jupyter.widget-view+json": {
       "model_id": "1201fa84556e4e498038ebfefd2d5e40",
       "version_major": 2,
       "version_minor": 0
      },
      "text/plain": [
       "Generating marital_status split:   0%|          | 0/2250 [00:00<?, ? examples/s]"
      ]
     },
     "metadata": {},
     "output_type": "display_data"
    },
    {
     "data": {
      "application/vnd.jupyter.widget-view+json": {
       "model_id": "a93a6ecb852f4d7c8b3a685b92a7708b",
       "version_major": 2,
       "version_minor": 0
      },
      "text/plain": [
       "Generating military_status split:   0%|          | 0/2250 [00:00<?, ? examples/s]"
      ]
     },
     "metadata": {},
     "output_type": "display_data"
    },
    {
     "data": {
      "application/vnd.jupyter.widget-view+json": {
       "model_id": "393a5e84bee14ef2842c72726a631e59",
       "version_major": 2,
       "version_minor": 0
      },
      "text/plain": [
       "Generating religion split:   0%|          | 0/4050 [00:00<?, ? examples/s]"
      ]
     },
     "metadata": {},
     "output_type": "display_data"
    },
    {
     "data": {
      "application/vnd.jupyter.widget-view+json": {
       "model_id": "c5a58b7c0c88400086f4afe565e187ee",
       "version_major": 2,
       "version_minor": 0
      },
      "text/plain": [
       "Generating name split:   0%|          | 0/4500 [00:00<?, ? examples/s]"
      ]
     },
     "metadata": {},
     "output_type": "display_data"
    },
    {
     "data": {
      "application/vnd.jupyter.widget-view+json": {
       "model_id": "68b40a124dc74f30ab394d46e9845824",
       "version_major": 2,
       "version_minor": 0
      },
      "text/plain": [
       "Generating age split:   0%|          | 0/2700 [00:00<?, ? examples/s]"
      ]
     },
     "metadata": {},
     "output_type": "display_data"
    }
   ],
   "source": [
    "evaluator = Evalator(\"intfloat/multilingual-e5-large\", \"Stereotypes-in-LLMs/hiring-analyses-zero_shot_cot-en\", \"zero_shot_cot\")"
   ]
  },
  {
   "cell_type": "code",
   "execution_count": 8,
   "metadata": {},
   "outputs": [
    {
     "data": {
      "text/html": [
       "<div>\n",
       "<style scoped>\n",
       "    .dataframe tbody tr th:only-of-type {\n",
       "        vertical-align: middle;\n",
       "    }\n",
       "\n",
       "    .dataframe tbody tr th {\n",
       "        vertical-align: top;\n",
       "    }\n",
       "\n",
       "    .dataframe thead th {\n",
       "        text-align: right;\n",
       "    }\n",
       "</style>\n",
       "<table border=\"1\" class=\"dataframe\">\n",
       "  <thead>\n",
       "    <tr style=\"text-align: right;\">\n",
       "      <th></th>\n",
       "      <th>experiment_name</th>\n",
       "      <th>protected_group</th>\n",
       "      <th>lang</th>\n",
       "      <th>min_feedback_similarity</th>\n",
       "      <th>median_feedback_similarity</th>\n",
       "      <th>max_feedback_similarity</th>\n",
       "      <th>mean_reject_approve_per_attr</th>\n",
       "      <th>mean_bias_per_attr</th>\n",
       "    </tr>\n",
       "  </thead>\n",
       "  <tbody>\n",
       "    <tr>\n",
       "      <th>0</th>\n",
       "      <td>zero_shot_cot</td>\n",
       "      <td>gender</td>\n",
       "      <td>en</td>\n",
       "      <td>0.7901</td>\n",
       "      <td>0.9669</td>\n",
       "      <td>1.0</td>\n",
       "      <td>{'Agender': 0.5778, 'Androgynous': 0.5778, 'Bigender': 0.5222, 'Cisgender': 0.5556, 'Demiboy': 0.54, 'Demigender': 0.48, 'Demigirl': 0.5578, 'Female': 0.56, 'Gender Nonconforming': 0.5378, 'Genderfluid': 0.5467, 'Genderqueer': 0.56, 'Intersex': 0.5178, 'Male': 0.4867, 'Neutrois': 0.5556, 'Non-Binary': 0.5822, 'Pangender': 0.4867, 'Queer': 0.5333, 'Third Gender': 0.48, 'Transgender': 0.5467, 'Two-Spirit': 0.4978}</td>\n",
       "      <td>{'Agender': 0.0556, 'Androgynous': 0.0644, 'Bigender': 0.0444, 'Cisgender': 0.0556, 'Demiboy': 0.0356, 'Demigender': 0.0911, 'Demigirl': 0.0533, 'Female': 0.0556, 'Gender Nonconforming': 0.0467, 'Genderfluid': 0.0467, 'Genderqueer': 0.0378, 'Intersex': 0.0489, 'Male': 0.08, 'Neutrois': 0.0467, 'Non-Binary': 0.06, 'Pangender': 0.0711, 'Queer': 0.0556, 'Third Gender': 0.0778, 'Transgender': 0.0511, 'Two-Spirit': 0.0556}</td>\n",
       "    </tr>\n",
       "    <tr>\n",
       "      <th>1</th>\n",
       "      <td>zero_shot_cot</td>\n",
       "      <td>marital_status</td>\n",
       "      <td>en</td>\n",
       "      <td>0.8057</td>\n",
       "      <td>0.9670</td>\n",
       "      <td>1.0</td>\n",
       "      <td>{'Civil union': 0.4667, 'Divorced (Divorced)': 0.5111, 'Married (Husband/Wife)': 0.5244, 'Unmarried (Single)': 0.5267, 'Widower (Widow)': 0.5067}</td>\n",
       "      <td>{'Civil union': 0.06, 'Divorced (Divorced)': 0.0378, 'Married (Husband/Wife)': 0.0467, 'Unmarried (Single)': 0.0444, 'Widower (Widow)': 0.0511}</td>\n",
       "    </tr>\n",
       "    <tr>\n",
       "      <th>2</th>\n",
       "      <td>zero_shot_cot</td>\n",
       "      <td>military_status</td>\n",
       "      <td>en</td>\n",
       "      <td>0.7830</td>\n",
       "      <td>0.9550</td>\n",
       "      <td>1.0</td>\n",
       "      <td>{'Civilian': 0.5533, 'Military retiree': 0.4689, 'Participant in combat actions': 0.2711, 'Reservist': 0.5289, 'War veteran': 0.48}</td>\n",
       "      <td>{'Civilian': 0.0889, 'Military retiree': 0.04, 'Participant in combat actions': 0.2022, 'Reservist': 0.0689, 'War veteran': 0.0378}</td>\n",
       "    </tr>\n",
       "    <tr>\n",
       "      <th>3</th>\n",
       "      <td>zero_shot_cot</td>\n",
       "      <td>religion</td>\n",
       "      <td>en</td>\n",
       "      <td>0.7901</td>\n",
       "      <td>0.9679</td>\n",
       "      <td>1.0</td>\n",
       "      <td>{'atheist': 0.5489, 'buddhist': 0.4111, 'christian': 0.5111, 'hindu': 0.44, 'jain': 0.44, 'jew': 0.44, 'muslim': 0.4156, 'sikh': 0.4556, 'zoroastrian': 0.4178}</td>\n",
       "      <td>{'atheist': 0.1022, 'buddhist': 0.0533, 'christian': 0.0689, 'hindu': 0.0467, 'jain': 0.0733, 'jew': 0.0556, 'muslim': 0.0667, 'sikh': 0.0311, 'zoroastrian': 0.0644}</td>\n",
       "    </tr>\n",
       "    <tr>\n",
       "      <th>4</th>\n",
       "      <td>zero_shot_cot</td>\n",
       "      <td>name</td>\n",
       "      <td>en</td>\n",
       "      <td>0.7710</td>\n",
       "      <td>0.9147</td>\n",
       "      <td>1.0</td>\n",
       "      <td>{'Aaron': 0.5289, 'Amartol': 0.5244, 'Emma': 0.5667, 'Khulian': 0.5289, 'Liusia': 0.54, 'Liusiia': 0.5489, 'Romchyk': 0.5156, 'Siu': 0.5133, 'Tyhran': 0.5422, 'Zenoviia': 0.5289}</td>\n",
       "      <td>{'Aaron': 0.0511, 'Amartol': 0.0333, 'Emma': 0.0533, 'Khulian': 0.0289, 'Liusia': 0.0444, 'Liusiia': 0.0444, 'Romchyk': 0.0556, 'Siu': 0.0533, 'Tyhran': 0.0378, 'Zenoviia': 0.0333}</td>\n",
       "    </tr>\n",
       "    <tr>\n",
       "      <th>5</th>\n",
       "      <td>zero_shot_cot</td>\n",
       "      <td>age</td>\n",
       "      <td>en</td>\n",
       "      <td>0.7798</td>\n",
       "      <td>0.9433</td>\n",
       "      <td>1.0</td>\n",
       "      <td>{'20': 0.4356, '30': 0.5489, '40': 0.4244, '50': 0.2911, '60': 0.16, '70': 0.0533}</td>\n",
       "      <td>{'20': 0.16, '30': 0.2733, '40': 0.1489, '50': 0.0156, '60': 0.1156, '70': 0.2222}</td>\n",
       "    </tr>\n",
       "  </tbody>\n",
       "</table>\n",
       "</div>"
      ],
      "text/plain": [
       "  experiment_name  protected_group lang  min_feedback_similarity   \n",
       "0   zero_shot_cot           gender   en                   0.7901  \\\n",
       "1   zero_shot_cot   marital_status   en                   0.8057   \n",
       "2   zero_shot_cot  military_status   en                   0.7830   \n",
       "3   zero_shot_cot         religion   en                   0.7901   \n",
       "4   zero_shot_cot             name   en                   0.7710   \n",
       "5   zero_shot_cot              age   en                   0.7798   \n",
       "\n",
       "   median_feedback_similarity  max_feedback_similarity   \n",
       "0                      0.9669                      1.0  \\\n",
       "1                      0.9670                      1.0   \n",
       "2                      0.9550                      1.0   \n",
       "3                      0.9679                      1.0   \n",
       "4                      0.9147                      1.0   \n",
       "5                      0.9433                      1.0   \n",
       "\n",
       "                                                                                                                                                                                                                                                                                                                                                                                                      mean_reject_approve_per_attr   \n",
       "0  {'Agender': 0.5778, 'Androgynous': 0.5778, 'Bigender': 0.5222, 'Cisgender': 0.5556, 'Demiboy': 0.54, 'Demigender': 0.48, 'Demigirl': 0.5578, 'Female': 0.56, 'Gender Nonconforming': 0.5378, 'Genderfluid': 0.5467, 'Genderqueer': 0.56, 'Intersex': 0.5178, 'Male': 0.4867, 'Neutrois': 0.5556, 'Non-Binary': 0.5822, 'Pangender': 0.4867, 'Queer': 0.5333, 'Third Gender': 0.48, 'Transgender': 0.5467, 'Two-Spirit': 0.4978}  \\\n",
       "1                                                                                                                                                                                                                                                                                {'Civil union': 0.4667, 'Divorced (Divorced)': 0.5111, 'Married (Husband/Wife)': 0.5244, 'Unmarried (Single)': 0.5267, 'Widower (Widow)': 0.5067}   \n",
       "2                                                                                                                                                                                                                                                                                              {'Civilian': 0.5533, 'Military retiree': 0.4689, 'Participant in combat actions': 0.2711, 'Reservist': 0.5289, 'War veteran': 0.48}   \n",
       "3                                                                                                                                                                                                                                                                  {'atheist': 0.5489, 'buddhist': 0.4111, 'christian': 0.5111, 'hindu': 0.44, 'jain': 0.44, 'jew': 0.44, 'muslim': 0.4156, 'sikh': 0.4556, 'zoroastrian': 0.4178}   \n",
       "4                                                                                                                                                                                                                                               {'Aaron': 0.5289, 'Amartol': 0.5244, 'Emma': 0.5667, 'Khulian': 0.5289, 'Liusia': 0.54, 'Liusiia': 0.5489, 'Romchyk': 0.5156, 'Siu': 0.5133, 'Tyhran': 0.5422, 'Zenoviia': 0.5289}   \n",
       "5                                                                                                                                                                                                                                                                                                                                               {'20': 0.4356, '30': 0.5489, '40': 0.4244, '50': 0.2911, '60': 0.16, '70': 0.0533}   \n",
       "\n",
       "                                                                                                                                                                                                                                                                                                                                                                                                                      mean_bias_per_attr  \n",
       "0  {'Agender': 0.0556, 'Androgynous': 0.0644, 'Bigender': 0.0444, 'Cisgender': 0.0556, 'Demiboy': 0.0356, 'Demigender': 0.0911, 'Demigirl': 0.0533, 'Female': 0.0556, 'Gender Nonconforming': 0.0467, 'Genderfluid': 0.0467, 'Genderqueer': 0.0378, 'Intersex': 0.0489, 'Male': 0.08, 'Neutrois': 0.0467, 'Non-Binary': 0.06, 'Pangender': 0.0711, 'Queer': 0.0556, 'Third Gender': 0.0778, 'Transgender': 0.0511, 'Two-Spirit': 0.0556}  \n",
       "1                                                                                                                                                                                                                                                                                        {'Civil union': 0.06, 'Divorced (Divorced)': 0.0378, 'Married (Husband/Wife)': 0.0467, 'Unmarried (Single)': 0.0444, 'Widower (Widow)': 0.0511}  \n",
       "2                                                                                                                                                                                                                                                                                                    {'Civilian': 0.0889, 'Military retiree': 0.04, 'Participant in combat actions': 0.2022, 'Reservist': 0.0689, 'War veteran': 0.0378}  \n",
       "3                                                                                                                                                                                                                                                                  {'atheist': 0.1022, 'buddhist': 0.0533, 'christian': 0.0689, 'hindu': 0.0467, 'jain': 0.0733, 'jew': 0.0556, 'muslim': 0.0667, 'sikh': 0.0311, 'zoroastrian': 0.0644}  \n",
       "4                                                                                                                                                                                                                                                   {'Aaron': 0.0511, 'Amartol': 0.0333, 'Emma': 0.0533, 'Khulian': 0.0289, 'Liusia': 0.0444, 'Liusiia': 0.0444, 'Romchyk': 0.0556, 'Siu': 0.0533, 'Tyhran': 0.0378, 'Zenoviia': 0.0333}  \n",
       "5                                                                                                                                                                                                                                                                                                                                                     {'20': 0.16, '30': 0.2733, '40': 0.1489, '50': 0.0156, '60': 0.1156, '70': 0.2222}  "
      ]
     },
     "execution_count": 8,
     "metadata": {},
     "output_type": "execute_result"
    }
   ],
   "source": [
    "df_report = evaluator.get_report()\n",
    "df_report"
   ]
  },
  {
   "cell_type": "code",
   "execution_count": 9,
   "metadata": {},
   "outputs": [
    {
     "name": "stdout",
     "output_type": "stream",
     "text": [
      "Report saved to ../data/evaluation_results_en.csv\n"
     ]
    }
   ],
   "source": [
    "EVALUATION_FILE  = '../data/evaluation_results_en.csv'\n",
    "evaluator.save_report(df_report, EVALUATION_FILE)"
   ]
  },
  {
   "cell_type": "markdown",
   "metadata": {},
   "source": [
    "## `gpt-3.5-turbo-0125`: Ukrainian Language experiment"
   ]
  },
  {
   "cell_type": "code",
   "execution_count": 22,
   "metadata": {},
   "outputs": [],
   "source": [
    "from langchain_openai import ChatOpenAI\n",
    "llm = ChatOpenAI(model_name=\"gpt-3.5-turbo-0125\", model_kwargs={\"seed\": 42, \"top_p\": 0.0}, temperature=0.0)"
   ]
  },
  {
   "cell_type": "code",
   "execution_count": 23,
   "metadata": {},
   "outputs": [],
   "source": [
    "chain = PROMPTS['zero-shot-cot_uk'] | llm"
   ]
  },
  {
   "cell_type": "code",
   "execution_count": 24,
   "metadata": {},
   "outputs": [],
   "source": [
    "file_paths = run_experiment(\n",
    "    folder_path='../data/zero_shot_cot',\n",
    "    chain=chain,\n",
    "    data=df_uk,\n",
    "    lang='uk',\n",
    "    batch_size=2,\n",
    ")"
   ]
  },
  {
   "cell_type": "code",
   "execution_count": 25,
   "metadata": {},
   "outputs": [
    {
     "data": {
      "text/plain": [
       "{'gender': '../data/zero_shot_cot/uk/gender.csv',\n",
       " 'marital_status': '../data/zero_shot_cot/uk/marital_status.csv',\n",
       " 'military_status': '../data/zero_shot_cot/uk/military_status.csv',\n",
       " 'religion': '../data/zero_shot_cot/uk/religion.csv',\n",
       " 'name': '../data/zero_shot_cot/uk/name.csv',\n",
       " 'age': '../data/zero_shot_cot/uk/age.csv'}"
      ]
     },
     "execution_count": 25,
     "metadata": {},
     "output_type": "execute_result"
    }
   ],
   "source": [
    "file_paths"
   ]
  },
  {
   "cell_type": "markdown",
   "metadata": {},
   "source": [
    "## Load Ukrainian Results to HF Datasets"
   ]
  },
  {
   "cell_type": "code",
   "execution_count": 10,
   "metadata": {},
   "outputs": [
    {
     "data": {
      "application/vnd.jupyter.widget-view+json": {
       "model_id": "4a3d79caf9f841dba9c5eda259d23af4",
       "version_major": 2,
       "version_minor": 0
      },
      "text/plain": [
       "Uploading the dataset shards:   0%|          | 0/1 [00:00<?, ?it/s]"
      ]
     },
     "metadata": {},
     "output_type": "display_data"
    },
    {
     "data": {
      "application/vnd.jupyter.widget-view+json": {
       "model_id": "d58c7678ee6b47409630fa69b40a7508",
       "version_major": 2,
       "version_minor": 0
      },
      "text/plain": [
       "Creating parquet from Arrow format:   0%|          | 0/9 [00:00<?, ?ba/s]"
      ]
     },
     "metadata": {},
     "output_type": "display_data"
    },
    {
     "data": {
      "application/vnd.jupyter.widget-view+json": {
       "model_id": "1862817814cd43afbebc4e1cd31c97e2",
       "version_major": 2,
       "version_minor": 0
      },
      "text/plain": [
       "Uploading the dataset shards:   0%|          | 0/1 [00:00<?, ?it/s]"
      ]
     },
     "metadata": {},
     "output_type": "display_data"
    },
    {
     "data": {
      "application/vnd.jupyter.widget-view+json": {
       "model_id": "eb6878679f7140bf916541ad0302a3ed",
       "version_major": 2,
       "version_minor": 0
      },
      "text/plain": [
       "Creating parquet from Arrow format:   0%|          | 0/3 [00:00<?, ?ba/s]"
      ]
     },
     "metadata": {},
     "output_type": "display_data"
    },
    {
     "data": {
      "application/vnd.jupyter.widget-view+json": {
       "model_id": "ca49fbfe837d44ae8e7a710634d782a7",
       "version_major": 2,
       "version_minor": 0
      },
      "text/plain": [
       "Uploading the dataset shards:   0%|          | 0/1 [00:00<?, ?it/s]"
      ]
     },
     "metadata": {},
     "output_type": "display_data"
    },
    {
     "data": {
      "application/vnd.jupyter.widget-view+json": {
       "model_id": "2749e3d69662411ca6a617d3e6adac2d",
       "version_major": 2,
       "version_minor": 0
      },
      "text/plain": [
       "Creating parquet from Arrow format:   0%|          | 0/3 [00:00<?, ?ba/s]"
      ]
     },
     "metadata": {},
     "output_type": "display_data"
    },
    {
     "data": {
      "application/vnd.jupyter.widget-view+json": {
       "model_id": "d1d6a86f0e5e4399975a068133416413",
       "version_major": 2,
       "version_minor": 0
      },
      "text/plain": [
       "Uploading the dataset shards:   0%|          | 0/1 [00:00<?, ?it/s]"
      ]
     },
     "metadata": {},
     "output_type": "display_data"
    },
    {
     "data": {
      "application/vnd.jupyter.widget-view+json": {
       "model_id": "ceb87fb3cc4d4fe883e65e7e1fada57a",
       "version_major": 2,
       "version_minor": 0
      },
      "text/plain": [
       "Creating parquet from Arrow format:   0%|          | 0/5 [00:00<?, ?ba/s]"
      ]
     },
     "metadata": {},
     "output_type": "display_data"
    },
    {
     "data": {
      "application/vnd.jupyter.widget-view+json": {
       "model_id": "749adbf73dc5452390753b2cc00bd5df",
       "version_major": 2,
       "version_minor": 0
      },
      "text/plain": [
       "Uploading the dataset shards:   0%|          | 0/1 [00:00<?, ?it/s]"
      ]
     },
     "metadata": {},
     "output_type": "display_data"
    },
    {
     "data": {
      "application/vnd.jupyter.widget-view+json": {
       "model_id": "de9403645632470899b84eaeeb24ec2d",
       "version_major": 2,
       "version_minor": 0
      },
      "text/plain": [
       "Creating parquet from Arrow format:   0%|          | 0/5 [00:00<?, ?ba/s]"
      ]
     },
     "metadata": {},
     "output_type": "display_data"
    },
    {
     "data": {
      "application/vnd.jupyter.widget-view+json": {
       "model_id": "01030dad4e3a49ae83b035e21f54d39c",
       "version_major": 2,
       "version_minor": 0
      },
      "text/plain": [
       "Uploading the dataset shards:   0%|          | 0/1 [00:00<?, ?it/s]"
      ]
     },
     "metadata": {},
     "output_type": "display_data"
    },
    {
     "data": {
      "application/vnd.jupyter.widget-view+json": {
       "model_id": "c223d9df66314ab2a4ac9bbd737acf30",
       "version_major": 2,
       "version_minor": 0
      },
      "text/plain": [
       "Creating parquet from Arrow format:   0%|          | 0/3 [00:00<?, ?ba/s]"
      ]
     },
     "metadata": {},
     "output_type": "display_data"
    },
    {
     "data": {
      "application/vnd.jupyter.widget-view+json": {
       "model_id": "cd5871a8ad85463999f1fe1effaf3baf",
       "version_major": 2,
       "version_minor": 0
      },
      "text/plain": [
       "README.md:   0%|          | 0.00/1.29k [00:00<?, ?B/s]"
      ]
     },
     "metadata": {},
     "output_type": "display_data"
    },
    {
     "data": {
      "text/plain": [
       "CommitInfo(commit_url='https://huggingface.co/datasets/Stereotypes-in-LLMs/hiring-analyses-zero_shot_cot-uk/commit/ef5dacd5449807c5f915c0032a2267a61e24dcfc', commit_message='Upload dataset', commit_description='', oid='ef5dacd5449807c5f915c0032a2267a61e24dcfc', pr_url=None, pr_revision=None, pr_num=None)"
      ]
     },
     "execution_count": 10,
     "metadata": {},
     "output_type": "execute_result"
    }
   ],
   "source": [
    "FILES_PATHS = {\n",
    "    'gender': '../data/zero_shot_cot/uk/gender.csv',\n",
    "    'marital_status': '../data/zero_shot_cot/uk/marital_status.csv',\n",
    "    'military_status': '../data/zero_shot_cot/uk/military_status.csv',\n",
    "    'religion': '../data/zero_shot_cot/uk/religion.csv',\n",
    "    'name': '../data/zero_shot_cot/uk/name.csv',\n",
    "    'age': '../data/zero_shot_cot/uk/age.csv'\n",
    "    }\n",
    "\n",
    "def ukr_decision_fixing(x: str) -> str:\n",
    "    if not x:\n",
    "        return x\n",
    "    for word in x.split():\n",
    "        for part in ['найн', 'наїн', 'наєн', 'прий', 'accept', 'hire']:\n",
    "            if word.lower().startswith(part):\n",
    "                return 'hire'\n",
    "        for part in ['відхил', 'reject', 'відмов', 'вибачте']:\n",
    "            if word.lower().startswith(part):\n",
    "                return 'reject'\n",
    "    return x\n",
    "\n",
    "\n",
    "# load data and push to huggingface\n",
    "dataset_dict = {}\n",
    "for key_name, file_path in FILES_PATHS.items():\n",
    "    df_part = pd.read_csv(file_path, dtype={'protected_attr': str})\n",
    "\n",
    "    df_part = fix_decision_parser(df_part)\n",
    "    df_part['decision'] = df_part['decision'].map(ukr_decision_fixing)\n",
    "    df_part = df_part.groupby(by=['candidate_id', 'job_id','CV','Job Description', 'Job Position', 'lang', 'protected_group', 'protected_attr', 'group_id']).agg({\n",
    "        \"decision\": \"first\",\n",
    "        \"feedback\": \"first\",\n",
    "        \"raw_ai_decision\": \"first\",\n",
    "    }).reset_index()\n",
    "    dataset_dict[key_name] = Dataset.from_pandas(df_part)\n",
    "\n",
    "DatasetDict(dataset_dict).push_to_hub('Stereotypes-in-LLMs/hiring-analyses-zero_shot_cot-uk', private=True)"
   ]
  },
  {
   "cell_type": "code",
   "execution_count": 11,
   "metadata": {},
   "outputs": [],
   "source": [
    "# # load data from huggingface\n",
    "# from datasets import load_dataset\n",
    "# dataset = load_dataset(\"Stereotypes-in-LLMs/hiring-analyses-zero_shot_cot-uk\", split=\"gender\")\n",
    "# dataset.to_pandas().head()"
   ]
  },
  {
   "cell_type": "markdown",
   "metadata": {},
   "source": [
    "## Evaluation Scores"
   ]
  },
  {
   "cell_type": "code",
   "execution_count": 12,
   "metadata": {},
   "outputs": [
    {
     "data": {
      "application/vnd.jupyter.widget-view+json": {
       "model_id": "80e9aadd806d489aa49076f32f39c4c2",
       "version_major": 2,
       "version_minor": 0
      },
      "text/plain": [
       "Downloading readme:   0%|          | 0.00/1.29k [00:00<?, ?B/s]"
      ]
     },
     "metadata": {},
     "output_type": "display_data"
    },
    {
     "data": {
      "application/vnd.jupyter.widget-view+json": {
       "model_id": "bf65a82aea19454081e8c422395a4e97",
       "version_major": 2,
       "version_minor": 0
      },
      "text/plain": [
       "Downloading data:   0%|          | 0.00/2.15M [00:00<?, ?B/s]"
      ]
     },
     "metadata": {},
     "output_type": "display_data"
    },
    {
     "data": {
      "application/vnd.jupyter.widget-view+json": {
       "model_id": "67efcf6b959344e592079f20dbfed40b",
       "version_major": 2,
       "version_minor": 0
      },
      "text/plain": [
       "Downloading data:   0%|          | 0.00/958k [00:00<?, ?B/s]"
      ]
     },
     "metadata": {},
     "output_type": "display_data"
    },
    {
     "data": {
      "application/vnd.jupyter.widget-view+json": {
       "model_id": "04eb1ac1e3a34f32beb157fa61216f28",
       "version_major": 2,
       "version_minor": 0
      },
      "text/plain": [
       "Downloading data:   0%|          | 0.00/984k [00:00<?, ?B/s]"
      ]
     },
     "metadata": {},
     "output_type": "display_data"
    },
    {
     "data": {
      "application/vnd.jupyter.widget-view+json": {
       "model_id": "d4b09596406947b2a2681b34168fadf8",
       "version_major": 2,
       "version_minor": 0
      },
      "text/plain": [
       "Downloading data:   0%|          | 0.00/1.37M [00:00<?, ?B/s]"
      ]
     },
     "metadata": {},
     "output_type": "display_data"
    },
    {
     "data": {
      "application/vnd.jupyter.widget-view+json": {
       "model_id": "e505cd94b11a4e79b30e4eaa19a70b96",
       "version_major": 2,
       "version_minor": 0
      },
      "text/plain": [
       "Downloading data:   0%|          | 0.00/1.46M [00:00<?, ?B/s]"
      ]
     },
     "metadata": {},
     "output_type": "display_data"
    },
    {
     "data": {
      "application/vnd.jupyter.widget-view+json": {
       "model_id": "3588d714261b43b1aabdba306f6a32d6",
       "version_major": 2,
       "version_minor": 0
      },
      "text/plain": [
       "Downloading data:   0%|          | 0.00/1.10M [00:00<?, ?B/s]"
      ]
     },
     "metadata": {},
     "output_type": "display_data"
    },
    {
     "data": {
      "application/vnd.jupyter.widget-view+json": {
       "model_id": "6ebc5132d6ae47fa969eeebcf5571b75",
       "version_major": 2,
       "version_minor": 0
      },
      "text/plain": [
       "Generating gender split:   0%|          | 0/9000 [00:00<?, ? examples/s]"
      ]
     },
     "metadata": {},
     "output_type": "display_data"
    },
    {
     "data": {
      "application/vnd.jupyter.widget-view+json": {
       "model_id": "2f65ecea4e8c4dad9ae16aaf4a387a29",
       "version_major": 2,
       "version_minor": 0
      },
      "text/plain": [
       "Generating marital_status split:   0%|          | 0/2250 [00:00<?, ? examples/s]"
      ]
     },
     "metadata": {},
     "output_type": "display_data"
    },
    {
     "data": {
      "application/vnd.jupyter.widget-view+json": {
       "model_id": "74a10861a76f4d4aa11255f29ba2ae84",
       "version_major": 2,
       "version_minor": 0
      },
      "text/plain": [
       "Generating military_status split:   0%|          | 0/2250 [00:00<?, ? examples/s]"
      ]
     },
     "metadata": {},
     "output_type": "display_data"
    },
    {
     "data": {
      "application/vnd.jupyter.widget-view+json": {
       "model_id": "8d78991d68074847b45a70f5217a13aa",
       "version_major": 2,
       "version_minor": 0
      },
      "text/plain": [
       "Generating religion split:   0%|          | 0/4050 [00:00<?, ? examples/s]"
      ]
     },
     "metadata": {},
     "output_type": "display_data"
    },
    {
     "data": {
      "application/vnd.jupyter.widget-view+json": {
       "model_id": "3700623d241d4fd2bf0b00d7f8ce24a0",
       "version_major": 2,
       "version_minor": 0
      },
      "text/plain": [
       "Generating name split:   0%|          | 0/4500 [00:00<?, ? examples/s]"
      ]
     },
     "metadata": {},
     "output_type": "display_data"
    },
    {
     "data": {
      "application/vnd.jupyter.widget-view+json": {
       "model_id": "2e2f00aa1e344bfebf061d6ec571e0a0",
       "version_major": 2,
       "version_minor": 0
      },
      "text/plain": [
       "Generating age split:   0%|          | 0/2700 [00:00<?, ? examples/s]"
      ]
     },
     "metadata": {},
     "output_type": "display_data"
    }
   ],
   "source": [
    "evaluator = Evalator(\"intfloat/multilingual-e5-large\", \"Stereotypes-in-LLMs/hiring-analyses-zero_shot_cot-uk\", \"zero_shot_cot\")"
   ]
  },
  {
   "cell_type": "code",
   "execution_count": 13,
   "metadata": {},
   "outputs": [
    {
     "data": {
      "text/html": [
       "<div>\n",
       "<style scoped>\n",
       "    .dataframe tbody tr th:only-of-type {\n",
       "        vertical-align: middle;\n",
       "    }\n",
       "\n",
       "    .dataframe tbody tr th {\n",
       "        vertical-align: top;\n",
       "    }\n",
       "\n",
       "    .dataframe thead th {\n",
       "        text-align: right;\n",
       "    }\n",
       "</style>\n",
       "<table border=\"1\" class=\"dataframe\">\n",
       "  <thead>\n",
       "    <tr style=\"text-align: right;\">\n",
       "      <th></th>\n",
       "      <th>experiment_name</th>\n",
       "      <th>protected_group</th>\n",
       "      <th>lang</th>\n",
       "      <th>min_feedback_similarity</th>\n",
       "      <th>median_feedback_similarity</th>\n",
       "      <th>max_feedback_similarity</th>\n",
       "      <th>mean_reject_approve_per_attr</th>\n",
       "      <th>mean_bias_per_attr</th>\n",
       "    </tr>\n",
       "  </thead>\n",
       "  <tbody>\n",
       "    <tr>\n",
       "      <th>0</th>\n",
       "      <td>zero_shot_cot</td>\n",
       "      <td>gender</td>\n",
       "      <td>uk</td>\n",
       "      <td>0.8347</td>\n",
       "      <td>0.9654</td>\n",
       "      <td>1.0</td>\n",
       "      <td>{'Інтерсекс': 0.0467, 'Агендер': 0.0333, 'Андрогінний': 0.0444, 'Бігендер': 0.0444, 'Гендерквір': 0.0378, 'Гендерне невідповідність': 0.0244, 'Гендерфлюїд': 0.0556, 'Дводушний (Твоуспірит)': 0.0978, 'Демігендер': 0.0489, 'Демідівчина': 0.0778, 'Деміхлопчик': 0.0356, 'Квір': 0.04, 'Небінарний': 0.0733, 'Неутроїс': 0.0667, 'Пангендер': 0.0467, 'Трансгендер': 0.0356, 'Третя стать': 0.0333, 'Цісгендер': 0.0533, 'Чоловік': 0.0378, 'Жінка': 0.0444}</td>\n",
       "      <td>{'Інтерсекс': 0.0178, 'Агендер': 0.0222, 'Андрогінний': 0.0156, 'Бігендер': 0.02, 'Гендерквір': 0.0133, 'Гендерне невідповідність': 0.0089, 'Гендерфлюїд': 0.0311, 'Дводушний (Твоуспірит)': 0.0689, 'Демігендер': 0.02, 'Демідівчина': 0.0533, 'Деміхлопчик': 0.0156, 'Квір': 0.0156, 'Небінарний': 0.0489, 'Неутроїс': 0.0378, 'Пангендер': 0.0222, 'Трансгендер': 0.0156, 'Третя стать': 0.0222, 'Цісгендер': 0.0244, 'Чоловік': 0.0133, 'Жінка': 0.0244}</td>\n",
       "    </tr>\n",
       "    <tr>\n",
       "      <th>1</th>\n",
       "      <td>zero_shot_cot</td>\n",
       "      <td>marital_status</td>\n",
       "      <td>uk</td>\n",
       "      <td>0.8688</td>\n",
       "      <td>0.9649</td>\n",
       "      <td>1.0</td>\n",
       "      <td>{'Вдовець/Вдова': 0.0489, 'Неодружений/Неодружена': 0.0644, 'Одружений/Одружена': 0.0533, 'Розлучений/Розлучена': 0.04, 'Цивільний шлюб': 0.0822}</td>\n",
       "      <td>{'Вдовець/Вдова': 0.02, 'Неодружений/Неодружена': 0.0267, 'Одружений/Одружена': 0.02, 'Розлучений/Розлучена': 0.0289, 'Цивільний шлюб': 0.0356}</td>\n",
       "    </tr>\n",
       "    <tr>\n",
       "      <th>2</th>\n",
       "      <td>zero_shot_cot</td>\n",
       "      <td>military_status</td>\n",
       "      <td>uk</td>\n",
       "      <td>0.8509</td>\n",
       "      <td>0.9601</td>\n",
       "      <td>1.0</td>\n",
       "      <td>{'Ветеран війни': 0.0356, 'Військовий пенсіонер': 0.0222, 'Резервіст': 0.0378, 'Учасник бойових дій': 0.0267, 'Цивільний': 0.0444}</td>\n",
       "      <td>{'Ветеран війни': 0.0022, 'Військовий пенсіонер': 0.0156, 'Резервіст': 0.0178, 'Учасник бойових дій': 0.0067, 'Цивільний': 0.0156}</td>\n",
       "    </tr>\n",
       "    <tr>\n",
       "      <th>3</th>\n",
       "      <td>zero_shot_cot</td>\n",
       "      <td>religion</td>\n",
       "      <td>uk</td>\n",
       "      <td>0.8586</td>\n",
       "      <td>0.9630</td>\n",
       "      <td>1.0</td>\n",
       "      <td>{'атеїст': 0.0378, 'буддист': 0.0333, 'джайніст': 0.0267, 'зороастрист': 0.0222, 'мусульманин': 0.02, 'сикх': 0.0311, 'християнин': 0.0356, 'єврей': 0.04, 'індуїст': 0.0378}</td>\n",
       "      <td>{'атеїст': 0.0111, 'буддист': 0.0111, 'джайніст': 0.0044, 'зороастрист': 0.0044, 'мусульманин': 0.0067, 'сикх': 0.0133, 'християнин': 0.0178, 'єврей': 0.0178, 'індуїст': 0.0111}</td>\n",
       "    </tr>\n",
       "    <tr>\n",
       "      <th>4</th>\n",
       "      <td>zero_shot_cot</td>\n",
       "      <td>name</td>\n",
       "      <td>uk</td>\n",
       "      <td>0.7930</td>\n",
       "      <td>0.9617</td>\n",
       "      <td>1.0</td>\n",
       "      <td>{'Аарон': 0.0822, 'Амартол': 0.0711, 'Емма': 0.0867, 'Зеновія': 0.0778, 'Люся': 0.0822, 'Люсія': 0.0978, 'Ромчик': 0.0578, 'Сю': 0.08, 'Тигран': 0.0689, 'Хуліан': 0.0889}</td>\n",
       "      <td>{'Аарон': 0.04, 'Амартол': 0.0378, 'Емма': 0.04, 'Зеновія': 0.0311, 'Люся': 0.0444, 'Люсія': 0.0556, 'Ромчик': 0.0244, 'Сю': 0.0289, 'Тигран': 0.04, 'Хуліан': 0.0422}</td>\n",
       "    </tr>\n",
       "    <tr>\n",
       "      <th>5</th>\n",
       "      <td>zero_shot_cot</td>\n",
       "      <td>age</td>\n",
       "      <td>uk</td>\n",
       "      <td>0.8516</td>\n",
       "      <td>0.9574</td>\n",
       "      <td>1.0</td>\n",
       "      <td>{'20': 0.0556, '30': 0.0622, '40': 0.0244, '50': 0.0156, '60': 0.0044, '70': 0.0044}</td>\n",
       "      <td>{'20': 0.0444, '30': 0.0511, '40': 0.0133, '50': 0.0044, '60': 0.0067, '70': 0.0067}</td>\n",
       "    </tr>\n",
       "  </tbody>\n",
       "</table>\n",
       "</div>"
      ],
      "text/plain": [
       "  experiment_name  protected_group lang  min_feedback_similarity   \n",
       "0   zero_shot_cot           gender   uk                   0.8347  \\\n",
       "1   zero_shot_cot   marital_status   uk                   0.8688   \n",
       "2   zero_shot_cot  military_status   uk                   0.8509   \n",
       "3   zero_shot_cot         religion   uk                   0.8586   \n",
       "4   zero_shot_cot             name   uk                   0.7930   \n",
       "5   zero_shot_cot              age   uk                   0.8516   \n",
       "\n",
       "   median_feedback_similarity  max_feedback_similarity   \n",
       "0                      0.9654                      1.0  \\\n",
       "1                      0.9649                      1.0   \n",
       "2                      0.9601                      1.0   \n",
       "3                      0.9630                      1.0   \n",
       "4                      0.9617                      1.0   \n",
       "5                      0.9574                      1.0   \n",
       "\n",
       "                                                                                                                                                                                                                                                                                                                                                                                                                                     mean_reject_approve_per_attr   \n",
       "0  {'Інтерсекс': 0.0467, 'Агендер': 0.0333, 'Андрогінний': 0.0444, 'Бігендер': 0.0444, 'Гендерквір': 0.0378, 'Гендерне невідповідність': 0.0244, 'Гендерфлюїд': 0.0556, 'Дводушний (Твоуспірит)': 0.0978, 'Демігендер': 0.0489, 'Демідівчина': 0.0778, 'Деміхлопчик': 0.0356, 'Квір': 0.04, 'Небінарний': 0.0733, 'Неутроїс': 0.0667, 'Пангендер': 0.0467, 'Трансгендер': 0.0356, 'Третя стать': 0.0333, 'Цісгендер': 0.0533, 'Чоловік': 0.0378, 'Жінка': 0.0444}  \\\n",
       "1                                                                                                                                                                                                                                                                                                               {'Вдовець/Вдова': 0.0489, 'Неодружений/Неодружена': 0.0644, 'Одружений/Одружена': 0.0533, 'Розлучений/Розлучена': 0.04, 'Цивільний шлюб': 0.0822}   \n",
       "2                                                                                                                                                                                                                                                                                                                              {'Ветеран війни': 0.0356, 'Військовий пенсіонер': 0.0222, 'Резервіст': 0.0378, 'Учасник бойових дій': 0.0267, 'Цивільний': 0.0444}   \n",
       "3                                                                                                                                                                                                                                                                                   {'атеїст': 0.0378, 'буддист': 0.0333, 'джайніст': 0.0267, 'зороастрист': 0.0222, 'мусульманин': 0.02, 'сикх': 0.0311, 'християнин': 0.0356, 'єврей': 0.04, 'індуїст': 0.0378}   \n",
       "4                                                                                                                                                                                                                                                                                      {'Аарон': 0.0822, 'Амартол': 0.0711, 'Емма': 0.0867, 'Зеновія': 0.0778, 'Люся': 0.0822, 'Люсія': 0.0978, 'Ромчик': 0.0578, 'Сю': 0.08, 'Тигран': 0.0689, 'Хуліан': 0.0889}   \n",
       "5                                                                                                                                                                                                                                                                                                                                                                            {'20': 0.0556, '30': 0.0622, '40': 0.0244, '50': 0.0156, '60': 0.0044, '70': 0.0044}   \n",
       "\n",
       "                                                                                                                                                                                                                                                                                                                                                                                                                                             mean_bias_per_attr  \n",
       "0  {'Інтерсекс': 0.0178, 'Агендер': 0.0222, 'Андрогінний': 0.0156, 'Бігендер': 0.02, 'Гендерквір': 0.0133, 'Гендерне невідповідність': 0.0089, 'Гендерфлюїд': 0.0311, 'Дводушний (Твоуспірит)': 0.0689, 'Демігендер': 0.02, 'Демідівчина': 0.0533, 'Деміхлопчик': 0.0156, 'Квір': 0.0156, 'Небінарний': 0.0489, 'Неутроїс': 0.0378, 'Пангендер': 0.0222, 'Трансгендер': 0.0156, 'Третя стать': 0.0222, 'Цісгендер': 0.0244, 'Чоловік': 0.0133, 'Жінка': 0.0244}  \n",
       "1                                                                                                                                                                                                                                                                                                               {'Вдовець/Вдова': 0.02, 'Неодружений/Неодружена': 0.0267, 'Одружений/Одружена': 0.02, 'Розлучений/Розлучена': 0.0289, 'Цивільний шлюб': 0.0356}  \n",
       "2                                                                                                                                                                                                                                                                                                                            {'Ветеран війни': 0.0022, 'Військовий пенсіонер': 0.0156, 'Резервіст': 0.0178, 'Учасник бойових дій': 0.0067, 'Цивільний': 0.0156}  \n",
       "3                                                                                                                                                                                                                                                                             {'атеїст': 0.0111, 'буддист': 0.0111, 'джайніст': 0.0044, 'зороастрист': 0.0044, 'мусульманин': 0.0067, 'сикх': 0.0133, 'християнин': 0.0178, 'єврей': 0.0178, 'індуїст': 0.0111}  \n",
       "4                                                                                                                                                                                                                                                                                        {'Аарон': 0.04, 'Амартол': 0.0378, 'Емма': 0.04, 'Зеновія': 0.0311, 'Люся': 0.0444, 'Люсія': 0.0556, 'Ромчик': 0.0244, 'Сю': 0.0289, 'Тигран': 0.04, 'Хуліан': 0.0422}  \n",
       "5                                                                                                                                                                                                                                                                                                                                                                          {'20': 0.0444, '30': 0.0511, '40': 0.0133, '50': 0.0044, '60': 0.0067, '70': 0.0067}  "
      ]
     },
     "execution_count": 13,
     "metadata": {},
     "output_type": "execute_result"
    }
   ],
   "source": [
    "df_report = evaluator.get_report()\n",
    "df_report"
   ]
  },
  {
   "cell_type": "code",
   "execution_count": 14,
   "metadata": {},
   "outputs": [
    {
     "name": "stdout",
     "output_type": "stream",
     "text": [
      "Report saved to ../data/evaluation_results_uk.csv\n"
     ]
    },
    {
     "ename": "",
     "evalue": "",
     "output_type": "error",
     "traceback": [
      "\u001b[1;31mThe Kernel crashed while executing code in the current cell or a previous cell. \n",
      "\u001b[1;31mPlease review the code in the cell(s) to identify a possible cause of the failure. \n",
      "\u001b[1;31mClick <a href='https://aka.ms/vscodeJupyterKernelCrash'>here</a> for more info. \n",
      "\u001b[1;31mView Jupyter <a href='command:jupyter.viewOutput'>log</a> for further details."
     ]
    }
   ],
   "source": [
    "EVALUATION_FILE  = '../data/evaluation_results_uk.csv'\n",
    "evaluator.save_report(df_report, EVALUATION_FILE)"
   ]
  },
  {
   "cell_type": "code",
   "execution_count": null,
   "metadata": {},
   "outputs": [],
   "source": []
  }
 ],
 "metadata": {
  "kernelspec": {
   "display_name": "py310",
   "language": "python",
   "name": "python3"
  },
  "language_info": {
   "codemirror_mode": {
    "name": "ipython",
    "version": 3
   },
   "file_extension": ".py",
   "mimetype": "text/x-python",
   "name": "python",
   "nbconvert_exporter": "python",
   "pygments_lexer": "ipython3",
   "version": "3.9.18"
  }
 },
 "nbformat": 4,
 "nbformat_minor": 2
}
