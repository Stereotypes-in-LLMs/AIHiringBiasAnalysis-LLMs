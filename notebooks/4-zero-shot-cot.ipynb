{
 "cells": [
  {
   "cell_type": "markdown",
   "metadata": {},
   "source": [
    "# Zero Shot COT Experiments"
   ]
  },
  {
   "cell_type": "code",
   "execution_count": null,
   "metadata": {},
   "outputs": [],
   "source": [
    "# %pip install langchain langchain-core langchain-community langchain-openai\n",
    "# %pip install --force-reinstall typing-extensions==4.5\n",
    "# %pip install --force-reinstall openai==1.8"
   ]
  },
  {
   "cell_type": "markdown",
   "metadata": {},
   "source": [
    "## Load Libraries"
   ]
  },
  {
   "cell_type": "code",
   "execution_count": 1,
   "metadata": {},
   "outputs": [
    {
     "name": "stderr",
     "output_type": "stream",
     "text": [
      "/opt/homebrew/lib/python3.9/site-packages/transformers/utils/generic.py:441: UserWarning: torch.utils._pytree._register_pytree_node is deprecated. Please use torch.utils._pytree.register_pytree_node instead.\n",
      "  _torch_pytree._register_pytree_node(\n"
     ]
    },
    {
     "name": "stdout",
     "output_type": "stream",
     "text": [
      "Token is valid (permission: write).\n",
      "Your token has been saved in your configured git credential helpers (osxkeychain).\n",
      "Your token has been saved to /Users/nazardrushchak/.cache/huggingface/token\n",
      "Login successful\n"
     ]
    }
   ],
   "source": [
    "import os\n",
    "import sys\n",
    "import pandas as pd\n",
    "sys.path.append('..')\n",
    "from src.prompt import PROMPTS\n",
    "from src.evaluation import Evalator\n",
    "from src.helpers import fix_decision_parser\n",
    "from src.experiment_runner import run_experiment\n",
    "\n",
    "from huggingface_hub import login\n",
    "from datasets import Dataset, DatasetDict\n",
    "\n",
    "pd.set_option('display.max_colwidth', None)\n",
    "\n",
    "login(token=os.environ.get(\"HF_TOKEN\"), add_to_git_credential=True)"
   ]
  },
  {
   "cell_type": "markdown",
   "metadata": {},
   "source": [
    "## Load Data"
   ]
  },
  {
   "cell_type": "code",
   "execution_count": 2,
   "metadata": {},
   "outputs": [],
   "source": [
    "df_uk = pd.read_csv('../data/uk_data_samples.csv')\n",
    "df_en = pd.read_csv('../data/en_data_samples.csv')"
   ]
  },
  {
   "cell_type": "markdown",
   "metadata": {},
   "source": [
    "## `gpt-3.5-turbo-0125`: English Language experiment"
   ]
  },
  {
   "cell_type": "code",
   "execution_count": 3,
   "metadata": {},
   "outputs": [],
   "source": [
    "from langchain_openai import ChatOpenAI\n",
    "llm = ChatOpenAI(model_name=\"gpt-3.5-turbo-0125\", model_kwargs={\"seed\": 42, \"top_p\": 0.0}, temperature=0.0)"
   ]
  },
  {
   "cell_type": "code",
   "execution_count": 4,
   "metadata": {},
   "outputs": [],
   "source": [
    "chain = PROMPTS['zero-shot-cot_en'] | llm"
   ]
  },
  {
   "cell_type": "code",
   "execution_count": 5,
   "metadata": {},
   "outputs": [],
   "source": [
    "file_paths = run_experiment(\n",
    "    folder_path='../data/zero_shot_cot',\n",
    "    chain=chain,\n",
    "    data=df_en,\n",
    "    lang='en',\n",
    "    batch_size=5,\n",
    ")"
   ]
  },
  {
   "cell_type": "code",
   "execution_count": 6,
   "metadata": {},
   "outputs": [
    {
     "data": {
      "text/plain": [
       "{'gender': '../data/zero_shot_cot/en/gender.csv',\n",
       " 'marital_status': '../data/zero_shot_cot/en/marital_status.csv',\n",
       " 'military_status': '../data/zero_shot_cot/en/military_status.csv',\n",
       " 'religion': '../data/zero_shot_cot/en/religion.csv',\n",
       " 'name': '../data/zero_shot_cot/en/name.csv',\n",
       " 'age': '../data/zero_shot_cot/en/age.csv'}"
      ]
     },
     "execution_count": 6,
     "metadata": {},
     "output_type": "execute_result"
    }
   ],
   "source": [
    "file_paths"
   ]
  },
  {
   "cell_type": "markdown",
   "metadata": {},
   "source": [
    "## Load English Results to HF Datasets"
   ]
  },
  {
   "cell_type": "code",
   "execution_count": 17,
   "metadata": {},
   "outputs": [
    {
     "data": {
      "application/vnd.jupyter.widget-view+json": {
       "model_id": "2938ffd19de147c48b21a67bd75b7fff",
       "version_major": 2,
       "version_minor": 0
      },
      "text/plain": [
       "Uploading the dataset shards:   0%|          | 0/1 [00:00<?, ?it/s]"
      ]
     },
     "metadata": {},
     "output_type": "display_data"
    },
    {
     "data": {
      "application/vnd.jupyter.widget-view+json": {
       "model_id": "5c0224e6371645ba87e71a0b08910f5f",
       "version_major": 2,
       "version_minor": 0
      },
      "text/plain": [
       "Creating parquet from Arrow format:   0%|          | 0/10 [00:00<?, ?ba/s]"
      ]
     },
     "metadata": {},
     "output_type": "display_data"
    },
    {
     "data": {
      "application/vnd.jupyter.widget-view+json": {
       "model_id": "6118b54a402b4ec7830c1fbda10a9565",
       "version_major": 2,
       "version_minor": 0
      },
      "text/plain": [
       "Uploading the dataset shards:   0%|          | 0/1 [00:00<?, ?it/s]"
      ]
     },
     "metadata": {},
     "output_type": "display_data"
    },
    {
     "data": {
      "application/vnd.jupyter.widget-view+json": {
       "model_id": "c212bf590ff94d998bbc17b53575e40b",
       "version_major": 2,
       "version_minor": 0
      },
      "text/plain": [
       "Creating parquet from Arrow format:   0%|          | 0/3 [00:00<?, ?ba/s]"
      ]
     },
     "metadata": {},
     "output_type": "display_data"
    },
    {
     "data": {
      "application/vnd.jupyter.widget-view+json": {
       "model_id": "496110bbd01248a79d1c6f6fdec463c5",
       "version_major": 2,
       "version_minor": 0
      },
      "text/plain": [
       "Uploading the dataset shards:   0%|          | 0/1 [00:00<?, ?it/s]"
      ]
     },
     "metadata": {},
     "output_type": "display_data"
    },
    {
     "data": {
      "application/vnd.jupyter.widget-view+json": {
       "model_id": "9409e69ac1ee47cd9aa629127195694f",
       "version_major": 2,
       "version_minor": 0
      },
      "text/plain": [
       "Creating parquet from Arrow format:   0%|          | 0/3 [00:00<?, ?ba/s]"
      ]
     },
     "metadata": {},
     "output_type": "display_data"
    },
    {
     "data": {
      "application/vnd.jupyter.widget-view+json": {
       "model_id": "d887b5506f53461ea3370cc73f9f0ef4",
       "version_major": 2,
       "version_minor": 0
      },
      "text/plain": [
       "Uploading the dataset shards:   0%|          | 0/1 [00:00<?, ?it/s]"
      ]
     },
     "metadata": {},
     "output_type": "display_data"
    },
    {
     "data": {
      "application/vnd.jupyter.widget-view+json": {
       "model_id": "77bcba6b10da4d17a801063844314369",
       "version_major": 2,
       "version_minor": 0
      },
      "text/plain": [
       "Creating parquet from Arrow format:   0%|          | 0/5 [00:00<?, ?ba/s]"
      ]
     },
     "metadata": {},
     "output_type": "display_data"
    },
    {
     "data": {
      "application/vnd.jupyter.widget-view+json": {
       "model_id": "41d1a4d989154728a9f071abd22393a3",
       "version_major": 2,
       "version_minor": 0
      },
      "text/plain": [
       "Uploading the dataset shards:   0%|          | 0/1 [00:00<?, ?it/s]"
      ]
     },
     "metadata": {},
     "output_type": "display_data"
    },
    {
     "data": {
      "application/vnd.jupyter.widget-view+json": {
       "model_id": "c70461a20593424688abbfd876c40341",
       "version_major": 2,
       "version_minor": 0
      },
      "text/plain": [
       "Creating parquet from Arrow format:   0%|          | 0/5 [00:00<?, ?ba/s]"
      ]
     },
     "metadata": {},
     "output_type": "display_data"
    },
    {
     "data": {
      "application/vnd.jupyter.widget-view+json": {
       "model_id": "86c28b18310e4e63922d4fe4d3f6082b",
       "version_major": 2,
       "version_minor": 0
      },
      "text/plain": [
       "Uploading the dataset shards:   0%|          | 0/1 [00:00<?, ?it/s]"
      ]
     },
     "metadata": {},
     "output_type": "display_data"
    },
    {
     "data": {
      "application/vnd.jupyter.widget-view+json": {
       "model_id": "36ad0c6563014c80b0147f0f896122bc",
       "version_major": 2,
       "version_minor": 0
      },
      "text/plain": [
       "Creating parquet from Arrow format:   0%|          | 0/3 [00:00<?, ?ba/s]"
      ]
     },
     "metadata": {},
     "output_type": "display_data"
    },
    {
     "data": {
      "text/plain": [
       "CommitInfo(commit_url='https://huggingface.co/datasets/Stereotypes-in-LLMs/hiring-analyses-zero_shot_cot-en/commit/da5ca0cf573f1dfb04cbf97ccb35a39ef3355dd1', commit_message='Upload dataset', commit_description='', oid='da5ca0cf573f1dfb04cbf97ccb35a39ef3355dd1', pr_url=None, pr_revision=None, pr_num=None)"
      ]
     },
     "execution_count": 17,
     "metadata": {},
     "output_type": "execute_result"
    }
   ],
   "source": [
    "FILES_PATHS = {\n",
    "    'gender': '../data/zero_shot_cot/en/gender.csv',\n",
    "    'marital_status': '../data/zero_shot_cot/en/marital_status.csv',\n",
    "    'military_status': '../data/zero_shot_cot/en/military_status.csv',\n",
    "    'religion': '../data/zero_shot_cot/en/religion.csv',\n",
    "    'name': '../data/zero_shot_cot/en/name.csv',\n",
    "    'age': '../data/zero_shot_cot/en/age.csv'\n",
    "    }\n",
    "\n",
    "# load data and push to huggingface\n",
    "dataset_dict = {}\n",
    "for key_name, file_path in FILES_PATHS.items():\n",
    "    df_part = pd.read_csv(file_path, dtype={'protected_attr': str})\n",
    "\n",
    "    # FIX ONE ERROR IN THE DATA. Better to rerun and fix in dataset generation\n",
    "    if key_name == 'military_status':\n",
    "        import json\n",
    "        for ind in df_part[df_part.decision.isna()].index:\n",
    "            val = df_part.loc[ind].to_dict()\n",
    "            result = chain.batch([{\"job_desc\": val[\"Job Description\"], \"candidate_cv\": val[\"CV\"], \"protected_group\": \"military_status\", \"protected_attr\": val[\"protected_attr\"]}])[0]\n",
    "            result = json.loads(\"{\"+ result.content.split(\"{\")[-1].split(\"}\")[0] + \"}\")\n",
    "            df_part.loc[ind, 'decision'] = result['decision']\n",
    "            df_part.loc[ind, 'feedback'] = result['feedback']\n",
    "            df_part.loc[ind, 'raw_ai_decision'] = json.dumps(result)\n",
    "\n",
    "    df_part['decision'] = df_part['decision'].map(lambda x: x.lower())\n",
    "    dataset_dict[key_name] = Dataset.from_pandas(df_part)\n",
    "\n",
    "DatasetDict(dataset_dict).push_to_hub('Stereotypes-in-LLMs/hiring-analyses-zero_shot_cot-en', private=True)"
   ]
  },
  {
   "cell_type": "code",
   "execution_count": 18,
   "metadata": {},
   "outputs": [],
   "source": [
    "# # load data from huggingface\n",
    "# from datasets import load_dataset\n",
    "# dataset = load_dataset(\"Stereotypes-in-LLMs/hiring-analyses-zero_shot_cot-en\", split=\"gender\")\n",
    "# dataset.to_pandas().head()"
   ]
  },
  {
   "cell_type": "markdown",
   "metadata": {},
   "source": [
    "## Evaluation Scores"
   ]
  },
  {
   "cell_type": "code",
   "execution_count": 19,
   "metadata": {},
   "outputs": [
    {
     "name": "stderr",
     "output_type": "stream",
     "text": [
      "/opt/homebrew/lib/python3.9/site-packages/transformers/utils/generic.py:309: UserWarning: torch.utils._pytree._register_pytree_node is deprecated. Please use torch.utils._pytree.register_pytree_node instead.\n",
      "  _torch_pytree._register_pytree_node(\n"
     ]
    },
    {
     "data": {
      "application/vnd.jupyter.widget-view+json": {
       "model_id": "f9c99d2753a44b9886b37ef72dcb075a",
       "version_major": 2,
       "version_minor": 0
      },
      "text/plain": [
       "Downloading readme:   0%|          | 0.00/1.28k [00:00<?, ?B/s]"
      ]
     },
     "metadata": {},
     "output_type": "display_data"
    },
    {
     "data": {
      "application/vnd.jupyter.widget-view+json": {
       "model_id": "738d959750b2475393094f2e822a092e",
       "version_major": 2,
       "version_minor": 0
      },
      "text/plain": [
       "Downloading data:   0%|          | 0.00/964k [00:00<?, ?B/s]"
      ]
     },
     "metadata": {},
     "output_type": "display_data"
    },
    {
     "data": {
      "application/vnd.jupyter.widget-view+json": {
       "model_id": "1b18ad32e4f94742a9d90bb00509475b",
       "version_major": 2,
       "version_minor": 0
      },
      "text/plain": [
       "Downloading data:   0%|          | 0.00/543k [00:00<?, ?B/s]"
      ]
     },
     "metadata": {},
     "output_type": "display_data"
    },
    {
     "data": {
      "application/vnd.jupyter.widget-view+json": {
       "model_id": "d1740bd31d2b4558bc3c3f5383d07749",
       "version_major": 2,
       "version_minor": 0
      },
      "text/plain": [
       "Downloading data:   0%|          | 0.00/556k [00:00<?, ?B/s]"
      ]
     },
     "metadata": {},
     "output_type": "display_data"
    },
    {
     "data": {
      "application/vnd.jupyter.widget-view+json": {
       "model_id": "25284030c95b4131be3ec09150b5650e",
       "version_major": 2,
       "version_minor": 0
      },
      "text/plain": [
       "Downloading data:   0%|          | 0.00/648k [00:00<?, ?B/s]"
      ]
     },
     "metadata": {},
     "output_type": "display_data"
    },
    {
     "data": {
      "application/vnd.jupyter.widget-view+json": {
       "model_id": "d115d8b8671a4050beb43c4097caf4ce",
       "version_major": 2,
       "version_minor": 0
      },
      "text/plain": [
       "Downloading data:   0%|          | 0.00/736k [00:00<?, ?B/s]"
      ]
     },
     "metadata": {},
     "output_type": "display_data"
    },
    {
     "data": {
      "application/vnd.jupyter.widget-view+json": {
       "model_id": "83dcb9e20bac423a9ffb9421fd57359c",
       "version_major": 2,
       "version_minor": 0
      },
      "text/plain": [
       "Downloading data:   0%|          | 0.00/582k [00:00<?, ?B/s]"
      ]
     },
     "metadata": {},
     "output_type": "display_data"
    },
    {
     "data": {
      "application/vnd.jupyter.widget-view+json": {
       "model_id": "f94ad9010fd04baf9cfbd06813c68818",
       "version_major": 2,
       "version_minor": 0
      },
      "text/plain": [
       "Generating gender split:   0%|          | 0/9900 [00:00<?, ? examples/s]"
      ]
     },
     "metadata": {},
     "output_type": "display_data"
    },
    {
     "data": {
      "application/vnd.jupyter.widget-view+json": {
       "model_id": "dbef553493034887bd56c96ffe075bb6",
       "version_major": 2,
       "version_minor": 0
      },
      "text/plain": [
       "Generating marital_status split:   0%|          | 0/2250 [00:00<?, ? examples/s]"
      ]
     },
     "metadata": {},
     "output_type": "display_data"
    },
    {
     "data": {
      "application/vnd.jupyter.widget-view+json": {
       "model_id": "9fbcce9523754747b92dadb94df18cf2",
       "version_major": 2,
       "version_minor": 0
      },
      "text/plain": [
       "Generating military_status split:   0%|          | 0/2250 [00:00<?, ? examples/s]"
      ]
     },
     "metadata": {},
     "output_type": "display_data"
    },
    {
     "data": {
      "application/vnd.jupyter.widget-view+json": {
       "model_id": "b91a0eaa0b8e4ce3bec7ef1d67564d67",
       "version_major": 2,
       "version_minor": 0
      },
      "text/plain": [
       "Generating religion split:   0%|          | 0/4050 [00:00<?, ? examples/s]"
      ]
     },
     "metadata": {},
     "output_type": "display_data"
    },
    {
     "data": {
      "application/vnd.jupyter.widget-view+json": {
       "model_id": "0787c06d4c1d4c148eeaefd58b30b5bf",
       "version_major": 2,
       "version_minor": 0
      },
      "text/plain": [
       "Generating name split:   0%|          | 0/4500 [00:00<?, ? examples/s]"
      ]
     },
     "metadata": {},
     "output_type": "display_data"
    },
    {
     "data": {
      "application/vnd.jupyter.widget-view+json": {
       "model_id": "2cdd1e5ea1c64c42937c773a3e981bb7",
       "version_major": 2,
       "version_minor": 0
      },
      "text/plain": [
       "Generating age split:   0%|          | 0/2700 [00:00<?, ? examples/s]"
      ]
     },
     "metadata": {},
     "output_type": "display_data"
    }
   ],
   "source": [
    "evaluator = Evalator(\"intfloat/multilingual-e5-large\", \"Stereotypes-in-LLMs/hiring-analyses-zero_shot_cot-en\", \"zero_shot_cot\")"
   ]
  },
  {
   "cell_type": "code",
   "execution_count": 20,
   "metadata": {},
   "outputs": [
    {
     "data": {
      "text/html": [
       "<div>\n",
       "<style scoped>\n",
       "    .dataframe tbody tr th:only-of-type {\n",
       "        vertical-align: middle;\n",
       "    }\n",
       "\n",
       "    .dataframe tbody tr th {\n",
       "        vertical-align: top;\n",
       "    }\n",
       "\n",
       "    .dataframe thead th {\n",
       "        text-align: right;\n",
       "    }\n",
       "</style>\n",
       "<table border=\"1\" class=\"dataframe\">\n",
       "  <thead>\n",
       "    <tr style=\"text-align: right;\">\n",
       "      <th></th>\n",
       "      <th>experiment_name</th>\n",
       "      <th>protected_group</th>\n",
       "      <th>lang</th>\n",
       "      <th>min_feedback_similarity</th>\n",
       "      <th>median_feedback_similarity</th>\n",
       "      <th>max_feedback_similarity</th>\n",
       "      <th>mean_reject_approve_per_attr</th>\n",
       "      <th>mean_bias_per_attr</th>\n",
       "    </tr>\n",
       "  </thead>\n",
       "  <tbody>\n",
       "    <tr>\n",
       "      <th>0</th>\n",
       "      <td>zero_shot_cot</td>\n",
       "      <td>gender</td>\n",
       "      <td>en</td>\n",
       "      <td>0.7901</td>\n",
       "      <td>0.9673</td>\n",
       "      <td>1.0</td>\n",
       "      <td>{'Male': 0.4867, 'Female': 0.56, 'Non-Binary': 0.5822, 'Genderqueer': 0.56, 'Genderfluid': 0.5467, 'Agender': 0.57, 'Bigender': 0.5222, 'Two-Spirit': 0.4978, 'Androgynous': 0.5778, 'Transgender': 0.5467, 'Cisgender': 0.5556, 'Demigender': 0.48, 'Neutrois': 0.5556, 'Pangender': 0.4867, 'Queer': 0.5333, 'Gender Nonconforming': 0.5378, 'Intersex': 0.5178, 'Third Gender': 0.48, 'Demiboy': 0.54, 'Demigirl': 0.5578}</td>\n",
       "      <td>{'Male': 0.08, 'Female': 0.0556, 'Non-Binary': 0.06, 'Genderqueer': 0.0378, 'Genderfluid': 0.0467, 'Agender': 0.0544, 'Bigender': 0.0444, 'Two-Spirit': 0.0578, 'Androgynous': 0.0644, 'Transgender': 0.0511, 'Cisgender': 0.0556, 'Demigender': 0.0911, 'Neutrois': 0.0467, 'Pangender': 0.0711, 'Queer': 0.0556, 'Gender Nonconforming': 0.0467, 'Intersex': 0.0489, 'Third Gender': 0.0778, 'Demiboy': 0.0356, 'Demigirl': 0.0533}</td>\n",
       "    </tr>\n",
       "    <tr>\n",
       "      <th>1</th>\n",
       "      <td>zero_shot_cot</td>\n",
       "      <td>marital_status</td>\n",
       "      <td>en</td>\n",
       "      <td>0.8057</td>\n",
       "      <td>0.9670</td>\n",
       "      <td>1.0</td>\n",
       "      <td>{'Married (Husband/Wife)': 0.5244, 'Unmarried (Single)': 0.5267, 'Divorced (Divorced)': 0.5111, 'Widower (Widow)': 0.5067, 'Civil union': 0.4667}</td>\n",
       "      <td>{'Married (Husband/Wife)': 0.0467, 'Unmarried (Single)': 0.0444, 'Divorced (Divorced)': 0.0378, 'Widower (Widow)': 0.0511, 'Civil union': 0.06}</td>\n",
       "    </tr>\n",
       "    <tr>\n",
       "      <th>2</th>\n",
       "      <td>zero_shot_cot</td>\n",
       "      <td>military_status</td>\n",
       "      <td>en</td>\n",
       "      <td>0.7830</td>\n",
       "      <td>0.9550</td>\n",
       "      <td>1.0</td>\n",
       "      <td>{'Participant in combat actions': 0.2711, 'War veteran': 0.48, 'Reservist': 0.5289, 'Military retiree': 0.4689, 'Civilian': 0.5533}</td>\n",
       "      <td>{'Participant in combat actions': 0.2022, 'War veteran': 0.0378, 'Reservist': 0.0689, 'Military retiree': 0.04, 'Civilian': 0.0889}</td>\n",
       "    </tr>\n",
       "    <tr>\n",
       "      <th>3</th>\n",
       "      <td>zero_shot_cot</td>\n",
       "      <td>religion</td>\n",
       "      <td>en</td>\n",
       "      <td>0.7901</td>\n",
       "      <td>0.9679</td>\n",
       "      <td>1.0</td>\n",
       "      <td>{'christian': 0.5111, 'muslim': 0.4156, 'atheist': 0.5489, 'hindu': 0.44, 'jew': 0.44, 'sikh': 0.4556, 'jain': 0.44, 'buddhist': 0.4111, 'zoroastrian': 0.4178}</td>\n",
       "      <td>{'christian': 0.0689, 'muslim': 0.0667, 'atheist': 0.1022, 'hindu': 0.0467, 'jew': 0.0556, 'sikh': 0.0311, 'jain': 0.0733, 'buddhist': 0.0533, 'zoroastrian': 0.0644}</td>\n",
       "    </tr>\n",
       "    <tr>\n",
       "      <th>4</th>\n",
       "      <td>zero_shot_cot</td>\n",
       "      <td>name</td>\n",
       "      <td>en</td>\n",
       "      <td>0.7710</td>\n",
       "      <td>0.9147</td>\n",
       "      <td>1.0</td>\n",
       "      <td>{'Zenoviia': 0.5289, 'Liusia': 0.54, 'Emma': 0.5667, 'Liusiia': 0.5489, 'Siu': 0.5133, 'Amartol': 0.5244, 'Romchyk': 0.5156, 'Aaron': 0.5289, 'Khulian': 0.5289, 'Tyhran': 0.5422}</td>\n",
       "      <td>{'Zenoviia': 0.0333, 'Liusia': 0.0444, 'Emma': 0.0533, 'Liusiia': 0.0444, 'Siu': 0.0533, 'Amartol': 0.0333, 'Romchyk': 0.0556, 'Aaron': 0.0511, 'Khulian': 0.0289, 'Tyhran': 0.0378}</td>\n",
       "    </tr>\n",
       "    <tr>\n",
       "      <th>5</th>\n",
       "      <td>zero_shot_cot</td>\n",
       "      <td>age</td>\n",
       "      <td>en</td>\n",
       "      <td>0.7798</td>\n",
       "      <td>0.9433</td>\n",
       "      <td>1.0</td>\n",
       "      <td>{'20': 0.4356, '30': 0.5489, '40': 0.4244, '50': 0.2911, '60': 0.16, '70': 0.0533}</td>\n",
       "      <td>{'20': 0.16, '30': 0.2733, '40': 0.1489, '50': 0.0156, '60': 0.1156, '70': 0.2222}</td>\n",
       "    </tr>\n",
       "  </tbody>\n",
       "</table>\n",
       "</div>"
      ],
      "text/plain": [
       "  experiment_name  protected_group lang  min_feedback_similarity   \n",
       "0   zero_shot_cot           gender   en                   0.7901  \\\n",
       "1   zero_shot_cot   marital_status   en                   0.8057   \n",
       "2   zero_shot_cot  military_status   en                   0.7830   \n",
       "3   zero_shot_cot         religion   en                   0.7901   \n",
       "4   zero_shot_cot             name   en                   0.7710   \n",
       "5   zero_shot_cot              age   en                   0.7798   \n",
       "\n",
       "   median_feedback_similarity  max_feedback_similarity   \n",
       "0                      0.9673                      1.0  \\\n",
       "1                      0.9670                      1.0   \n",
       "2                      0.9550                      1.0   \n",
       "3                      0.9679                      1.0   \n",
       "4                      0.9147                      1.0   \n",
       "5                      0.9433                      1.0   \n",
       "\n",
       "                                                                                                                                                                                                                                                                                                                                                                                                    mean_reject_approve_per_attr   \n",
       "0  {'Male': 0.4867, 'Female': 0.56, 'Non-Binary': 0.5822, 'Genderqueer': 0.56, 'Genderfluid': 0.5467, 'Agender': 0.57, 'Bigender': 0.5222, 'Two-Spirit': 0.4978, 'Androgynous': 0.5778, 'Transgender': 0.5467, 'Cisgender': 0.5556, 'Demigender': 0.48, 'Neutrois': 0.5556, 'Pangender': 0.4867, 'Queer': 0.5333, 'Gender Nonconforming': 0.5378, 'Intersex': 0.5178, 'Third Gender': 0.48, 'Demiboy': 0.54, 'Demigirl': 0.5578}  \\\n",
       "1                                                                                                                                                                                                                                                                              {'Married (Husband/Wife)': 0.5244, 'Unmarried (Single)': 0.5267, 'Divorced (Divorced)': 0.5111, 'Widower (Widow)': 0.5067, 'Civil union': 0.4667}   \n",
       "2                                                                                                                                                                                                                                                                                            {'Participant in combat actions': 0.2711, 'War veteran': 0.48, 'Reservist': 0.5289, 'Military retiree': 0.4689, 'Civilian': 0.5533}   \n",
       "3                                                                                                                                                                                                                                                                {'christian': 0.5111, 'muslim': 0.4156, 'atheist': 0.5489, 'hindu': 0.44, 'jew': 0.44, 'sikh': 0.4556, 'jain': 0.44, 'buddhist': 0.4111, 'zoroastrian': 0.4178}   \n",
       "4                                                                                                                                                                                                                                             {'Zenoviia': 0.5289, 'Liusia': 0.54, 'Emma': 0.5667, 'Liusiia': 0.5489, 'Siu': 0.5133, 'Amartol': 0.5244, 'Romchyk': 0.5156, 'Aaron': 0.5289, 'Khulian': 0.5289, 'Tyhran': 0.5422}   \n",
       "5                                                                                                                                                                                                                                                                                                                                             {'20': 0.4356, '30': 0.5489, '40': 0.4244, '50': 0.2911, '60': 0.16, '70': 0.0533}   \n",
       "\n",
       "                                                                                                                                                                                                                                                                                                                                                                                                                      mean_bias_per_attr  \n",
       "0  {'Male': 0.08, 'Female': 0.0556, 'Non-Binary': 0.06, 'Genderqueer': 0.0378, 'Genderfluid': 0.0467, 'Agender': 0.0544, 'Bigender': 0.0444, 'Two-Spirit': 0.0578, 'Androgynous': 0.0644, 'Transgender': 0.0511, 'Cisgender': 0.0556, 'Demigender': 0.0911, 'Neutrois': 0.0467, 'Pangender': 0.0711, 'Queer': 0.0556, 'Gender Nonconforming': 0.0467, 'Intersex': 0.0489, 'Third Gender': 0.0778, 'Demiboy': 0.0356, 'Demigirl': 0.0533}  \n",
       "1                                                                                                                                                                                                                                                                                        {'Married (Husband/Wife)': 0.0467, 'Unmarried (Single)': 0.0444, 'Divorced (Divorced)': 0.0378, 'Widower (Widow)': 0.0511, 'Civil union': 0.06}  \n",
       "2                                                                                                                                                                                                                                                                                                    {'Participant in combat actions': 0.2022, 'War veteran': 0.0378, 'Reservist': 0.0689, 'Military retiree': 0.04, 'Civilian': 0.0889}  \n",
       "3                                                                                                                                                                                                                                                                  {'christian': 0.0689, 'muslim': 0.0667, 'atheist': 0.1022, 'hindu': 0.0467, 'jew': 0.0556, 'sikh': 0.0311, 'jain': 0.0733, 'buddhist': 0.0533, 'zoroastrian': 0.0644}  \n",
       "4                                                                                                                                                                                                                                                   {'Zenoviia': 0.0333, 'Liusia': 0.0444, 'Emma': 0.0533, 'Liusiia': 0.0444, 'Siu': 0.0533, 'Amartol': 0.0333, 'Romchyk': 0.0556, 'Aaron': 0.0511, 'Khulian': 0.0289, 'Tyhran': 0.0378}  \n",
       "5                                                                                                                                                                                                                                                                                                                                                     {'20': 0.16, '30': 0.2733, '40': 0.1489, '50': 0.0156, '60': 0.1156, '70': 0.2222}  "
      ]
     },
     "execution_count": 20,
     "metadata": {},
     "output_type": "execute_result"
    }
   ],
   "source": [
    "df_report = evaluator.get_report()\n",
    "df_report"
   ]
  },
  {
   "cell_type": "code",
   "execution_count": 21,
   "metadata": {},
   "outputs": [
    {
     "name": "stdout",
     "output_type": "stream",
     "text": [
      "Report saved to ../data/evaluation_results_en.csv\n"
     ]
    }
   ],
   "source": [
    "EVALUATION_FILE  = '../data/evaluation_results_en.csv'\n",
    "evaluator.save_report(df_report, EVALUATION_FILE)"
   ]
  },
  {
   "cell_type": "markdown",
   "metadata": {},
   "source": [
    "## `gpt-3.5-turbo-0125`: Ukrainian Language experiment"
   ]
  },
  {
   "cell_type": "code",
   "execution_count": 22,
   "metadata": {},
   "outputs": [],
   "source": [
    "from langchain_openai import ChatOpenAI\n",
    "llm = ChatOpenAI(model_name=\"gpt-3.5-turbo-0125\", model_kwargs={\"seed\": 42, \"top_p\": 0.0}, temperature=0.0)"
   ]
  },
  {
   "cell_type": "code",
   "execution_count": 23,
   "metadata": {},
   "outputs": [],
   "source": [
    "chain = PROMPTS['zero-shot-cot_uk'] | llm"
   ]
  },
  {
   "cell_type": "code",
   "execution_count": 24,
   "metadata": {},
   "outputs": [],
   "source": [
    "file_paths = run_experiment(\n",
    "    folder_path='../data/zero_shot_cot',\n",
    "    chain=chain,\n",
    "    data=df_uk,\n",
    "    lang='uk',\n",
    "    batch_size=2,\n",
    ")"
   ]
  },
  {
   "cell_type": "code",
   "execution_count": 25,
   "metadata": {},
   "outputs": [
    {
     "data": {
      "text/plain": [
       "{'gender': '../data/zero_shot_cot/uk/gender.csv',\n",
       " 'marital_status': '../data/zero_shot_cot/uk/marital_status.csv',\n",
       " 'military_status': '../data/zero_shot_cot/uk/military_status.csv',\n",
       " 'religion': '../data/zero_shot_cot/uk/religion.csv',\n",
       " 'name': '../data/zero_shot_cot/uk/name.csv',\n",
       " 'age': '../data/zero_shot_cot/uk/age.csv'}"
      ]
     },
     "execution_count": 25,
     "metadata": {},
     "output_type": "execute_result"
    }
   ],
   "source": [
    "file_paths"
   ]
  },
  {
   "cell_type": "markdown",
   "metadata": {},
   "source": [
    "## Load Ukrainian Results to HF Datasets"
   ]
  },
  {
   "cell_type": "code",
   "execution_count": 7,
   "metadata": {},
   "outputs": [
    {
     "data": {
      "application/vnd.jupyter.widget-view+json": {
       "model_id": "e104f1bacc7c4b0faa09c179ae578205",
       "version_major": 2,
       "version_minor": 0
      },
      "text/plain": [
       "Uploading the dataset shards:   0%|          | 0/1 [00:00<?, ?it/s]"
      ]
     },
     "metadata": {},
     "output_type": "display_data"
    },
    {
     "data": {
      "application/vnd.jupyter.widget-view+json": {
       "model_id": "9eef7d797fce42eaa1c905d158caf5f8",
       "version_major": 2,
       "version_minor": 0
      },
      "text/plain": [
       "Creating parquet from Arrow format:   0%|          | 0/10 [00:00<?, ?ba/s]"
      ]
     },
     "metadata": {},
     "output_type": "display_data"
    },
    {
     "data": {
      "application/vnd.jupyter.widget-view+json": {
       "model_id": "e34fb30bbf5149daa753c6dd735ba55d",
       "version_major": 2,
       "version_minor": 0
      },
      "text/plain": [
       "Uploading the dataset shards:   0%|          | 0/1 [00:00<?, ?it/s]"
      ]
     },
     "metadata": {},
     "output_type": "display_data"
    },
    {
     "data": {
      "application/vnd.jupyter.widget-view+json": {
       "model_id": "940bcf92690646a5a0cb4bcf286b2356",
       "version_major": 2,
       "version_minor": 0
      },
      "text/plain": [
       "Creating parquet from Arrow format:   0%|          | 0/3 [00:00<?, ?ba/s]"
      ]
     },
     "metadata": {},
     "output_type": "display_data"
    },
    {
     "data": {
      "application/vnd.jupyter.widget-view+json": {
       "model_id": "b037c8a762f644fea469ac8ed4f9050e",
       "version_major": 2,
       "version_minor": 0
      },
      "text/plain": [
       "Uploading the dataset shards:   0%|          | 0/1 [00:00<?, ?it/s]"
      ]
     },
     "metadata": {},
     "output_type": "display_data"
    },
    {
     "data": {
      "application/vnd.jupyter.widget-view+json": {
       "model_id": "5bc3b03ae82041ba847e537f0597244f",
       "version_major": 2,
       "version_minor": 0
      },
      "text/plain": [
       "Creating parquet from Arrow format:   0%|          | 0/3 [00:00<?, ?ba/s]"
      ]
     },
     "metadata": {},
     "output_type": "display_data"
    },
    {
     "data": {
      "application/vnd.jupyter.widget-view+json": {
       "model_id": "27d7699a6b9246c7b3bf44238c18e9d9",
       "version_major": 2,
       "version_minor": 0
      },
      "text/plain": [
       "Uploading the dataset shards:   0%|          | 0/1 [00:00<?, ?it/s]"
      ]
     },
     "metadata": {},
     "output_type": "display_data"
    },
    {
     "data": {
      "application/vnd.jupyter.widget-view+json": {
       "model_id": "81de6ea615064d15afd3b87fe152a562",
       "version_major": 2,
       "version_minor": 0
      },
      "text/plain": [
       "Creating parquet from Arrow format:   0%|          | 0/5 [00:00<?, ?ba/s]"
      ]
     },
     "metadata": {},
     "output_type": "display_data"
    },
    {
     "data": {
      "application/vnd.jupyter.widget-view+json": {
       "model_id": "5f2d1e8b0c944b9398753f55ef11c6d4",
       "version_major": 2,
       "version_minor": 0
      },
      "text/plain": [
       "Uploading the dataset shards:   0%|          | 0/1 [00:00<?, ?it/s]"
      ]
     },
     "metadata": {},
     "output_type": "display_data"
    },
    {
     "data": {
      "application/vnd.jupyter.widget-view+json": {
       "model_id": "af3ec2a8e5e84ba6922f760fa4ed1922",
       "version_major": 2,
       "version_minor": 0
      },
      "text/plain": [
       "Creating parquet from Arrow format:   0%|          | 0/5 [00:00<?, ?ba/s]"
      ]
     },
     "metadata": {},
     "output_type": "display_data"
    },
    {
     "data": {
      "application/vnd.jupyter.widget-view+json": {
       "model_id": "a67e7d30757e4d4ea0773d54b4a94f58",
       "version_major": 2,
       "version_minor": 0
      },
      "text/plain": [
       "Uploading the dataset shards:   0%|          | 0/1 [00:00<?, ?it/s]"
      ]
     },
     "metadata": {},
     "output_type": "display_data"
    },
    {
     "data": {
      "application/vnd.jupyter.widget-view+json": {
       "model_id": "f1479fdf532d42b6bb2c9eaa76c919a3",
       "version_major": 2,
       "version_minor": 0
      },
      "text/plain": [
       "Creating parquet from Arrow format:   0%|          | 0/3 [00:00<?, ?ba/s]"
      ]
     },
     "metadata": {},
     "output_type": "display_data"
    },
    {
     "data": {
      "text/plain": [
       "CommitInfo(commit_url='https://huggingface.co/datasets/Stereotypes-in-LLMs/hiring-analyses-zero_shot_cot-uk/commit/fc4e068c5a0338e885425fd70c2d4d5dc23d77aa', commit_message='Upload dataset', commit_description='', oid='fc4e068c5a0338e885425fd70c2d4d5dc23d77aa', pr_url=None, pr_revision=None, pr_num=None)"
      ]
     },
     "execution_count": 7,
     "metadata": {},
     "output_type": "execute_result"
    }
   ],
   "source": [
    "FILES_PATHS = {\n",
    "    'gender': '../data/zero_shot_cot/uk/gender.csv',\n",
    "    'marital_status': '../data/zero_shot_cot/uk/marital_status.csv',\n",
    "    'military_status': '../data/zero_shot_cot/uk/military_status.csv',\n",
    "    'religion': '../data/zero_shot_cot/uk/religion.csv',\n",
    "    'name': '../data/zero_shot_cot/uk/name.csv',\n",
    "    'age': '../data/zero_shot_cot/uk/age.csv'\n",
    "    }\n",
    "\n",
    "def ukr_decision_fixing(x: str) -> str:\n",
    "    if not x:\n",
    "        return x\n",
    "    for word in x.split():\n",
    "        for part in ['найн', 'наїн', 'наєн', 'прий', 'accept', 'hire']:\n",
    "            if word.lower().startswith(part):\n",
    "                return 'hire'\n",
    "        for part in ['відхил', 'reject', 'відмов', 'вибачте']:\n",
    "            if word.lower().startswith(part):\n",
    "                return 'reject'\n",
    "    return x\n",
    "\n",
    "\n",
    "# load data and push to huggingface\n",
    "dataset_dict = {}\n",
    "for key_name, file_path in FILES_PATHS.items():\n",
    "    df_part = pd.read_csv(file_path, dtype={'protected_attr': str})\n",
    "\n",
    "    df_part = fix_decision_parser(df_part)\n",
    "    df_part['decision'] = df_part['decision'].map(ukr_decision_fixing)\n",
    "    dataset_dict[key_name] = Dataset.from_pandas(df_part)\n",
    "\n",
    "DatasetDict(dataset_dict).push_to_hub('Stereotypes-in-LLMs/hiring-analyses-zero_shot_cot-uk', private=True)"
   ]
  },
  {
   "cell_type": "code",
   "execution_count": 8,
   "metadata": {},
   "outputs": [],
   "source": [
    "# # load data from huggingface\n",
    "# from datasets import load_dataset\n",
    "# dataset = load_dataset(\"Stereotypes-in-LLMs/hiring-analyses-zero_shot_cot-uk\", split=\"gender\")\n",
    "# dataset.to_pandas().head()"
   ]
  },
  {
   "cell_type": "markdown",
   "metadata": {},
   "source": [
    "## Evaluation Scores"
   ]
  },
  {
   "cell_type": "code",
   "execution_count": 9,
   "metadata": {},
   "outputs": [
    {
     "name": "stderr",
     "output_type": "stream",
     "text": [
      "/opt/homebrew/lib/python3.9/site-packages/transformers/utils/generic.py:309: UserWarning: torch.utils._pytree._register_pytree_node is deprecated. Please use torch.utils._pytree.register_pytree_node instead.\n",
      "  _torch_pytree._register_pytree_node(\n"
     ]
    },
    {
     "data": {
      "application/vnd.jupyter.widget-view+json": {
       "model_id": "971dbf4133974f048d6297638c1ddf5a",
       "version_major": 2,
       "version_minor": 0
      },
      "text/plain": [
       "Downloading readme:   0%|          | 0.00/1.29k [00:00<?, ?B/s]"
      ]
     },
     "metadata": {},
     "output_type": "display_data"
    },
    {
     "data": {
      "application/vnd.jupyter.widget-view+json": {
       "model_id": "fc3a990911ab4297bc01c52a61dca6c0",
       "version_major": 2,
       "version_minor": 0
      },
      "text/plain": [
       "Downloading data:   0%|          | 0.00/1.92M [00:00<?, ?B/s]"
      ]
     },
     "metadata": {},
     "output_type": "display_data"
    },
    {
     "data": {
      "application/vnd.jupyter.widget-view+json": {
       "model_id": "b037492d75af47c6a66f575cc1ed6309",
       "version_major": 2,
       "version_minor": 0
      },
      "text/plain": [
       "Downloading data:   0%|          | 0.00/782k [00:00<?, ?B/s]"
      ]
     },
     "metadata": {},
     "output_type": "display_data"
    },
    {
     "data": {
      "application/vnd.jupyter.widget-view+json": {
       "model_id": "4e32cb7b30b34dad9a04d51f3cd201bd",
       "version_major": 2,
       "version_minor": 0
      },
      "text/plain": [
       "Downloading data:   0%|          | 0.00/802k [00:00<?, ?B/s]"
      ]
     },
     "metadata": {},
     "output_type": "display_data"
    },
    {
     "data": {
      "application/vnd.jupyter.widget-view+json": {
       "model_id": "36407532121e4210954f5c68f23078cb",
       "version_major": 2,
       "version_minor": 0
      },
      "text/plain": [
       "Downloading data:   0%|          | 0.00/1.11M [00:00<?, ?B/s]"
      ]
     },
     "metadata": {},
     "output_type": "display_data"
    },
    {
     "data": {
      "application/vnd.jupyter.widget-view+json": {
       "model_id": "efb87f411a344e9fb788cd87d2b02f10",
       "version_major": 2,
       "version_minor": 0
      },
      "text/plain": [
       "Downloading data:   0%|          | 0.00/1.15M [00:00<?, ?B/s]"
      ]
     },
     "metadata": {},
     "output_type": "display_data"
    },
    {
     "data": {
      "application/vnd.jupyter.widget-view+json": {
       "model_id": "5f3276360a064451be4028f263cb5dcc",
       "version_major": 2,
       "version_minor": 0
      },
      "text/plain": [
       "Downloading data:   0%|          | 0.00/885k [00:00<?, ?B/s]"
      ]
     },
     "metadata": {},
     "output_type": "display_data"
    },
    {
     "data": {
      "application/vnd.jupyter.widget-view+json": {
       "model_id": "add7e2a38e6b458f969d17e9e40df032",
       "version_major": 2,
       "version_minor": 0
      },
      "text/plain": [
       "Generating gender split:   0%|          | 0/9900 [00:00<?, ? examples/s]"
      ]
     },
     "metadata": {},
     "output_type": "display_data"
    },
    {
     "data": {
      "application/vnd.jupyter.widget-view+json": {
       "model_id": "316f9b15e9564932bcb26365b4604d3c",
       "version_major": 2,
       "version_minor": 0
      },
      "text/plain": [
       "Generating marital_status split:   0%|          | 0/2250 [00:00<?, ? examples/s]"
      ]
     },
     "metadata": {},
     "output_type": "display_data"
    },
    {
     "data": {
      "application/vnd.jupyter.widget-view+json": {
       "model_id": "1160ce2859a6452ab1c140205b440491",
       "version_major": 2,
       "version_minor": 0
      },
      "text/plain": [
       "Generating military_status split:   0%|          | 0/2250 [00:00<?, ? examples/s]"
      ]
     },
     "metadata": {},
     "output_type": "display_data"
    },
    {
     "data": {
      "application/vnd.jupyter.widget-view+json": {
       "model_id": "f3e6a19a6dd9441d99af58de4ac10393",
       "version_major": 2,
       "version_minor": 0
      },
      "text/plain": [
       "Generating religion split:   0%|          | 0/4050 [00:00<?, ? examples/s]"
      ]
     },
     "metadata": {},
     "output_type": "display_data"
    },
    {
     "data": {
      "application/vnd.jupyter.widget-view+json": {
       "model_id": "5c89889a668c4d23820700061b8f4a86",
       "version_major": 2,
       "version_minor": 0
      },
      "text/plain": [
       "Generating name split:   0%|          | 0/4500 [00:00<?, ? examples/s]"
      ]
     },
     "metadata": {},
     "output_type": "display_data"
    },
    {
     "data": {
      "application/vnd.jupyter.widget-view+json": {
       "model_id": "ccb6b03af71b41baa029a03cb13eafe5",
       "version_major": 2,
       "version_minor": 0
      },
      "text/plain": [
       "Generating age split:   0%|          | 0/2700 [00:00<?, ? examples/s]"
      ]
     },
     "metadata": {},
     "output_type": "display_data"
    }
   ],
   "source": [
    "evaluator = Evalator(\"intfloat/multilingual-e5-large\", \"Stereotypes-in-LLMs/hiring-analyses-zero_shot_cot-uk\", \"zero_shot_cot\")"
   ]
  },
  {
   "cell_type": "code",
   "execution_count": 10,
   "metadata": {},
   "outputs": [
    {
     "data": {
      "text/html": [
       "<div>\n",
       "<style scoped>\n",
       "    .dataframe tbody tr th:only-of-type {\n",
       "        vertical-align: middle;\n",
       "    }\n",
       "\n",
       "    .dataframe tbody tr th {\n",
       "        vertical-align: top;\n",
       "    }\n",
       "\n",
       "    .dataframe thead th {\n",
       "        text-align: right;\n",
       "    }\n",
       "</style>\n",
       "<table border=\"1\" class=\"dataframe\">\n",
       "  <thead>\n",
       "    <tr style=\"text-align: right;\">\n",
       "      <th></th>\n",
       "      <th>experiment_name</th>\n",
       "      <th>protected_group</th>\n",
       "      <th>lang</th>\n",
       "      <th>min_feedback_similarity</th>\n",
       "      <th>median_feedback_similarity</th>\n",
       "      <th>max_feedback_similarity</th>\n",
       "      <th>mean_reject_approve_per_attr</th>\n",
       "      <th>mean_bias_per_attr</th>\n",
       "    </tr>\n",
       "  </thead>\n",
       "  <tbody>\n",
       "    <tr>\n",
       "      <th>0</th>\n",
       "      <td>zero_shot_cot</td>\n",
       "      <td>gender</td>\n",
       "      <td>uk</td>\n",
       "      <td>0.8347</td>\n",
       "      <td>0.9654</td>\n",
       "      <td>1.0</td>\n",
       "      <td>{'Чоловік': 0.0378, 'Жінка': 0.0444, 'Небінарний': 0.0733, 'Гендерфлюїд': 0.0556, 'Гендерквір': 0.0378, 'Агендер': 0.0389, 'Бігендер': 0.0444, 'Дводушний (Твоуспірит)': 0.0978, 'Андрогінний': 0.0444, 'Трансгендер': 0.0356, 'Цісгендер': 0.0533, 'Демігендер': 0.0489, 'Неутроїс': 0.0667, 'Пангендер': 0.0467, 'Квір': 0.04, 'Гендерне невідповідність': 0.0244, 'Інтерсекс': 0.0467, 'Третя стать': 0.0333, 'Деміхлопчик': 0.0356, 'Демідівчина': 0.0778}</td>\n",
       "      <td>{'Чоловік': 0.0133, 'Жінка': 0.0244, 'Небінарний': 0.0489, 'Гендерфлюїд': 0.0311, 'Гендерквір': 0.0133, 'Агендер': 0.0233, 'Бігендер': 0.02, 'Дводушний (Твоуспірит)': 0.0711, 'Андрогінний': 0.0156, 'Трансгендер': 0.0156, 'Цісгендер': 0.0244, 'Демігендер': 0.02, 'Неутроїс': 0.0378, 'Пангендер': 0.0222, 'Квір': 0.0156, 'Гендерне невідповідність': 0.0089, 'Інтерсекс': 0.0178, 'Третя стать': 0.0222, 'Деміхлопчик': 0.0156, 'Демідівчина': 0.0533}</td>\n",
       "    </tr>\n",
       "    <tr>\n",
       "      <th>1</th>\n",
       "      <td>zero_shot_cot</td>\n",
       "      <td>marital_status</td>\n",
       "      <td>uk</td>\n",
       "      <td>0.8688</td>\n",
       "      <td>0.9649</td>\n",
       "      <td>1.0</td>\n",
       "      <td>{'Одружений/Одружена': 0.0533, 'Неодружений/Неодружена': 0.0644, 'Розлучений/Розлучена': 0.04, 'Вдовець/Вдова': 0.0489, 'Цивільний шлюб': 0.0822}</td>\n",
       "      <td>{'Одружений/Одружена': 0.02, 'Неодружений/Неодружена': 0.0267, 'Розлучений/Розлучена': 0.0289, 'Вдовець/Вдова': 0.02, 'Цивільний шлюб': 0.0356}</td>\n",
       "    </tr>\n",
       "    <tr>\n",
       "      <th>2</th>\n",
       "      <td>zero_shot_cot</td>\n",
       "      <td>military_status</td>\n",
       "      <td>uk</td>\n",
       "      <td>0.8509</td>\n",
       "      <td>0.9601</td>\n",
       "      <td>1.0</td>\n",
       "      <td>{'Учасник бойових дій': 0.0267, 'Ветеран війни': 0.0356, 'Резервіст': 0.0378, 'Військовий пенсіонер': 0.0222, 'Цивільний': 0.0444}</td>\n",
       "      <td>{'Учасник бойових дій': 0.0067, 'Ветеран війни': 0.0022, 'Резервіст': 0.0178, 'Військовий пенсіонер': 0.0156, 'Цивільний': 0.0156}</td>\n",
       "    </tr>\n",
       "    <tr>\n",
       "      <th>3</th>\n",
       "      <td>zero_shot_cot</td>\n",
       "      <td>religion</td>\n",
       "      <td>uk</td>\n",
       "      <td>0.8586</td>\n",
       "      <td>0.9630</td>\n",
       "      <td>1.0</td>\n",
       "      <td>{'християнин': 0.0356, 'мусульманин': 0.02, 'атеїст': 0.0378, 'індуїст': 0.0378, 'єврей': 0.04, 'сикх': 0.0311, 'джайніст': 0.0267, 'буддист': 0.0333, 'зороастрист': 0.0222}</td>\n",
       "      <td>{'християнин': 0.0178, 'мусульманин': 0.0067, 'атеїст': 0.0111, 'індуїст': 0.0111, 'єврей': 0.0178, 'сикх': 0.0133, 'джайніст': 0.0044, 'буддист': 0.0111, 'зороастрист': 0.0044}</td>\n",
       "    </tr>\n",
       "    <tr>\n",
       "      <th>4</th>\n",
       "      <td>zero_shot_cot</td>\n",
       "      <td>name</td>\n",
       "      <td>uk</td>\n",
       "      <td>0.7930</td>\n",
       "      <td>0.9617</td>\n",
       "      <td>1.0</td>\n",
       "      <td>{'Зеновія': 0.0778, 'Люся': 0.0822, 'Емма': 0.0867, 'Люсія': 0.0978, 'Сю': 0.08, 'Амартол': 0.0711, 'Ромчик': 0.0578, 'Аарон': 0.0822, 'Хуліан': 0.0889, 'Тигран': 0.0689}</td>\n",
       "      <td>{'Зеновія': 0.0311, 'Люся': 0.0444, 'Емма': 0.04, 'Люсія': 0.0556, 'Сю': 0.0289, 'Амартол': 0.0378, 'Ромчик': 0.0244, 'Аарон': 0.04, 'Хуліан': 0.0422, 'Тигран': 0.04}</td>\n",
       "    </tr>\n",
       "    <tr>\n",
       "      <th>5</th>\n",
       "      <td>zero_shot_cot</td>\n",
       "      <td>age</td>\n",
       "      <td>uk</td>\n",
       "      <td>0.8516</td>\n",
       "      <td>0.9574</td>\n",
       "      <td>1.0</td>\n",
       "      <td>{'20': 0.0556, '30': 0.0622, '40': 0.0244, '50': 0.0156, '60': 0.0044, '70': 0.0044}</td>\n",
       "      <td>{'20': 0.0444, '30': 0.0511, '40': 0.0133, '50': 0.0044, '60': 0.0067, '70': 0.0067}</td>\n",
       "    </tr>\n",
       "  </tbody>\n",
       "</table>\n",
       "</div>"
      ],
      "text/plain": [
       "  experiment_name  protected_group lang  min_feedback_similarity   \n",
       "0   zero_shot_cot           gender   uk                   0.8347  \\\n",
       "1   zero_shot_cot   marital_status   uk                   0.8688   \n",
       "2   zero_shot_cot  military_status   uk                   0.8509   \n",
       "3   zero_shot_cot         religion   uk                   0.8586   \n",
       "4   zero_shot_cot             name   uk                   0.7930   \n",
       "5   zero_shot_cot              age   uk                   0.8516   \n",
       "\n",
       "   median_feedback_similarity  max_feedback_similarity   \n",
       "0                      0.9654                      1.0  \\\n",
       "1                      0.9649                      1.0   \n",
       "2                      0.9601                      1.0   \n",
       "3                      0.9630                      1.0   \n",
       "4                      0.9617                      1.0   \n",
       "5                      0.9574                      1.0   \n",
       "\n",
       "                                                                                                                                                                                                                                                                                                                                                                                                                                     mean_reject_approve_per_attr   \n",
       "0  {'Чоловік': 0.0378, 'Жінка': 0.0444, 'Небінарний': 0.0733, 'Гендерфлюїд': 0.0556, 'Гендерквір': 0.0378, 'Агендер': 0.0389, 'Бігендер': 0.0444, 'Дводушний (Твоуспірит)': 0.0978, 'Андрогінний': 0.0444, 'Трансгендер': 0.0356, 'Цісгендер': 0.0533, 'Демігендер': 0.0489, 'Неутроїс': 0.0667, 'Пангендер': 0.0467, 'Квір': 0.04, 'Гендерне невідповідність': 0.0244, 'Інтерсекс': 0.0467, 'Третя стать': 0.0333, 'Деміхлопчик': 0.0356, 'Демідівчина': 0.0778}  \\\n",
       "1                                                                                                                                                                                                                                                                                                               {'Одружений/Одружена': 0.0533, 'Неодружений/Неодружена': 0.0644, 'Розлучений/Розлучена': 0.04, 'Вдовець/Вдова': 0.0489, 'Цивільний шлюб': 0.0822}   \n",
       "2                                                                                                                                                                                                                                                                                                                              {'Учасник бойових дій': 0.0267, 'Ветеран війни': 0.0356, 'Резервіст': 0.0378, 'Військовий пенсіонер': 0.0222, 'Цивільний': 0.0444}   \n",
       "3                                                                                                                                                                                                                                                                                   {'християнин': 0.0356, 'мусульманин': 0.02, 'атеїст': 0.0378, 'індуїст': 0.0378, 'єврей': 0.04, 'сикх': 0.0311, 'джайніст': 0.0267, 'буддист': 0.0333, 'зороастрист': 0.0222}   \n",
       "4                                                                                                                                                                                                                                                                                      {'Зеновія': 0.0778, 'Люся': 0.0822, 'Емма': 0.0867, 'Люсія': 0.0978, 'Сю': 0.08, 'Амартол': 0.0711, 'Ромчик': 0.0578, 'Аарон': 0.0822, 'Хуліан': 0.0889, 'Тигран': 0.0689}   \n",
       "5                                                                                                                                                                                                                                                                                                                                                                            {'20': 0.0556, '30': 0.0622, '40': 0.0244, '50': 0.0156, '60': 0.0044, '70': 0.0044}   \n",
       "\n",
       "                                                                                                                                                                                                                                                                                                                                                                                                                                             mean_bias_per_attr  \n",
       "0  {'Чоловік': 0.0133, 'Жінка': 0.0244, 'Небінарний': 0.0489, 'Гендерфлюїд': 0.0311, 'Гендерквір': 0.0133, 'Агендер': 0.0233, 'Бігендер': 0.02, 'Дводушний (Твоуспірит)': 0.0711, 'Андрогінний': 0.0156, 'Трансгендер': 0.0156, 'Цісгендер': 0.0244, 'Демігендер': 0.02, 'Неутроїс': 0.0378, 'Пангендер': 0.0222, 'Квір': 0.0156, 'Гендерне невідповідність': 0.0089, 'Інтерсекс': 0.0178, 'Третя стать': 0.0222, 'Деміхлопчик': 0.0156, 'Демідівчина': 0.0533}  \n",
       "1                                                                                                                                                                                                                                                                                                               {'Одружений/Одружена': 0.02, 'Неодружений/Неодружена': 0.0267, 'Розлучений/Розлучена': 0.0289, 'Вдовець/Вдова': 0.02, 'Цивільний шлюб': 0.0356}  \n",
       "2                                                                                                                                                                                                                                                                                                                            {'Учасник бойових дій': 0.0067, 'Ветеран війни': 0.0022, 'Резервіст': 0.0178, 'Військовий пенсіонер': 0.0156, 'Цивільний': 0.0156}  \n",
       "3                                                                                                                                                                                                                                                                             {'християнин': 0.0178, 'мусульманин': 0.0067, 'атеїст': 0.0111, 'індуїст': 0.0111, 'єврей': 0.0178, 'сикх': 0.0133, 'джайніст': 0.0044, 'буддист': 0.0111, 'зороастрист': 0.0044}  \n",
       "4                                                                                                                                                                                                                                                                                        {'Зеновія': 0.0311, 'Люся': 0.0444, 'Емма': 0.04, 'Люсія': 0.0556, 'Сю': 0.0289, 'Амартол': 0.0378, 'Ромчик': 0.0244, 'Аарон': 0.04, 'Хуліан': 0.0422, 'Тигран': 0.04}  \n",
       "5                                                                                                                                                                                                                                                                                                                                                                          {'20': 0.0444, '30': 0.0511, '40': 0.0133, '50': 0.0044, '60': 0.0067, '70': 0.0067}  "
      ]
     },
     "execution_count": 10,
     "metadata": {},
     "output_type": "execute_result"
    }
   ],
   "source": [
    "df_report = evaluator.get_report()\n",
    "df_report"
   ]
  },
  {
   "cell_type": "code",
   "execution_count": 11,
   "metadata": {},
   "outputs": [
    {
     "name": "stdout",
     "output_type": "stream",
     "text": [
      "Report saved to ../data/evaluation_results_uk.csv\n"
     ]
    }
   ],
   "source": [
    "EVALUATION_FILE  = '../data/evaluation_results_uk.csv'\n",
    "evaluator.save_report(df_report, EVALUATION_FILE)"
   ]
  },
  {
   "cell_type": "code",
   "execution_count": null,
   "metadata": {},
   "outputs": [],
   "source": []
  }
 ],
 "metadata": {
  "kernelspec": {
   "display_name": "py310",
   "language": "python",
   "name": "python3"
  },
  "language_info": {
   "codemirror_mode": {
    "name": "ipython",
    "version": 3
   },
   "file_extension": ".py",
   "mimetype": "text/x-python",
   "name": "python",
   "nbconvert_exporter": "python",
   "pygments_lexer": "ipython3",
   "version": "3.9.18"
  }
 },
 "nbformat": 4,
 "nbformat_minor": 2
}
